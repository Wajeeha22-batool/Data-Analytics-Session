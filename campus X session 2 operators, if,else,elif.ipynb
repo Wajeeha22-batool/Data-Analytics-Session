{
 "cells": [
  {
   "cell_type": "code",
   "execution_count": null,
   "id": "973d8df9-c398-4ec7-8bf9-24d3e708a31c",
   "metadata": {},
   "outputs": [],
   "source": []
  },
  {
   "cell_type": "code",
   "execution_count": null,
   "id": "d08fb7ca-9ffe-41cd-add7-e85b2ed75e97",
   "metadata": {},
   "outputs": [],
   "source": []
  },
  {
   "cell_type": "code",
   "execution_count": null,
   "id": "d943d4fd-b3fa-4226-b60f-c44c16c20832",
   "metadata": {},
   "outputs": [],
   "source": []
  },
  {
   "cell_type": "code",
   "execution_count": null,
   "id": "5de20074-22a4-4c15-90eb-07c762a697b5",
   "metadata": {},
   "outputs": [],
   "source": []
  },
  {
   "cell_type": "code",
   "execution_count": null,
   "id": "4b0a7a3d-7c38-4c26-a3f8-5371b75e5e40",
   "metadata": {},
   "outputs": [],
   "source": []
  },
  {
   "cell_type": "code",
   "execution_count": null,
   "id": "b53b7867-72c6-44f9-8927-5d7b7b8c6e46",
   "metadata": {},
   "outputs": [],
   "source": []
  },
  {
   "cell_type": "code",
   "execution_count": null,
   "id": "493b57fb-6180-43ed-a0e2-25ebfe75f105",
   "metadata": {},
   "outputs": [],
   "source": []
  },
  {
   "cell_type": "code",
   "execution_count": null,
   "id": "c6c5bd84-a7d6-4df7-8574-c7285f2fca1d",
   "metadata": {},
   "outputs": [],
   "source": []
  },
  {
   "cell_type": "code",
   "execution_count": null,
   "id": "1d2e88e8-9684-4a9b-af38-aae4b77364cb",
   "metadata": {},
   "outputs": [],
   "source": []
  },
  {
   "cell_type": "code",
   "execution_count": null,
   "id": "18f450d5-012a-40ef-b1da-6de84b8c7542",
   "metadata": {},
   "outputs": [],
   "source": []
  },
  {
   "cell_type": "code",
   "execution_count": null,
   "id": "65b88c06-bf6a-4fd0-9150-99d58338ba99",
   "metadata": {},
   "outputs": [],
   "source": []
  },
  {
   "cell_type": "markdown",
   "id": "f334abea-ce51-4c75-b267-9afc70d7fc85",
   "metadata": {},
   "source": [
    "# if, elif, else"
   ]
  },
  {
   "cell_type": "code",
   "execution_count": 12,
   "id": "2c717a09-4d7a-4533-9ae0-8e58d947a240",
   "metadata": {},
   "outputs": [
    {
     "name": "stdout",
     "output_type": "stream",
     "text": [
      "odd and big\n"
     ]
    }
   ],
   "source": [
    "number = 67\n",
    "if number%2==0 and number > 50:\n",
    "    print(\"even and big\")\n",
    "elif number%2==0 and number <=50:\n",
    "    print('even and small')\n",
    "elif number%2 !=0 and number> 50:\n",
    "    print(\"odd and big\")\n",
    "else:\n",
    "    print(\"odd and small\")"
   ]
  },
  {
   "cell_type": "code",
   "execution_count": null,
   "id": "d5afceff-b84c-489d-a1af-b1d20bdc2f5d",
   "metadata": {},
   "outputs": [],
   "source": []
  }
 ],
 "metadata": {
  "kernelspec": {
   "display_name": "Python 3 (ipykernel)",
   "language": "python",
   "name": "python3"
  },
  "language_info": {
   "codemirror_mode": {
    "name": "ipython",
    "version": 3
   },
   "file_extension": ".py",
   "mimetype": "text/x-python",
   "name": "python",
   "nbconvert_exporter": "python",
   "pygments_lexer": "ipython3",
   "version": "3.12.7"
  }
 },
 "nbformat": 4,
 "nbformat_minor": 5
}
