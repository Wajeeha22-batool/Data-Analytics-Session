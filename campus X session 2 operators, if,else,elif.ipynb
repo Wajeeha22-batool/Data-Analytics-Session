{
 "cells": [
  {
   "cell_type": "code",
   "execution_count": null,
   "id": "28b80a1a-6bdc-4342-aa65-a6491f657fd1",
   "metadata": {},
   "outputs": [],
   "source": [
    "# if"
   ]
  },
  {
   "cell_type": "code",
   "execution_count": 12,
   "id": "2c717a09-4d7a-4533-9ae0-8e58d947a240",
   "metadata": {},
   "outputs": [
    {
     "name": "stdout",
     "output_type": "stream",
     "text": [
      "odd and big\n"
     ]
    }
   ],
   "source": [
    "number = 67\n",
    "if number%2==0 and number > 50:\n",
    "    print(\"even and big\")\n",
    "elif number%2==0 and number <=50:\n",
    "    print('even and small')\n",
    "elif number%2 !=0 and number> 50:\n",
    "    print(\"odd and big\")\n",
    "else:\n",
    "    print(\"odd and small\")"
   ]
  },
  {
   "cell_type": "code",
   "execution_count": null,
   "id": "d5afceff-b84c-489d-a1af-b1d20bdc2f5d",
   "metadata": {},
   "outputs": [],
   "source": []
  }
 ],
 "metadata": {
  "kernelspec": {
   "display_name": "Python 3 (ipykernel)",
   "language": "python",
   "name": "python3"
  },
  "language_info": {
   "codemirror_mode": {
    "name": "ipython",
    "version": 3
   },
   "file_extension": ".py",
   "mimetype": "text/x-python",
   "name": "python",
   "nbconvert_exporter": "python",
   "pygments_lexer": "ipython3",
   "version": "3.12.7"
  }
 },
 "nbformat": 4,
 "nbformat_minor": 5
}
