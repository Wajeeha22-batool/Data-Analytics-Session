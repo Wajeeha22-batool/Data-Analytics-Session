{
 "cells": [
  {
   "cell_type": "code",
   "execution_count": 1,
   "id": "0140f868-063b-4495-8609-36139e2c89fb",
   "metadata": {},
   "outputs": [
    {
     "data": {
      "text/plain": [
       "['__add__',\n",
       " '__class__',\n",
       " '__contains__',\n",
       " '__delattr__',\n",
       " '__dir__',\n",
       " '__doc__',\n",
       " '__eq__',\n",
       " '__format__',\n",
       " '__ge__',\n",
       " '__getattribute__',\n",
       " '__getitem__',\n",
       " '__getnewargs__',\n",
       " '__getstate__',\n",
       " '__gt__',\n",
       " '__hash__',\n",
       " '__init__',\n",
       " '__init_subclass__',\n",
       " '__iter__',\n",
       " '__le__',\n",
       " '__len__',\n",
       " '__lt__',\n",
       " '__mod__',\n",
       " '__mul__',\n",
       " '__ne__',\n",
       " '__new__',\n",
       " '__reduce__',\n",
       " '__reduce_ex__',\n",
       " '__repr__',\n",
       " '__rmod__',\n",
       " '__rmul__',\n",
       " '__setattr__',\n",
       " '__sizeof__',\n",
       " '__str__',\n",
       " '__subclasshook__',\n",
       " 'capitalize',\n",
       " 'casefold',\n",
       " 'center',\n",
       " 'count',\n",
       " 'encode',\n",
       " 'endswith',\n",
       " 'expandtabs',\n",
       " 'find',\n",
       " 'format',\n",
       " 'format_map',\n",
       " 'index',\n",
       " 'isalnum',\n",
       " 'isalpha',\n",
       " 'isascii',\n",
       " 'isdecimal',\n",
       " 'isdigit',\n",
       " 'isidentifier',\n",
       " 'islower',\n",
       " 'isnumeric',\n",
       " 'isprintable',\n",
       " 'isspace',\n",
       " 'istitle',\n",
       " 'isupper',\n",
       " 'join',\n",
       " 'ljust',\n",
       " 'lower',\n",
       " 'lstrip',\n",
       " 'maketrans',\n",
       " 'partition',\n",
       " 'removeprefix',\n",
       " 'removesuffix',\n",
       " 'replace',\n",
       " 'rfind',\n",
       " 'rindex',\n",
       " 'rjust',\n",
       " 'rpartition',\n",
       " 'rsplit',\n",
       " 'rstrip',\n",
       " 'split',\n",
       " 'splitlines',\n",
       " 'startswith',\n",
       " 'strip',\n",
       " 'swapcase',\n",
       " 'title',\n",
       " 'translate',\n",
       " 'upper',\n",
       " 'zfill']"
      ]
     },
     "execution_count": 1,
     "metadata": {},
     "output_type": "execute_result"
    }
   ],
   "source": [
    "dir(\"\")"
   ]
  },
  {
   "cell_type": "code",
   "execution_count": 2,
   "id": "2e8cd63a-2f8c-4398-8c22-92cd1a331abe",
   "metadata": {},
   "outputs": [
    {
     "data": {
      "text/plain": [
       "'       khushboo saleem        '"
      ]
     },
     "execution_count": 2,
     "metadata": {},
     "output_type": "execute_result"
    }
   ],
   "source": [
    "name = \"       khushboo saleem        \"\n",
    "name"
   ]
  },
  {
   "cell_type": "code",
   "execution_count": 3,
   "id": "0a3ce39c-bfeb-4f3f-9443-9e121a0aed39",
   "metadata": {},
   "outputs": [
    {
     "data": {
      "text/plain": [
       "'khushboo saleem'"
      ]
     },
     "execution_count": 3,
     "metadata": {},
     "output_type": "execute_result"
    }
   ],
   "source": [
    "name.strip()"
   ]
  },
  {
   "cell_type": "code",
   "execution_count": 4,
   "id": "687f98e1-746e-4527-bbcf-e6303efab297",
   "metadata": {},
   "outputs": [
    {
     "ename": "TypeError",
     "evalue": "len() takes exactly one argument (0 given)",
     "output_type": "error",
     "traceback": [
      "\u001b[1;31m---------------------------------------------------------------------------\u001b[0m",
      "\u001b[1;31mTypeError\u001b[0m                                 Traceback (most recent call last)",
      "Cell \u001b[1;32mIn[4], line 1\u001b[0m\n\u001b[1;32m----> 1\u001b[0m \u001b[38;5;28mlen\u001b[39m()\n\u001b[0;32m      2\u001b[0m \u001b[38;5;28mtype\u001b[39m()\n",
      "\u001b[1;31mTypeError\u001b[0m: len() takes exactly one argument (0 given)"
     ]
    }
   ],
   "source": [
    "len()\n",
    "type()"
   ]
  },
  {
   "cell_type": "code",
   "execution_count": 5,
   "id": "6256d851-9b41-4e46-b02b-f2017e0e21b8",
   "metadata": {},
   "outputs": [
    {
     "data": {
      "text/plain": [
       "['khushboo', 'saleem']"
      ]
     },
     "execution_count": 5,
     "metadata": {},
     "output_type": "execute_result"
    }
   ],
   "source": [
    "# split\n",
    "\n",
    "name.split()"
   ]
  },
  {
   "cell_type": "code",
   "execution_count": 6,
   "id": "7f979257-4b68-48fa-8846-e2948bd7011e",
   "metadata": {},
   "outputs": [],
   "source": [
    "session = \"We are completed 3 assignment\".split()"
   ]
  },
  {
   "cell_type": "code",
   "execution_count": 7,
   "id": "331f2603-16ef-4ab8-bbfd-f16c74acb406",
   "metadata": {},
   "outputs": [
    {
     "data": {
      "text/plain": [
       "['We', 'are', 'completed', '3', 'assignment']"
      ]
     },
     "execution_count": 7,
     "metadata": {},
     "output_type": "execute_result"
    }
   ],
   "source": [
    "session"
   ]
  },
  {
   "cell_type": "code",
   "execution_count": 8,
   "id": "58117d27-fba6-449c-957d-c3aa77e68e0d",
   "metadata": {},
   "outputs": [
    {
     "data": {
      "text/plain": [
       "['We-are-completed-3-assignment']"
      ]
     },
     "execution_count": 8,
     "metadata": {},
     "output_type": "execute_result"
    }
   ],
   "source": [
    "\"We-are-completed-3-assignment\".split()\n"
   ]
  },
  {
   "cell_type": "code",
   "execution_count": 9,
   "id": "e4e4bee0-b420-4e37-b856-0dfd0e964c57",
   "metadata": {},
   "outputs": [
    {
     "data": {
      "text/plain": [
       "['We', 'are', 'completed', '3', 'assignment']"
      ]
     },
     "execution_count": 9,
     "metadata": {},
     "output_type": "execute_result"
    }
   ],
   "source": [
    "\"We-are-completed-3-assignment\".split(\"-\")\n"
   ]
  },
  {
   "cell_type": "code",
   "execution_count": 10,
   "id": "90cdb5b3-8381-411d-ac62-835da71f4940",
   "metadata": {},
   "outputs": [
    {
     "data": {
      "text/plain": [
       "['abc', 'gmail.com']"
      ]
     },
     "execution_count": 10,
     "metadata": {},
     "output_type": "execute_result"
    }
   ],
   "source": [
    "\"abc@gmail.com\".split(\"@\")"
   ]
  },
  {
   "cell_type": "code",
   "execution_count": 11,
   "id": "aa4f61bc-ca72-4da2-b4bc-dc7c24d965c2",
   "metadata": {},
   "outputs": [
    {
     "data": {
      "text/plain": [
       "'KHUSHBOO SALEEM'"
      ]
     },
     "execution_count": 11,
     "metadata": {},
     "output_type": "execute_result"
    }
   ],
   "source": [
    "# upper\n",
    "upper = name.upper().strip()\n",
    "upper"
   ]
  },
  {
   "cell_type": "code",
   "execution_count": 12,
   "id": "e7427bb5-ad4d-459b-ae19-dcb0c9d152c3",
   "metadata": {},
   "outputs": [
    {
     "data": {
      "text/plain": [
       "'khushboo saleem'"
      ]
     },
     "execution_count": 12,
     "metadata": {},
     "output_type": "execute_result"
    }
   ],
   "source": [
    "# lower\n",
    "lower = upper.lower()\n",
    "lower"
   ]
  },
  {
   "cell_type": "code",
   "execution_count": 13,
   "id": "ea6458f6-6e3a-4976-9ea0-87cc386d1f7f",
   "metadata": {},
   "outputs": [
    {
     "data": {
      "text/plain": [
       "'KHUSHBOO SALEEM'"
      ]
     },
     "execution_count": 13,
     "metadata": {},
     "output_type": "execute_result"
    }
   ],
   "source": [
    "upper"
   ]
  },
  {
   "cell_type": "code",
   "execution_count": 14,
   "id": "0be4385a-8ef5-447b-83b5-67293d8f96e4",
   "metadata": {},
   "outputs": [
    {
     "data": {
      "text/plain": [
       "'We are completed 4 assignment'"
      ]
     },
     "execution_count": 14,
     "metadata": {},
     "output_type": "execute_result"
    }
   ],
   "source": [
    "# replace\n",
    "\"We are completed 3 assignment\".replace(\"3\",\"4\")"
   ]
  },
  {
   "cell_type": "code",
   "execution_count": 15,
   "id": "211cf975-939e-4558-8794-290734e27de0",
   "metadata": {},
   "outputs": [
    {
     "data": {
      "text/plain": [
       "False"
      ]
     },
     "execution_count": 15,
     "metadata": {},
     "output_type": "execute_result"
    }
   ],
   "source": [
    "\"SANA\".islower()"
   ]
  },
  {
   "cell_type": "code",
   "execution_count": 17,
   "id": "ff52b0c2-5099-4a39-8d07-b43ca9f7f0e0",
   "metadata": {},
   "outputs": [
    {
     "data": {
      "text/plain": [
       "False"
      ]
     },
     "execution_count": 17,
     "metadata": {},
     "output_type": "execute_result"
    }
   ],
   "source": [
    "\"1234ana\".isdigit()"
   ]
  },
  {
   "cell_type": "code",
   "execution_count": 18,
   "id": "95a4c765-3f47-4127-afdc-ee1792e59dfd",
   "metadata": {},
   "outputs": [
    {
     "data": {
      "text/plain": [
       "False"
      ]
     },
     "execution_count": 18,
     "metadata": {},
     "output_type": "execute_result"
    }
   ],
   "source": [
    "\"We are completed 3 assignment\".endswith(\"3\")"
   ]
  },
  {
   "cell_type": "code",
   "execution_count": 21,
   "id": "9cacb727-d7c8-4a45-9866-beea3d62efb4",
   "metadata": {},
   "outputs": [
    {
     "data": {
      "text/plain": [
       "False"
      ]
     },
     "execution_count": 21,
     "metadata": {},
     "output_type": "execute_result"
    }
   ],
   "source": [
    "\"We are completed 3 assignment\".startswith(\"we\")"
   ]
  },
  {
   "cell_type": "code",
   "execution_count": 22,
   "id": "6ab3eacc-82ca-4ebc-9785-caf7649c2d91",
   "metadata": {},
   "outputs": [
    {
     "data": {
      "text/plain": [
       "True"
      ]
     },
     "execution_count": 22,
     "metadata": {},
     "output_type": "execute_result"
    }
   ],
   "source": [
    "\"We are completed 3 assignment\".startswith(\"We\")"
   ]
  },
  {
   "cell_type": "code",
   "execution_count": 31,
   "id": "26165b3e-75bf-46db-b0c4-53e7e4f62f34",
   "metadata": {},
   "outputs": [
    {
     "data": {
      "text/plain": [
       "5"
      ]
     },
     "execution_count": 31,
     "metadata": {},
     "output_type": "execute_result"
    }
   ],
   "source": [
    "emp_name = 5\n",
    "emp_name"
   ]
  },
  {
   "cell_type": "code",
   "execution_count": 33,
   "id": "b9e8f24e-88c7-453a-a326-9f4dfa35a63c",
   "metadata": {},
   "outputs": [
    {
     "name": "stdout",
     "output_type": "stream",
     "text": [
      "This is employee name: 5\n"
     ]
    }
   ],
   "source": [
    "print(f'This is employee name: {emp_name}')"
   ]
  },
  {
   "cell_type": "code",
   "execution_count": 34,
   "id": "1a00b5af-a383-4ebf-b485-79320daeea2c",
   "metadata": {},
   "outputs": [
    {
     "name": "stdout",
     "output_type": "stream",
     "text": [
      "this isemployee 5\n"
     ]
    }
   ],
   "source": [
    "print(\"this\"+ \" \" +\"is\"+\"employee\" + \" \" + str(emp_name))"
   ]
  },
  {
   "cell_type": "code",
   "execution_count": null,
   "id": "8243283b-74d3-4e42-9f3d-0f927ca5b12d",
   "metadata": {},
   "outputs": [],
   "source": []
  }
 ],
 "metadata": {
  "kernelspec": {
   "display_name": "Python 3 (ipykernel)",
   "language": "python",
   "name": "python3"
  },
  "language_info": {
   "codemirror_mode": {
    "name": "ipython",
    "version": 3
   },
   "file_extension": ".py",
   "mimetype": "text/x-python",
   "name": "python",
   "nbconvert_exporter": "python",
   "pygments_lexer": "ipython3",
   "version": "3.12.7"
  }
 },
 "nbformat": 4,
 "nbformat_minor": 5
}
