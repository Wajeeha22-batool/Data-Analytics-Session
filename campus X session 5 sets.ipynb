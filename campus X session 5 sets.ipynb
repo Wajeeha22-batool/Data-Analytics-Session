{
 "cells": [
  {
   "cell_type": "markdown",
   "id": "165358d0-90e1-4fee-a346-62489e4a515f",
   "metadata": {},
   "source": [
    "# sets"
   ]
  },
  {
   "cell_type": "raw",
   "id": "0e4285e6-2c7d-44a3-9323-4a1282e75803",
   "metadata": {},
   "source": [
    "two compare two population\n",
    "A set is a collection of unique, unordered items.\n",
    "It is defined using {} (curly braces) or with the set() function.\n",
    "Duplicates are automatically removed.\n",
    "Items inside a set must be immutable (like numbers, strings, tuples) but the set itself is mutable (we can add/remove items).\n",
    "perform mathematical operations like union, interssection and systematic differences etc\n",
    "characteristics:\n",
    "unordered\n",
    "mutable add or delete\n",
    "no duplicates\n",
    "can't contain mutable datatypes (set within a set)"
   ]
  },
  {
   "cell_type": "markdown",
   "id": "c5beaa4f-3935-4fd8-a062-1dd6ec4ee95f",
   "metadata": {},
   "source": [
    "# creating a set"
   ]
  },
  {
   "cell_type": "code",
   "execution_count": 17,
   "id": "f7a15abd-7059-46b3-b185-6a18ee2a99aa",
   "metadata": {},
   "outputs": [
    {
     "name": "stdout",
     "output_type": "stream",
     "text": [
      "{}\n",
      "<class 'dict'>\n",
      "set()\n",
      "<class 'set'>\n",
      "{1, 2, 3}\n",
      "{(5, 6, 7), 1, 2, 3, 4}\n",
      "{1, 2, 3, 'wajiha'}\n",
      "{1, 2, 3, 4, 5}\n",
      "{1, 2, 3, 4, 5, 7, 8}\n"
     ]
    }
   ],
   "source": [
    "# empty set\n",
    "S = {} # dict\n",
    "print(S)\n",
    "print(type(S))\n",
    "\n",
    "s = set()\n",
    "print(s)\n",
    "print(type(s))\n",
    "\n",
    "# 1D and 2D \n",
    "s1 = {1,2,3}\n",
    "print(s1)\n",
    "\n",
    "# s2 = {1,2,3,{4,5,6}} # hashable error mutable datatype within set\n",
    "# print(s2)\n",
    "\n",
    "s3 = {1,2,3,4,(5,6,7)} #ordering depend on algorithm hashing  \n",
    "print(s3)\n",
    "\n",
    "# homo and hetero\n",
    "s4 = {1,2,3,\"wajiha\", True} # not support duplicates, bcz python treat True as 1\n",
    "print(s4)\n",
    "\n",
    "# using type conversion\n",
    "s5 = set({1,2,3,4,5})\n",
    "print(s5)\n",
    "\n",
    "# duplicates not allowed\n",
    "s6 = {1,1,2,2,2,3,4,5,5,7,8}\n",
    "print(s6)\n",
    "\n",
    "# sets can't have mutable datatypes/items\n",
    "# s7 = {1,2,3,[3,4,5]}\n",
    "# print(s7)"
   ]
  },
  {
   "cell_type": "code",
   "execution_count": 22,
   "id": "70cb1530-c122-4537-ae97-e37b5362befd",
   "metadata": {},
   "outputs": [
    {
     "name": "stdout",
     "output_type": "stream",
     "text": [
      "True\n"
     ]
    }
   ],
   "source": [
    "# order not matter, both sets are equal (not in list and tuple)\n",
    "set1 = {1,2,3}\n",
    "set2 = {3,2,1}\n",
    "print(set1 == set2)\n"
   ]
  },
  {
   "cell_type": "code",
   "execution_count": 47,
   "id": "78d1e650-352d-4186-b32b-0cba9cc9ec54",
   "metadata": {},
   "outputs": [
    {
     "data": {
      "text/plain": [
       "['__and__',\n",
       " '__class__',\n",
       " '__class_getitem__',\n",
       " '__contains__',\n",
       " '__delattr__',\n",
       " '__dir__',\n",
       " '__doc__',\n",
       " '__eq__',\n",
       " '__format__',\n",
       " '__ge__',\n",
       " '__getattribute__',\n",
       " '__getstate__',\n",
       " '__gt__',\n",
       " '__hash__',\n",
       " '__iand__',\n",
       " '__init__',\n",
       " '__init_subclass__',\n",
       " '__ior__',\n",
       " '__isub__',\n",
       " '__iter__',\n",
       " '__ixor__',\n",
       " '__le__',\n",
       " '__len__',\n",
       " '__lt__',\n",
       " '__ne__',\n",
       " '__new__',\n",
       " '__or__',\n",
       " '__rand__',\n",
       " '__reduce__',\n",
       " '__reduce_ex__',\n",
       " '__repr__',\n",
       " '__ror__',\n",
       " '__rsub__',\n",
       " '__rxor__',\n",
       " '__setattr__',\n",
       " '__sizeof__',\n",
       " '__str__',\n",
       " '__sub__',\n",
       " '__subclasshook__',\n",
       " '__xor__',\n",
       " 'add',\n",
       " 'clear',\n",
       " 'copy',\n",
       " 'difference',\n",
       " 'difference_update',\n",
       " 'discard',\n",
       " 'intersection',\n",
       " 'intersection_update',\n",
       " 'isdisjoint',\n",
       " 'issubset',\n",
       " 'issuperset',\n",
       " 'pop',\n",
       " 'remove',\n",
       " 'symmetric_difference',\n",
       " 'symmetric_difference_update',\n",
       " 'union',\n",
       " 'update']"
      ]
     },
     "execution_count": 47,
     "metadata": {},
     "output_type": "execute_result"
    }
   ],
   "source": [
    "dir(set)"
   ]
  },
  {
   "cell_type": "markdown",
   "id": "63dac2ec-fb08-45b0-be4d-f6a0c1e5665d",
   "metadata": {},
   "source": [
    "# accessing and editing item"
   ]
  },
  {
   "cell_type": "code",
   "execution_count": 25,
   "id": "c823afff-db3d-46b5-ba61-73b2c61b400e",
   "metadata": {},
   "outputs": [],
   "source": [
    "# # not possible through indexing and slicing b/c set is unordered\n",
    "# s1 = {1,2,3,4}\n",
    "# s1[2]\n",
    "\n",
    "# # editing also not possible b/c indexing and slicing is not possible\n",
    "# s2 = {4,5,6}\n",
    "# s2[2] = 8"
   ]
  },
  {
   "cell_type": "markdown",
   "id": "6f53d829-68bc-44b3-b1c2-353a5fd594f7",
   "metadata": {},
   "source": [
    "# adding items"
   ]
  },
  {
   "cell_type": "code",
   "execution_count": 29,
   "id": "9bc36fd6-771f-4250-a43c-074bc3a48073",
   "metadata": {},
   "outputs": [
    {
     "name": "stdout",
     "output_type": "stream",
     "text": [
      "{1, 2, 3, 4, 5}\n",
      "{1, 2, 3, 4, 5, 6, 7, 8, 9, 10}\n"
     ]
    }
   ],
   "source": [
    "S = {1,2,3,4}\n",
    "# add (hashing control the position of new item)\n",
    "S.add(5)\n",
    "print(S)\n",
    "\n",
    "# update\n",
    "S.update([6,7,8,9,10])\n",
    "print(S)"
   ]
  },
  {
   "cell_type": "markdown",
   "id": "a840aedb-6ee9-4ac6-8929-46e2f8089367",
   "metadata": {},
   "source": [
    "# deleting items"
   ]
  },
  {
   "cell_type": "code",
   "execution_count": 46,
   "id": "94231705-901a-46bd-8598-636705c7731d",
   "metadata": {},
   "outputs": [
    {
     "name": "stdout",
     "output_type": "stream",
     "text": [
      "{0, 6, 7, 8, 9}\n",
      "{0, 7, 8, 9}\n",
      "{0, 7, 8, 9}\n",
      "{0, 8, 9}\n",
      "{2, 3, 4, 5, 6}\n",
      "set()\n"
     ]
    }
   ],
   "source": [
    "# del whole set delete\n",
    "s = {0,9,8,7,6}\n",
    "print(s)\n",
    "# del s\n",
    "# print(s)\n",
    "\n",
    "# discard (particular item delete)\n",
    "s.discard(6)\n",
    "print(s)\n",
    "\n",
    "s.discard(100) # 100 not present in the set but discard not show any error\n",
    "print(s)\n",
    "\n",
    "# remove (same as discard)\n",
    "s.remove(7)\n",
    "print(s)\n",
    "\n",
    "# s.remove(500) # 500 not present in the set but remove show error\n",
    "# print(s)\n",
    "\n",
    "# pop (randomly delete any item)\n",
    "E = {1,2,3,4,5,6}\n",
    "E.pop()\n",
    "print(E)\n",
    "\n",
    "# clear\n",
    "E.clear()\n",
    "print(E)"
   ]
  },
  {
   "cell_type": "markdown",
   "id": "e650a329-0038-41b1-8a0a-f0d845b7ebb6",
   "metadata": {},
   "source": [
    "# set operation"
   ]
  },
  {
   "cell_type": "code",
   "execution_count": 65,
   "id": "ac8c02fd-c1f6-499e-b6e1-321c417874b2",
   "metadata": {},
   "outputs": [
    {
     "name": "stdout",
     "output_type": "stream",
     "text": [
      "{1, 2, 3, 4, 5, 6, 7, 8}\n",
      "None\n",
      "{4, 5}\n",
      "{1, 2, 3}\n",
      "{8, 6, 7}\n",
      "{1, 2, 3, 6, 7, 8}\n",
      "4\n",
      "5\n",
      "6\n",
      "7\n",
      "8\n",
      "1\n",
      "2\n",
      "3\n",
      "4\n",
      "5\n"
     ]
    }
   ],
   "source": [
    "s1 = {1,2,3,4,5}\n",
    "s2 = {4,5,6,7,8}\n",
    "\n",
    "# # union (|)\n",
    "print(s1 | s2)\n",
    "\n",
    "\n",
    "# #intersection(&)\n",
    "print(s1 & s2)\n",
    "\n",
    "# # difference(-) S\n",
    "print(s1 - s2)\n",
    "print(s2 - s1)\n",
    "\n",
    "# # symmetric difference(^) \n",
    "print(s1 ^ s2) # print every item except common\n",
    "\n",
    "# # Membership test (To check whether the item is present or not )\n",
    "1 in s1\n",
    "6 in s1\n",
    "8 not in s2\n",
    "8 in s2\n",
    "# Iteration\n",
    "for i in s2:\n",
    "    print(i)\n",
    "for i in s1:\n",
    "    print(i)"
   ]
  },
  {
   "cell_type": "markdown",
   "id": "b08f24e0-d187-4d8c-8f9a-5773539e8a1a",
   "metadata": {},
   "source": [
    "# set function"
   ]
  },
  {
   "cell_type": "code",
   "execution_count": 76,
   "id": "96914586-8c3d-4d78-9151-401754b832b3",
   "metadata": {},
   "outputs": [
    {
     "name": "stdout",
     "output_type": "stream",
     "text": [
      "[1, 2, 3, 4, 5, 6, 7]\n",
      "[7, 6, 5, 4, 3, 2, 1]\n"
     ]
    },
    {
     "data": {
      "text/plain": [
       "28"
      ]
     },
     "execution_count": 76,
     "metadata": {},
     "output_type": "execute_result"
    }
   ],
   "source": [
    "# len/sum/max/min/sorted\n",
    "s = {3,2,4,5,6,1,7}\n",
    "len(s)\n",
    "max(s)\n",
    "min(s)\n",
    "print(sorted(s))\n",
    "print(sorted(s,reverse=True))\n",
    "sum(s)"
   ]
  },
  {
   "cell_type": "code",
   "execution_count": 83,
   "id": "253372fa-1ac6-4a83-8b3d-abd5b9c78fc1",
   "metadata": {},
   "outputs": [
    {
     "name": "stdout",
     "output_type": "stream",
     "text": [
      "{1, 2, 3, 4, 5, 6, 7, 8}\n",
      "{4, 5, 6, 7, 8}\n"
     ]
    }
   ],
   "source": [
    "# union/ update\n",
    "s1 = {1,2,3,4,5}\n",
    "s2 = {4,5,6,7,8}\n",
    "\n",
    "# s1|s2\n",
    "s1.union(s2)\n",
    "\n",
    "s1.update(s2) # s1 update and change but s2 not update\n",
    "print(s1)\n",
    "print(s2)"
   ]
  },
  {
   "cell_type": "code",
   "execution_count": 7,
   "id": "5abdd3ad-5aef-476b-9a4a-c43f82580670",
   "metadata": {},
   "outputs": [
    {
     "name": "stdout",
     "output_type": "stream",
     "text": [
      "{4, 5}\n",
      "{1, 2, 3, 4, 5}\n"
     ]
    }
   ],
   "source": [
    "# intersection/ inersection update\n",
    "s1 = {1,2,3,4,5}\n",
    "s2 = {4,5,6,7,8}\n",
    "# s1.intersection(s2)\n",
    "\n",
    "# s1.intersection_update(s2)\n",
    "# print(s1)\n",
    "# print(s2)\n",
    "\n",
    "s2.intersection_update(s1) # permanent change in s2 \n",
    "print(s2)\n",
    "print(s1)"
   ]
  },
  {
   "cell_type": "code",
   "execution_count": 5,
   "id": "4d6b3eee-e3de-4db0-b9cb-27f822224047",
   "metadata": {},
   "outputs": [
    {
     "name": "stdout",
     "output_type": "stream",
     "text": [
      "{1, 2, 3, 4, 5}\n",
      "{6, 7, 8, 9, 10}\n"
     ]
    }
   ],
   "source": [
    "# difference/difference_update\n",
    "s1 = {1,2,3,4,5,6}\n",
    "s2 = {6,7,8,9,10}\n",
    "# s1.difference(s2)\n",
    "\n",
    "\n",
    "s1.difference_update(s2)\n",
    "print(s1)\n",
    "print(s2)\n",
    "# print(s2.difference_update(s1))"
   ]
  },
  {
   "cell_type": "code",
   "execution_count": 9,
   "id": "c1b63198-3847-4ad9-b38b-b5371c349b0b",
   "metadata": {},
   "outputs": [
    {
     "name": "stdout",
     "output_type": "stream",
     "text": [
      "{1, 2, 3, 4, 5, 7, 8, 9, 10}\n",
      "{6, 7, 8, 9, 10}\n"
     ]
    }
   ],
   "source": [
    "# symmetric_difference/symmetric_difference_update\n",
    "s1 = {1,2,3,4,5,6}\n",
    "s2 = {6,7,8,9,10}\n",
    "# s1.symmetric_difference(s2)\n",
    "\n",
    "s1.symmetric_difference_update(s2)\n",
    "print(s1)\n",
    "print(s2)"
   ]
  },
  {
   "cell_type": "code",
   "execution_count": 16,
   "id": "7c0ceda7-a806-49e7-96be-475440b6e8cb",
   "metadata": {},
   "outputs": [
    {
     "name": "stdout",
     "output_type": "stream",
     "text": [
      "True\n"
     ]
    }
   ],
   "source": [
    "# isdisjoint/issubset/issuperset\n",
    "s1 = {1,2,3,4,5}\n",
    "s2 = {6,7}\n",
    "print(s2.isdisjoint(s1))"
   ]
  },
  {
   "cell_type": "code",
   "execution_count": 11,
   "id": "3dead78e-e9ef-4b84-9605-6c68a40587c3",
   "metadata": {},
   "outputs": [
    {
     "name": "stdout",
     "output_type": "stream",
     "text": [
      "False\n"
     ]
    }
   ],
   "source": [
    "s1 = {1,2,3,4}\n",
    "s2 = {4,3,2,1}\n",
    "print(s1.isdisjoint(s2)) # bcz they are same"
   ]
  },
  {
   "cell_type": "code",
   "execution_count": 5,
   "id": "db0f1d59-f34f-4563-8681-c983e7bf02af",
   "metadata": {},
   "outputs": [
    {
     "name": "stdout",
     "output_type": "stream",
     "text": [
      "True\n"
     ]
    }
   ],
   "source": [
    "# issubset\n",
    "s1 = {1,2,3,4}\n",
    "s2 = {1,2,3,4,5,6}\n",
    "print(s1.issubset(s2))"
   ]
  },
  {
   "cell_type": "code",
   "execution_count": 6,
   "id": "4f3402bd-d0ca-4ba4-88b0-c0ec172f1371",
   "metadata": {},
   "outputs": [
    {
     "name": "stdout",
     "output_type": "stream",
     "text": [
      "False\n"
     ]
    }
   ],
   "source": [
    "s1 = {1,2,3,4}\n",
    "s2 = {5,6,7,8}\n",
    "print(s2.issuperset(s1))"
   ]
  },
  {
   "cell_type": "code",
   "execution_count": 10,
   "id": "07e743f2-6b1f-4d59-92b9-41ba91d4c7bf",
   "metadata": {},
   "outputs": [
    {
     "data": {
      "text/plain": [
       "{1, 2, 3, 4, 5}"
      ]
     },
     "execution_count": 10,
     "metadata": {},
     "output_type": "execute_result"
    }
   ],
   "source": [
    "s3 = {1,2,3,4,5}\n",
    "s4 = s3.copy()\n",
    "s4"
   ]
  },
  {
   "cell_type": "raw",
   "id": "a66ce610-6e6a-4c59-96bf-d82b0b2cc3c3",
   "metadata": {},
   "source": [
    "Frozen set:\n",
    "frozen set is just immutable version of python set object\n",
    "work -> all read function of set\n",
    "doesnot work -> write operations"
   ]
  },
  {
   "cell_type": "code",
   "execution_count": 12,
   "id": "006ee861-3315-4474-bff3-47d4a8c594eb",
   "metadata": {},
   "outputs": [
    {
     "data": {
      "text/plain": [
       "frozenset({1, 2, 3, 4, 5})"
      ]
     },
     "execution_count": 12,
     "metadata": {},
     "output_type": "execute_result"
    }
   ],
   "source": [
    "# create frozen set\n",
    "fs = frozenset ([1,2,3,4,5])\n",
    "fs"
   ]
  },
  {
   "cell_type": "code",
   "execution_count": 17,
   "id": "ac0e7d66-2327-4c05-830e-5661ecf1c6b2",
   "metadata": {},
   "outputs": [
    {
     "data": {
      "text/plain": [
       "frozenset({1, 2, 3, 4, frozenset['wajiha batool']})"
      ]
     },
     "execution_count": 17,
     "metadata": {},
     "output_type": "execute_result"
    }
   ],
   "source": [
    "fs2 = frozenset([1,2,3,4,frozenset['wajiha batool']])\n",
    "fs2"
   ]
  },
  {
   "cell_type": "code",
   "execution_count": null,
   "id": "2aa440fb-e379-4e0a-a7f2-104a75b9f09d",
   "metadata": {},
   "outputs": [],
   "source": []
  },
  {
   "cell_type": "markdown",
   "id": "a1c7fbf5-9108-4b43-9d4f-767c9c8e7824",
   "metadata": {},
   "source": [
    "# set comprehension"
   ]
  },
  {
   "cell_type": "code",
   "execution_count": 21,
   "id": "a7d1ea7c-7e87-4762-842b-fe4892df3840",
   "metadata": {},
   "outputs": [
    {
     "data": {
      "text/plain": [
       "{1, 2, 3, 4, 5, 6, 7, 8, 9, 10}"
      ]
     },
     "execution_count": 21,
     "metadata": {},
     "output_type": "execute_result"
    }
   ],
   "source": [
    "{i for i in range (1,11)}"
   ]
  },
  {
   "cell_type": "code",
   "execution_count": 24,
   "id": "8d920983-4486-4164-be98-7ed13958db93",
   "metadata": {},
   "outputs": [
    {
     "data": {
      "text/plain": [
       "{343, 512, 729, 1000, 1331}"
      ]
     },
     "execution_count": 24,
     "metadata": {},
     "output_type": "execute_result"
    }
   ],
   "source": [
    "{i**3 for i in range(1,12) if i > 6}"
   ]
  },
  {
   "cell_type": "code",
   "execution_count": null,
   "id": "2e76dea1-9016-482a-be66-b7d127eee3f9",
   "metadata": {},
   "outputs": [],
   "source": []
  }
 ],
 "metadata": {
  "kernelspec": {
   "display_name": "Python 3 (ipykernel)",
   "language": "python",
   "name": "python3"
  },
  "language_info": {
   "codemirror_mode": {
    "name": "ipython",
    "version": 3
   },
   "file_extension": ".py",
   "mimetype": "text/x-python",
   "name": "python",
   "nbconvert_exporter": "python",
   "pygments_lexer": "ipython3",
   "version": "3.12.7"
  }
 },
 "nbformat": 4,
 "nbformat_minor": 5
}
