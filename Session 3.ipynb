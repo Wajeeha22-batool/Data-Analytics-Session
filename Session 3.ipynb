{
 "cells": [
  {
   "cell_type": "markdown",
   "id": "a8628d30-03bd-46b9-ae8f-2268b970549e",
   "metadata": {},
   "source": [
    "# List"
   ]
  },
  {
   "cell_type": "code",
   "execution_count": 1,
   "id": "9924d499-c80c-4778-ac59-64aa6cc43307",
   "metadata": {},
   "outputs": [
    {
     "ename": "SyntaxError",
     "evalue": "invalid decimal literal (2989647514.py, line 1)",
     "output_type": "error",
     "traceback": [
      "\u001b[1;36m  Cell \u001b[1;32mIn[1], line 1\u001b[1;36m\u001b[0m\n\u001b[1;33m    30k\u001b[0m\n\u001b[1;37m     ^\u001b[0m\n\u001b[1;31mSyntaxError\u001b[0m\u001b[1;31m:\u001b[0m invalid decimal literal\n"
     ]
    }
   ],
   "source": [
    "30k"
   ]
  },
  {
   "cell_type": "code",
   "execution_count": 2,
   "id": "22537ec0-7c36-4593-aff2-c55e9b0eb39c",
   "metadata": {},
   "outputs": [
    {
     "ename": "TypeError",
     "evalue": "unsupported operand type(s) for +: 'int' and 'str'",
     "output_type": "error",
     "traceback": [
      "\u001b[1;31m---------------------------------------------------------------------------\u001b[0m",
      "\u001b[1;31mTypeError\u001b[0m                                 Traceback (most recent call last)",
      "Cell \u001b[1;32mIn[2], line 1\u001b[0m\n\u001b[1;32m----> 1\u001b[0m \u001b[38;5;241m30\u001b[39m\u001b[38;5;241m+\u001b[39m\u001b[38;5;124m\"\u001b[39m\u001b[38;5;124mk\u001b[39m\u001b[38;5;124m\"\u001b[39m\n",
      "\u001b[1;31mTypeError\u001b[0m: unsupported operand type(s) for +: 'int' and 'str'"
     ]
    }
   ],
   "source": [
    "30+\"k\""
   ]
  },
  {
   "cell_type": "code",
   "execution_count": 33,
   "id": "e8071ae7-2951-49e5-9def-da6c97d9fe81",
   "metadata": {},
   "outputs": [
    {
     "data": {
      "text/plain": [
       "'30k'"
      ]
     },
     "execution_count": 33,
     "metadata": {},
     "output_type": "execute_result"
    }
   ],
   "source": [
    "str(30) + \"k\""
   ]
  },
  {
   "cell_type": "code",
   "execution_count": 34,
   "id": "287af1d4-8407-4ad3-b455-c6cd318cfc67",
   "metadata": {},
   "outputs": [
    {
     "ename": "SyntaxError",
     "evalue": "invalid decimal literal (1471609219.py, line 1)",
     "output_type": "error",
     "traceback": [
      "\u001b[1;36m  Cell \u001b[1;32mIn[34], line 1\u001b[1;36m\u001b[0m\n\u001b[1;33m    salaries = [30k,25k,20k]\u001b[0m\n\u001b[1;37m                 ^\u001b[0m\n\u001b[1;31mSyntaxError\u001b[0m\u001b[1;31m:\u001b[0m invalid decimal literal\n"
     ]
    }
   ],
   "source": [
    "salaries = [30k,25k,20k]\n",
    "salaries"
   ]
  },
  {
   "cell_type": "code",
   "execution_count": 35,
   "id": "81fbef99-dfd6-4862-b90f-fa000ad259e9",
   "metadata": {},
   "outputs": [
    {
     "data": {
      "text/plain": [
       "['30k', '25k', '20k', '35k', '56k', '38k']"
      ]
     },
     "execution_count": 35,
     "metadata": {},
     "output_type": "execute_result"
    }
   ],
   "source": [
    "salaries = [\"30k\",\"25k\",\"20k\",\"35k\",\"56k\",\"38k\"]\n",
    "salaries"
   ]
  },
  {
   "cell_type": "code",
   "execution_count": 36,
   "id": "0956b57b-ec4c-4c77-bc4c-7d5d5a227340",
   "metadata": {},
   "outputs": [
    {
     "data": {
      "text/plain": [
       "['30k', '25k', '20k', '35k', '56k', '38k']"
      ]
     },
     "execution_count": 36,
     "metadata": {},
     "output_type": "execute_result"
    }
   ],
   "source": [
    "salaries"
   ]
  },
  {
   "cell_type": "code",
   "execution_count": 37,
   "id": "bb5f7ce4-62e2-4750-ad6c-24f3340bae32",
   "metadata": {},
   "outputs": [
    {
     "data": {
      "text/plain": [
       "6"
      ]
     },
     "execution_count": 37,
     "metadata": {},
     "output_type": "execute_result"
    }
   ],
   "source": [
    "len(salaries)"
   ]
  },
  {
   "cell_type": "code",
   "execution_count": 38,
   "id": "d80fcbc4-37ef-443b-a080-0ab320753912",
   "metadata": {},
   "outputs": [
    {
     "data": {
      "text/plain": [
       "list"
      ]
     },
     "execution_count": 38,
     "metadata": {},
     "output_type": "execute_result"
    }
   ],
   "source": [
    "type(salaries)"
   ]
  },
  {
   "cell_type": "markdown",
   "id": "e4c2f60b-81c4-4687-8678-dc84959dea31",
   "metadata": {},
   "source": [
    "# Indexing"
   ]
  },
  {
   "cell_type": "code",
   "execution_count": 39,
   "id": "0add7fee-7554-4e66-a5fc-674ee979a7d9",
   "metadata": {},
   "outputs": [
    {
     "data": {
      "text/plain": [
       "['30k', '25k', '20k', '35k', '56k', '38k']"
      ]
     },
     "execution_count": 39,
     "metadata": {},
     "output_type": "execute_result"
    }
   ],
   "source": [
    "salaries"
   ]
  },
  {
   "cell_type": "code",
   "execution_count": 40,
   "id": "8d05e913-50df-427c-9381-9dd4886d89d2",
   "metadata": {},
   "outputs": [
    {
     "data": {
      "text/plain": [
       "'35k'"
      ]
     },
     "execution_count": 40,
     "metadata": {},
     "output_type": "execute_result"
    }
   ],
   "source": [
    "salaries[3]"
   ]
  },
  {
   "cell_type": "code",
   "execution_count": 41,
   "id": "6ae3e75d-4c34-455a-97d7-4591069f8764",
   "metadata": {},
   "outputs": [
    {
     "data": {
      "text/plain": [
       "'35k'"
      ]
     },
     "execution_count": 41,
     "metadata": {},
     "output_type": "execute_result"
    }
   ],
   "source": [
    "salaries[-3]"
   ]
  },
  {
   "cell_type": "code",
   "execution_count": 42,
   "id": "e5ecb723-d16d-450f-9f47-c983af0101ea",
   "metadata": {},
   "outputs": [
    {
     "data": {
      "text/plain": [
       "'20k'"
      ]
     },
     "execution_count": 42,
     "metadata": {},
     "output_type": "execute_result"
    }
   ],
   "source": [
    "salaries[2]"
   ]
  },
  {
   "cell_type": "code",
   "execution_count": 43,
   "id": "c06aecdb-43a8-40b6-b124-aa806a678607",
   "metadata": {},
   "outputs": [
    {
     "data": {
      "text/plain": [
       "'20k'"
      ]
     },
     "execution_count": 43,
     "metadata": {},
     "output_type": "execute_result"
    }
   ],
   "source": [
    "salaries[-4]"
   ]
  },
  {
   "cell_type": "markdown",
   "id": "cc2af1c5-b2e4-4f14-b5c9-b6df4fa40bbd",
   "metadata": {},
   "source": [
    "# Slicing"
   ]
  },
  {
   "cell_type": "code",
   "execution_count": 44,
   "id": "595c6556-8e7f-4a23-8aae-7c051858dc77",
   "metadata": {},
   "outputs": [
    {
     "data": {
      "text/plain": [
       "['30k', '25k', '20k', '35k', '56k', '38k']"
      ]
     },
     "execution_count": 44,
     "metadata": {},
     "output_type": "execute_result"
    }
   ],
   "source": [
    "salaries"
   ]
  },
  {
   "cell_type": "code",
   "execution_count": 45,
   "id": "7d346f72-53b4-4218-a567-5c29d9424af1",
   "metadata": {},
   "outputs": [
    {
     "data": {
      "text/plain": [
       "['25k', '20k', '35k']"
      ]
     },
     "execution_count": 45,
     "metadata": {},
     "output_type": "execute_result"
    }
   ],
   "source": [
    "salaries[1:4]"
   ]
  },
  {
   "cell_type": "code",
   "execution_count": 46,
   "id": "596d3dbc-7052-4f1c-afaa-015cc0d8689c",
   "metadata": {},
   "outputs": [
    {
     "data": {
      "text/plain": [
       "['25k', '20k', '35k', '56k']"
      ]
     },
     "execution_count": 46,
     "metadata": {},
     "output_type": "execute_result"
    }
   ],
   "source": [
    "salaries[1:5]"
   ]
  },
  {
   "cell_type": "code",
   "execution_count": 47,
   "id": "a24c5eda-27bf-4af7-8075-9f6696fe4ccd",
   "metadata": {},
   "outputs": [
    {
     "data": {
      "text/plain": [
       "[]"
      ]
     },
     "execution_count": 47,
     "metadata": {},
     "output_type": "execute_result"
    }
   ],
   "source": [
    "salaries[-2:-6]"
   ]
  },
  {
   "cell_type": "code",
   "execution_count": 48,
   "id": "5b74edb6-fa7b-4a4b-8311-2438a55e37a1",
   "metadata": {},
   "outputs": [
    {
     "data": {
      "text/plain": [
       "['25k', '20k', '35k', '56k']"
      ]
     },
     "execution_count": 48,
     "metadata": {},
     "output_type": "execute_result"
    }
   ],
   "source": [
    "salaries[-5:-1]"
   ]
  },
  {
   "cell_type": "code",
   "execution_count": 49,
   "id": "438c48c7-c487-4d45-a8eb-a4edd7031f04",
   "metadata": {},
   "outputs": [
    {
     "data": {
      "text/plain": [
       "['30k', '25k', '20k', '35k', '56k', '38k']"
      ]
     },
     "execution_count": 49,
     "metadata": {},
     "output_type": "execute_result"
    }
   ],
   "source": [
    "salaries"
   ]
  },
  {
   "cell_type": "code",
   "execution_count": 50,
   "id": "8fcc2e9a-c21e-41f0-93c1-bbcf801eaa18",
   "metadata": {},
   "outputs": [
    {
     "data": {
      "text/plain": [
       "['sana', 35000, 25, 'master']"
      ]
     },
     "execution_count": 50,
     "metadata": {},
     "output_type": "execute_result"
    }
   ],
   "source": [
    "bio = [\"sana\",35000,25,\"master\"]\n",
    "bio"
   ]
  },
  {
   "cell_type": "code",
   "execution_count": 51,
   "id": "261e23a8-28bd-4ade-956b-ba9091729f55",
   "metadata": {},
   "outputs": [
    {
     "data": {
      "text/plain": [
       "'master'"
      ]
     },
     "execution_count": 51,
     "metadata": {},
     "output_type": "execute_result"
    }
   ],
   "source": [
    "bio[-1]"
   ]
  },
  {
   "cell_type": "code",
   "execution_count": 52,
   "id": "e11d3d88-bd56-40df-ab15-008e536d2410",
   "metadata": {},
   "outputs": [
    {
     "data": {
      "text/plain": [
       "'master'"
      ]
     },
     "execution_count": 52,
     "metadata": {},
     "output_type": "execute_result"
    }
   ],
   "source": [
    "bio[3]"
   ]
  },
  {
   "cell_type": "code",
   "execution_count": 53,
   "id": "1942230c-e328-4f97-9185-945641b5418a",
   "metadata": {},
   "outputs": [
    {
     "data": {
      "text/plain": [
       "['sana', 35000, 25, 'master']"
      ]
     },
     "execution_count": 53,
     "metadata": {},
     "output_type": "execute_result"
    }
   ],
   "source": [
    "bio"
   ]
  },
  {
   "cell_type": "code",
   "execution_count": 54,
   "id": "b4793cc4-51a5-42b1-9f97-2c3d63a06189",
   "metadata": {},
   "outputs": [
    {
     "ename": "IndexError",
     "evalue": "list index out of range",
     "output_type": "error",
     "traceback": [
      "\u001b[1;31m---------------------------------------------------------------------------\u001b[0m",
      "\u001b[1;31mIndexError\u001b[0m                                Traceback (most recent call last)",
      "Cell \u001b[1;32mIn[54], line 1\u001b[0m\n\u001b[1;32m----> 1\u001b[0m bio[\u001b[38;5;241m5\u001b[39m]\n",
      "\u001b[1;31mIndexError\u001b[0m: list index out of range"
     ]
    }
   ],
   "source": [
    "bio[5]"
   ]
  },
  {
   "cell_type": "code",
   "execution_count": 55,
   "id": "1998d51a-3d79-459e-974a-11762e7cce22",
   "metadata": {},
   "outputs": [
    {
     "data": {
      "text/plain": [
       "[35000, 25, 'master']"
      ]
     },
     "execution_count": 55,
     "metadata": {},
     "output_type": "execute_result"
    }
   ],
   "source": [
    "bio[1:]"
   ]
  },
  {
   "cell_type": "code",
   "execution_count": 56,
   "id": "cbec97c8-537f-4b52-8c79-af9d05065a1e",
   "metadata": {},
   "outputs": [
    {
     "data": {
      "text/plain": [
       "[35000, 25, 'master']"
      ]
     },
     "execution_count": 56,
     "metadata": {},
     "output_type": "execute_result"
    }
   ],
   "source": [
    "bio[1:4]"
   ]
  },
  {
   "cell_type": "code",
   "execution_count": 57,
   "id": "a04d7055-2f5e-433f-831c-d0fbcc859a7f",
   "metadata": {},
   "outputs": [
    {
     "data": {
      "text/plain": [
       "[35000, 25, 'master']"
      ]
     },
     "execution_count": 57,
     "metadata": {},
     "output_type": "execute_result"
    }
   ],
   "source": [
    "bio[1:]"
   ]
  },
  {
   "cell_type": "code",
   "execution_count": 58,
   "id": "877493c2-7b54-41c9-ad0b-130a600b0376",
   "metadata": {},
   "outputs": [
    {
     "data": {
      "text/plain": [
       "['sana', 35000, 25, 'master']"
      ]
     },
     "execution_count": 58,
     "metadata": {},
     "output_type": "execute_result"
    }
   ],
   "source": [
    "bio"
   ]
  },
  {
   "cell_type": "code",
   "execution_count": 59,
   "id": "5c025743-526a-4a23-b360-2c5d99903ad4",
   "metadata": {},
   "outputs": [
    {
     "data": {
      "text/plain": [
       "['sana', 35000, 25]"
      ]
     },
     "execution_count": 59,
     "metadata": {},
     "output_type": "execute_result"
    }
   ],
   "source": [
    "bio[:3]"
   ]
  },
  {
   "cell_type": "code",
   "execution_count": 60,
   "id": "622d6705-3b60-433e-99cb-000e2eb7de1a",
   "metadata": {},
   "outputs": [
    {
     "data": {
      "text/plain": [
       "['__add__',\n",
       " '__class__',\n",
       " '__class_getitem__',\n",
       " '__contains__',\n",
       " '__delattr__',\n",
       " '__delitem__',\n",
       " '__dir__',\n",
       " '__doc__',\n",
       " '__eq__',\n",
       " '__format__',\n",
       " '__ge__',\n",
       " '__getattribute__',\n",
       " '__getitem__',\n",
       " '__getstate__',\n",
       " '__gt__',\n",
       " '__hash__',\n",
       " '__iadd__',\n",
       " '__imul__',\n",
       " '__init__',\n",
       " '__init_subclass__',\n",
       " '__iter__',\n",
       " '__le__',\n",
       " '__len__',\n",
       " '__lt__',\n",
       " '__mul__',\n",
       " '__ne__',\n",
       " '__new__',\n",
       " '__reduce__',\n",
       " '__reduce_ex__',\n",
       " '__repr__',\n",
       " '__reversed__',\n",
       " '__rmul__',\n",
       " '__setattr__',\n",
       " '__setitem__',\n",
       " '__sizeof__',\n",
       " '__str__',\n",
       " '__subclasshook__',\n",
       " 'append',\n",
       " 'clear',\n",
       " 'copy',\n",
       " 'count',\n",
       " 'extend',\n",
       " 'index',\n",
       " 'insert',\n",
       " 'pop',\n",
       " 'remove',\n",
       " 'reverse',\n",
       " 'sort']"
      ]
     },
     "execution_count": 60,
     "metadata": {},
     "output_type": "execute_result"
    }
   ],
   "source": [
    "dir(list)"
   ]
  },
  {
   "cell_type": "code",
   "execution_count": 61,
   "id": "9c8621d3-be25-41f8-99b6-d591a1316e35",
   "metadata": {},
   "outputs": [
    {
     "ename": "NameError",
     "evalue": "name 'List' is not defined",
     "output_type": "error",
     "traceback": [
      "\u001b[1;31m---------------------------------------------------------------------------\u001b[0m",
      "\u001b[1;31mNameError\u001b[0m                                 Traceback (most recent call last)",
      "Cell \u001b[1;32mIn[61], line 1\u001b[0m\n\u001b[1;32m----> 1\u001b[0m \u001b[38;5;28mdir\u001b[39m(List)\n",
      "\u001b[1;31mNameError\u001b[0m: name 'List' is not defined"
     ]
    }
   ],
   "source": [
    "dir(List)"
   ]
  },
  {
   "cell_type": "code",
   "execution_count": 62,
   "id": "f2f57ad4-41a8-4567-acdf-22ee022bfcc8",
   "metadata": {},
   "outputs": [
    {
     "data": {
      "text/plain": [
       "['30k', '25k', '20k', '35k', '56k', '38k']"
      ]
     },
     "execution_count": 62,
     "metadata": {},
     "output_type": "execute_result"
    }
   ],
   "source": [
    "salaries"
   ]
  },
  {
   "cell_type": "code",
   "execution_count": 63,
   "id": "16ebaf21-5df2-4682-be34-8e9fd53678ad",
   "metadata": {},
   "outputs": [],
   "source": [
    "# append\n",
    "# Append"
   ]
  },
  {
   "cell_type": "code",
   "execution_count": 64,
   "id": "3ba4efa0-e937-4e45-81e4-e648197ab97a",
   "metadata": {},
   "outputs": [],
   "source": [
    "salaries.append(50000)"
   ]
  },
  {
   "cell_type": "code",
   "execution_count": 65,
   "id": "b45f7563-1d0a-467f-846f-3e84a51157d6",
   "metadata": {},
   "outputs": [
    {
     "data": {
      "text/plain": [
       "['30k', '25k', '20k', '35k', '56k', '38k', 50000]"
      ]
     },
     "execution_count": 65,
     "metadata": {},
     "output_type": "execute_result"
    }
   ],
   "source": [
    "salaries"
   ]
  },
  {
   "cell_type": "code",
   "execution_count": 66,
   "id": "b15be54f-fae1-4639-ac50-80c71ae9e8de",
   "metadata": {},
   "outputs": [],
   "source": [
    "salaries.insert(2,35000)"
   ]
  },
  {
   "cell_type": "code",
   "execution_count": 67,
   "id": "4bc7209a-6932-46d0-a970-630bc46e2273",
   "metadata": {},
   "outputs": [
    {
     "data": {
      "text/plain": [
       "['30k', '25k', 35000, '20k', '35k', '56k', '38k', 50000]"
      ]
     },
     "execution_count": 67,
     "metadata": {},
     "output_type": "execute_result"
    }
   ],
   "source": [
    "salaries"
   ]
  },
  {
   "cell_type": "code",
   "execution_count": 68,
   "id": "54ff0de9-9024-4563-b55f-c675e54f4cb1",
   "metadata": {},
   "outputs": [
    {
     "ename": "SyntaxError",
     "evalue": "invalid syntax (2791482170.py, line 1)",
     "output_type": "error",
     "traceback": [
      "\u001b[1;36m  Cell \u001b[1;32mIn[68], line 1\u001b[1;36m\u001b[0m\n\u001b[1;33m    salaries.insert(2:4,35000,2000)\u001b[0m\n\u001b[1;37m                     ^\u001b[0m\n\u001b[1;31mSyntaxError\u001b[0m\u001b[1;31m:\u001b[0m invalid syntax\n"
     ]
    }
   ],
   "source": [
    "salaries.insert(2:4,35000,2000)"
   ]
  },
  {
   "cell_type": "code",
   "execution_count": 69,
   "id": "5e212e4b-070a-4e5c-8c78-6921dce396a7",
   "metadata": {},
   "outputs": [
    {
     "data": {
      "text/plain": [
       "['30k', '25k', 35000, '20k', '35k', '56k', '38k', 50000]"
      ]
     },
     "execution_count": 69,
     "metadata": {},
     "output_type": "execute_result"
    }
   ],
   "source": [
    "salaries"
   ]
  },
  {
   "cell_type": "code",
   "execution_count": 70,
   "id": "051af390-44c3-41fb-8bfd-9e66eabdb395",
   "metadata": {},
   "outputs": [
    {
     "data": {
      "text/plain": [
       "[35000, '20k']"
      ]
     },
     "execution_count": 70,
     "metadata": {},
     "output_type": "execute_result"
    }
   ],
   "source": [
    "salaries[2:4]"
   ]
  },
  {
   "cell_type": "code",
   "execution_count": 71,
   "id": "6598258e-5f39-45a5-831d-f3bf5c2456f2",
   "metadata": {},
   "outputs": [],
   "source": [
    "salaries[2:4] = [1000,2000]"
   ]
  },
  {
   "cell_type": "code",
   "execution_count": 72,
   "id": "23a7d486-747a-4c17-823e-a65c3ac736ab",
   "metadata": {},
   "outputs": [
    {
     "data": {
      "text/plain": [
       "['30k', '25k', 1000, 2000, '35k', '56k', '38k', 50000]"
      ]
     },
     "execution_count": 72,
     "metadata": {},
     "output_type": "execute_result"
    }
   ],
   "source": [
    "salaries"
   ]
  },
  {
   "cell_type": "code",
   "execution_count": 73,
   "id": "14adf2dc-c44e-44e7-bf78-d14ccc319f2b",
   "metadata": {},
   "outputs": [
    {
     "data": {
      "text/plain": [
       "[2000,\n",
       " ['sana', 35000, 25, 'master'],\n",
       " 'sana',\n",
       " ['30k', '25k', 1000, 2000, '35k', '56k', '38k', 50000]]"
      ]
     },
     "execution_count": 73,
     "metadata": {},
     "output_type": "execute_result"
    }
   ],
   "source": [
    "updated_list = [2000,bio,\"sana\",salaries]\n",
    "updated_list"
   ]
  },
  {
   "cell_type": "code",
   "execution_count": 74,
   "id": "58753ced-0c99-460f-8b07-4c38b0d52065",
   "metadata": {},
   "outputs": [
    {
     "data": {
      "text/plain": [
       "['sana', 35000, 25, 'master']"
      ]
     },
     "execution_count": 74,
     "metadata": {},
     "output_type": "execute_result"
    }
   ],
   "source": [
    "updated_list[1]"
   ]
  },
  {
   "cell_type": "code",
   "execution_count": 75,
   "id": "37601bf8-9ea7-4c8b-bd31-9d1b2aa5c31c",
   "metadata": {},
   "outputs": [
    {
     "data": {
      "text/plain": [
       "'master'"
      ]
     },
     "execution_count": 75,
     "metadata": {},
     "output_type": "execute_result"
    }
   ],
   "source": [
    "updated_list[1][3]"
   ]
  },
  {
   "cell_type": "code",
   "execution_count": 79,
   "id": "2c80ea62-dfe2-4b5e-9d41-9caf44b7624f",
   "metadata": {},
   "outputs": [
    {
     "data": {
      "text/plain": [
       "[1000, 2000, '35k', '56k']"
      ]
     },
     "execution_count": 79,
     "metadata": {},
     "output_type": "execute_result"
    }
   ],
   "source": [
    "updated_list[3][2:6]"
   ]
  },
  {
   "cell_type": "code",
   "execution_count": 82,
   "id": "76d69d68-ee2e-49e0-a612-4c352c343211",
   "metadata": {},
   "outputs": [
    {
     "data": {
      "text/plain": [
       "[2000, ['sana', 35000, 25, 'master'], 'sana']"
      ]
     },
     "execution_count": 82,
     "metadata": {},
     "output_type": "execute_result"
    }
   ],
   "source": [
    "updated_list[:3]"
   ]
  },
  {
   "cell_type": "code",
   "execution_count": 83,
   "id": "35d87494-4a51-455e-989f-ad74cfbf2c0f",
   "metadata": {},
   "outputs": [
    {
     "data": {
      "text/plain": [
       "['__add__',\n",
       " '__class__',\n",
       " '__class_getitem__',\n",
       " '__contains__',\n",
       " '__delattr__',\n",
       " '__delitem__',\n",
       " '__dir__',\n",
       " '__doc__',\n",
       " '__eq__',\n",
       " '__format__',\n",
       " '__ge__',\n",
       " '__getattribute__',\n",
       " '__getitem__',\n",
       " '__getstate__',\n",
       " '__gt__',\n",
       " '__hash__',\n",
       " '__iadd__',\n",
       " '__imul__',\n",
       " '__init__',\n",
       " '__init_subclass__',\n",
       " '__iter__',\n",
       " '__le__',\n",
       " '__len__',\n",
       " '__lt__',\n",
       " '__mul__',\n",
       " '__ne__',\n",
       " '__new__',\n",
       " '__reduce__',\n",
       " '__reduce_ex__',\n",
       " '__repr__',\n",
       " '__reversed__',\n",
       " '__rmul__',\n",
       " '__setattr__',\n",
       " '__setitem__',\n",
       " '__sizeof__',\n",
       " '__str__',\n",
       " '__subclasshook__',\n",
       " 'append',\n",
       " 'clear',\n",
       " 'copy',\n",
       " 'count',\n",
       " 'extend',\n",
       " 'index',\n",
       " 'insert',\n",
       " 'pop',\n",
       " 'remove',\n",
       " 'reverse',\n",
       " 'sort']"
      ]
     },
     "execution_count": 83,
     "metadata": {},
     "output_type": "execute_result"
    }
   ],
   "source": [
    "dir(list)"
   ]
  },
  {
   "cell_type": "code",
   "execution_count": 84,
   "id": "2ca8e9d2-bdc3-48c0-97ab-ecdbb43518f7",
   "metadata": {},
   "outputs": [
    {
     "data": {
      "text/plain": [
       "['30k', '25k', 1000, 2000, '35k', '56k', '38k', 50000]"
      ]
     },
     "execution_count": 84,
     "metadata": {},
     "output_type": "execute_result"
    }
   ],
   "source": [
    "salaries"
   ]
  },
  {
   "cell_type": "code",
   "execution_count": 85,
   "id": "eee92b66-37a4-4b5f-988f-e2a0072f181d",
   "metadata": {},
   "outputs": [],
   "source": [
    "salaries.clear()"
   ]
  },
  {
   "cell_type": "code",
   "execution_count": 86,
   "id": "7e12f2a8-7dc9-4d9c-a806-4dfd035a8822",
   "metadata": {},
   "outputs": [
    {
     "data": {
      "text/plain": [
       "[]"
      ]
     },
     "execution_count": 86,
     "metadata": {},
     "output_type": "execute_result"
    }
   ],
   "source": [
    "salaries"
   ]
  },
  {
   "cell_type": "code",
   "execution_count": 87,
   "id": "645ba338-7ef6-44dd-a19e-d1220837cb2d",
   "metadata": {},
   "outputs": [
    {
     "data": {
      "text/plain": [
       "['30k', '25k', '20k', '35k', '56k', '38k']"
      ]
     },
     "execution_count": 87,
     "metadata": {},
     "output_type": "execute_result"
    }
   ],
   "source": [
    "salaries = [\"30k\",\"25k\",\"20k\",\"35k\",\"56k\",\"38k\"]\n",
    "salaries"
   ]
  },
  {
   "cell_type": "code",
   "execution_count": 88,
   "id": "11d6b728-6bb6-41bc-aff3-54640c2142bf",
   "metadata": {},
   "outputs": [
    {
     "data": {
      "text/plain": [
       "['30k', '25k', '20k', '35k', '56k', '38k']"
      ]
     },
     "execution_count": 88,
     "metadata": {},
     "output_type": "execute_result"
    }
   ],
   "source": [
    "salaries"
   ]
  },
  {
   "cell_type": "code",
   "execution_count": 89,
   "id": "d14b6618-0505-4841-b029-1d000bc0b14f",
   "metadata": {},
   "outputs": [
    {
     "data": {
      "text/plain": [
       "['30k', '25k', '20k', '35k', '56k', '38k']"
      ]
     },
     "execution_count": 89,
     "metadata": {},
     "output_type": "execute_result"
    }
   ],
   "source": [
    "salary = salaries.copy()\n",
    "salary"
   ]
  },
  {
   "cell_type": "code",
   "execution_count": 90,
   "id": "c3b87bb7-7c6b-49ba-83c0-13bf488917e0",
   "metadata": {},
   "outputs": [
    {
     "data": {
      "text/plain": [
       "['__add__',\n",
       " '__class__',\n",
       " '__class_getitem__',\n",
       " '__contains__',\n",
       " '__delattr__',\n",
       " '__delitem__',\n",
       " '__dir__',\n",
       " '__doc__',\n",
       " '__eq__',\n",
       " '__format__',\n",
       " '__ge__',\n",
       " '__getattribute__',\n",
       " '__getitem__',\n",
       " '__getstate__',\n",
       " '__gt__',\n",
       " '__hash__',\n",
       " '__iadd__',\n",
       " '__imul__',\n",
       " '__init__',\n",
       " '__init_subclass__',\n",
       " '__iter__',\n",
       " '__le__',\n",
       " '__len__',\n",
       " '__lt__',\n",
       " '__mul__',\n",
       " '__ne__',\n",
       " '__new__',\n",
       " '__reduce__',\n",
       " '__reduce_ex__',\n",
       " '__repr__',\n",
       " '__reversed__',\n",
       " '__rmul__',\n",
       " '__setattr__',\n",
       " '__setitem__',\n",
       " '__sizeof__',\n",
       " '__str__',\n",
       " '__subclasshook__',\n",
       " 'append',\n",
       " 'clear',\n",
       " 'copy',\n",
       " 'count',\n",
       " 'extend',\n",
       " 'index',\n",
       " 'insert',\n",
       " 'pop',\n",
       " 'remove',\n",
       " 'reverse',\n",
       " 'sort']"
      ]
     },
     "execution_count": 90,
     "metadata": {},
     "output_type": "execute_result"
    }
   ],
   "source": [
    "dir(list)"
   ]
  },
  {
   "cell_type": "code",
   "execution_count": 92,
   "id": "ebdd9d62-48ba-4773-bff3-57d26aa29d24",
   "metadata": {},
   "outputs": [],
   "source": [
    "salaries.append(\"38k\")"
   ]
  },
  {
   "cell_type": "code",
   "execution_count": 93,
   "id": "5f982e46-aef0-41be-acc0-42f6a507ffae",
   "metadata": {},
   "outputs": [
    {
     "data": {
      "text/plain": [
       "['30k', '25k', '20k', '35k', '56k', '38k', '38k']"
      ]
     },
     "execution_count": 93,
     "metadata": {},
     "output_type": "execute_result"
    }
   ],
   "source": [
    "salaries"
   ]
  },
  {
   "cell_type": "code",
   "execution_count": 94,
   "id": "9bd1c2f9-fff2-4d14-85c5-2a1235da97a8",
   "metadata": {},
   "outputs": [
    {
     "data": {
      "text/plain": [
       "2"
      ]
     },
     "execution_count": 94,
     "metadata": {},
     "output_type": "execute_result"
    }
   ],
   "source": [
    "salaries.count(\"38k\")"
   ]
  },
  {
   "cell_type": "code",
   "execution_count": 96,
   "id": "f2d81e92-ee21-4d19-9b6e-11dc99f904bc",
   "metadata": {},
   "outputs": [
    {
     "data": {
      "text/plain": [
       "['sana', 35000, 25, 'master']"
      ]
     },
     "execution_count": 96,
     "metadata": {},
     "output_type": "execute_result"
    }
   ],
   "source": [
    "bio"
   ]
  },
  {
   "cell_type": "code",
   "execution_count": 97,
   "id": "107a24fb-e099-4819-aa6a-aa426f5b57c7",
   "metadata": {},
   "outputs": [
    {
     "data": {
      "text/plain": [
       "['30k', '25k', '20k', '35k', '56k', '38k', '38k']"
      ]
     },
     "execution_count": 97,
     "metadata": {},
     "output_type": "execute_result"
    }
   ],
   "source": [
    "salaries"
   ]
  },
  {
   "cell_type": "code",
   "execution_count": 100,
   "id": "6303b057-5af6-49a1-8cfe-842d84e2dcd4",
   "metadata": {},
   "outputs": [],
   "source": [
    "bio.extend(salaries)"
   ]
  },
  {
   "cell_type": "code",
   "execution_count": 102,
   "id": "d3b35001-15d7-4254-a6cc-38a528b99ec6",
   "metadata": {},
   "outputs": [
    {
     "data": {
      "text/plain": [
       "['sana',\n",
       " 35000,\n",
       " 25,\n",
       " 'master',\n",
       " '30k',\n",
       " '25k',\n",
       " '20k',\n",
       " '35k',\n",
       " '56k',\n",
       " '38k',\n",
       " '38k',\n",
       " '30k',\n",
       " '25k',\n",
       " '20k',\n",
       " '35k',\n",
       " '56k',\n",
       " '38k',\n",
       " '38k',\n",
       " '30k',\n",
       " '25k',\n",
       " '20k',\n",
       " '35k',\n",
       " '56k',\n",
       " '38k',\n",
       " '38k']"
      ]
     },
     "execution_count": 102,
     "metadata": {},
     "output_type": "execute_result"
    }
   ],
   "source": [
    "bio"
   ]
  },
  {
   "cell_type": "code",
   "execution_count": 103,
   "id": "56bbcd99-368b-4fb4-960c-bbb63ae5a2db",
   "metadata": {},
   "outputs": [
    {
     "data": {
      "text/plain": [
       "['30k', '25k', '20k', '35k', '56k', '38k', '38k']"
      ]
     },
     "execution_count": 103,
     "metadata": {},
     "output_type": "execute_result"
    }
   ],
   "source": [
    "salaries"
   ]
  },
  {
   "cell_type": "code",
   "execution_count": 105,
   "id": "82fd5196-ed62-4573-ab00-e3f12ec8f895",
   "metadata": {},
   "outputs": [],
   "source": [
    "salaries.extend(bio)"
   ]
  },
  {
   "cell_type": "code",
   "execution_count": 106,
   "id": "d5960b4d-f39a-4c57-9a2a-cb2388391467",
   "metadata": {},
   "outputs": [
    {
     "data": {
      "text/plain": [
       "['30k',\n",
       " '25k',\n",
       " '20k',\n",
       " '35k',\n",
       " '56k',\n",
       " '38k',\n",
       " '38k',\n",
       " 'sana',\n",
       " 35000,\n",
       " 25,\n",
       " 'master',\n",
       " '30k',\n",
       " '25k',\n",
       " '20k',\n",
       " '35k',\n",
       " '56k',\n",
       " '38k',\n",
       " '38k',\n",
       " '30k',\n",
       " '25k',\n",
       " '20k',\n",
       " '35k',\n",
       " '56k',\n",
       " '38k',\n",
       " '38k',\n",
       " '30k',\n",
       " '25k',\n",
       " '20k',\n",
       " '35k',\n",
       " '56k',\n",
       " '38k',\n",
       " '38k']"
      ]
     },
     "execution_count": 106,
     "metadata": {},
     "output_type": "execute_result"
    }
   ],
   "source": [
    "salaries"
   ]
  },
  {
   "cell_type": "code",
   "execution_count": 107,
   "id": "eecc3086-bee4-4dca-9a8a-934c217cdf35",
   "metadata": {},
   "outputs": [
    {
     "data": {
      "text/plain": [
       "['__add__',\n",
       " '__class__',\n",
       " '__class_getitem__',\n",
       " '__contains__',\n",
       " '__delattr__',\n",
       " '__delitem__',\n",
       " '__dir__',\n",
       " '__doc__',\n",
       " '__eq__',\n",
       " '__format__',\n",
       " '__ge__',\n",
       " '__getattribute__',\n",
       " '__getitem__',\n",
       " '__getstate__',\n",
       " '__gt__',\n",
       " '__hash__',\n",
       " '__iadd__',\n",
       " '__imul__',\n",
       " '__init__',\n",
       " '__init_subclass__',\n",
       " '__iter__',\n",
       " '__le__',\n",
       " '__len__',\n",
       " '__lt__',\n",
       " '__mul__',\n",
       " '__ne__',\n",
       " '__new__',\n",
       " '__reduce__',\n",
       " '__reduce_ex__',\n",
       " '__repr__',\n",
       " '__reversed__',\n",
       " '__rmul__',\n",
       " '__setattr__',\n",
       " '__setitem__',\n",
       " '__sizeof__',\n",
       " '__str__',\n",
       " '__subclasshook__',\n",
       " 'append',\n",
       " 'clear',\n",
       " 'copy',\n",
       " 'count',\n",
       " 'extend',\n",
       " 'index',\n",
       " 'insert',\n",
       " 'pop',\n",
       " 'remove',\n",
       " 'reverse',\n",
       " 'sort']"
      ]
     },
     "execution_count": 107,
     "metadata": {},
     "output_type": "execute_result"
    }
   ],
   "source": [
    "dir([])"
   ]
  },
  {
   "cell_type": "code",
   "execution_count": 108,
   "id": "dd69cd9f-4247-4863-bbf1-b429efc18e7e",
   "metadata": {},
   "outputs": [
    {
     "data": {
      "text/plain": [
       "[100, 1, 10, 50, 25, 20]"
      ]
     },
     "execution_count": 108,
     "metadata": {},
     "output_type": "execute_result"
    }
   ],
   "source": [
    "num = [100,1,10,50,25,20]\n",
    "num"
   ]
  },
  {
   "cell_type": "code",
   "execution_count": 109,
   "id": "60d3733b-a60e-4a43-a3ab-edb54d023358",
   "metadata": {},
   "outputs": [],
   "source": [
    "num.sort()"
   ]
  },
  {
   "cell_type": "code",
   "execution_count": 110,
   "id": "53b50d7c-667c-4e9a-9337-8e3d7cc8cc28",
   "metadata": {},
   "outputs": [
    {
     "data": {
      "text/plain": [
       "[1, 10, 20, 25, 50, 100]"
      ]
     },
     "execution_count": 110,
     "metadata": {},
     "output_type": "execute_result"
    }
   ],
   "source": [
    "num"
   ]
  },
  {
   "cell_type": "code",
   "execution_count": null,
   "id": "50f5a264-eaf8-418f-837d-977b1a95c3bb",
   "metadata": {},
   "outputs": [],
   "source": []
  }
 ],
 "metadata": {
  "kernelspec": {
   "display_name": "Python 3 (ipykernel)",
   "language": "python",
   "name": "python3"
  },
  "language_info": {
   "codemirror_mode": {
    "name": "ipython",
    "version": 3
   },
   "file_extension": ".py",
   "mimetype": "text/x-python",
   "name": "python",
   "nbconvert_exporter": "python",
   "pygments_lexer": "ipython3",
   "version": "3.12.7"
  }
 },
 "nbformat": 4,
 "nbformat_minor": 5
}
