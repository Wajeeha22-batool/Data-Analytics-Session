{
 "cells": [
  {
   "cell_type": "code",
   "execution_count": 1,
   "id": "7b6c67ac-a779-449b-a0ba-c1636e613f4d",
   "metadata": {},
   "outputs": [],
   "source": [
    "# tuple\n",
    "# Dictionary\n",
    "# Set\n"
   ]
  },
  {
   "cell_type": "code",
   "execution_count": 2,
   "id": "83b5f802-395b-41a3-8e8d-229cbd0e2033",
   "metadata": {},
   "outputs": [
    {
     "data": {
      "text/plain": [
       "('sana', 45, 46000, 'biryani', False, True)"
      ]
     },
     "execution_count": 2,
     "metadata": {},
     "output_type": "execute_result"
    }
   ],
   "source": [
    "bio = (\"sana\",45,46000,\"biryani\",False,True)\n",
    "bio"
   ]
  },
  {
   "cell_type": "code",
   "execution_count": 3,
   "id": "ee8f4b22-ec56-43af-a1fd-ccbb3145eac4",
   "metadata": {},
   "outputs": [
    {
     "data": {
      "text/plain": [
       "'biryani'"
      ]
     },
     "execution_count": 3,
     "metadata": {},
     "output_type": "execute_result"
    }
   ],
   "source": [
    "bio[3]"
   ]
  },
  {
   "cell_type": "code",
   "execution_count": 4,
   "id": "d6d860ab-0a4a-4dff-a95f-dca7366885d2",
   "metadata": {},
   "outputs": [
    {
     "data": {
      "text/plain": [
       "(45, 46000, 'biryani', False)"
      ]
     },
     "execution_count": 4,
     "metadata": {},
     "output_type": "execute_result"
    }
   ],
   "source": [
    "bio[1:5]"
   ]
  },
  {
   "cell_type": "code",
   "execution_count": 5,
   "id": "a965f5b6-06e8-4178-b9ec-cd321e9769bf",
   "metadata": {},
   "outputs": [
    {
     "ename": "TypeError",
     "evalue": "'tuple' object does not support item assignment",
     "output_type": "error",
     "traceback": [
      "\u001b[1;31m---------------------------------------------------------------------------\u001b[0m",
      "\u001b[1;31mTypeError\u001b[0m                                 Traceback (most recent call last)",
      "Cell \u001b[1;32mIn[5], line 1\u001b[0m\n\u001b[1;32m----> 1\u001b[0m bio[\u001b[38;5;241m2\u001b[39m] \u001b[38;5;241m=\u001b[39m \u001b[38;5;241m50000\u001b[39m\n",
      "\u001b[1;31mTypeError\u001b[0m: 'tuple' object does not support item assignment"
     ]
    }
   ],
   "source": [
    "bio[2] = 50000"
   ]
  },
  {
   "cell_type": "code",
   "execution_count": 6,
   "id": "848ace65-ec62-4a74-91a0-23cb6a0d8994",
   "metadata": {},
   "outputs": [
    {
     "data": {
      "text/plain": [
       "('sana', 45, 46000, 'biryani', False, True)"
      ]
     },
     "execution_count": 6,
     "metadata": {},
     "output_type": "execute_result"
    }
   ],
   "source": [
    "bio"
   ]
  },
  {
   "cell_type": "code",
   "execution_count": 7,
   "id": "6b4a291f-592d-449c-a384-e1532dc0b1b4",
   "metadata": {},
   "outputs": [
    {
     "data": {
      "text/plain": [
       "tuple"
      ]
     },
     "execution_count": 7,
     "metadata": {},
     "output_type": "execute_result"
    }
   ],
   "source": [
    "type(bio)"
   ]
  },
  {
   "cell_type": "code",
   "execution_count": 8,
   "id": "189204c1-de02-4208-ad10-98eab35005f5",
   "metadata": {},
   "outputs": [
    {
     "data": {
      "text/plain": [
       "['sana', 45, 46000, 'biryani', False, True]"
      ]
     },
     "execution_count": 8,
     "metadata": {},
     "output_type": "execute_result"
    }
   ],
   "source": [
    "bio_list = list(bio)\n",
    "bio_list"
   ]
  },
  {
   "cell_type": "code",
   "execution_count": 9,
   "id": "ed8d4d5c-59f1-4cea-a685-1ea3b785bec7",
   "metadata": {},
   "outputs": [
    {
     "data": {
      "text/plain": [
       "list"
      ]
     },
     "execution_count": 9,
     "metadata": {},
     "output_type": "execute_result"
    }
   ],
   "source": [
    "type(bio_list)"
   ]
  },
  {
   "cell_type": "code",
   "execution_count": 10,
   "id": "b4060ce9-0f78-45d0-9da0-ea35f9d28c7e",
   "metadata": {},
   "outputs": [],
   "source": [
    "bio_list[2] = 50000"
   ]
  },
  {
   "cell_type": "code",
   "execution_count": 11,
   "id": "0a1928e4-9521-45f1-8545-fbff7707fe3d",
   "metadata": {},
   "outputs": [
    {
     "data": {
      "text/plain": [
       "['sana', 45, 50000, 'biryani', False, True]"
      ]
     },
     "execution_count": 11,
     "metadata": {},
     "output_type": "execute_result"
    }
   ],
   "source": [
    "bio_list"
   ]
  },
  {
   "cell_type": "code",
   "execution_count": 12,
   "id": "5a27049e-119e-4d3f-96e5-e2cfba6c008a",
   "metadata": {},
   "outputs": [
    {
     "data": {
      "text/plain": [
       "('sana', 45, 50000, 'biryani', False, True)"
      ]
     },
     "execution_count": 12,
     "metadata": {},
     "output_type": "execute_result"
    }
   ],
   "source": [
    "bio = tuple(bio_list)\n",
    "bio"
   ]
  },
  {
   "cell_type": "code",
   "execution_count": 13,
   "id": "0cce7529-80a0-4892-896d-69846263fe22",
   "metadata": {},
   "outputs": [
    {
     "data": {
      "text/plain": [
       "['__add__',\n",
       " '__class__',\n",
       " '__class_getitem__',\n",
       " '__contains__',\n",
       " '__delattr__',\n",
       " '__dir__',\n",
       " '__doc__',\n",
       " '__eq__',\n",
       " '__format__',\n",
       " '__ge__',\n",
       " '__getattribute__',\n",
       " '__getitem__',\n",
       " '__getnewargs__',\n",
       " '__getstate__',\n",
       " '__gt__',\n",
       " '__hash__',\n",
       " '__init__',\n",
       " '__init_subclass__',\n",
       " '__iter__',\n",
       " '__le__',\n",
       " '__len__',\n",
       " '__lt__',\n",
       " '__mul__',\n",
       " '__ne__',\n",
       " '__new__',\n",
       " '__reduce__',\n",
       " '__reduce_ex__',\n",
       " '__repr__',\n",
       " '__rmul__',\n",
       " '__setattr__',\n",
       " '__sizeof__',\n",
       " '__str__',\n",
       " '__subclasshook__',\n",
       " 'count',\n",
       " 'index']"
      ]
     },
     "execution_count": 13,
     "metadata": {},
     "output_type": "execute_result"
    }
   ],
   "source": [
    "dir(())"
   ]
  },
  {
   "cell_type": "code",
   "execution_count": 14,
   "id": "201500d1-c331-4cf1-b038-90ae4dce787a",
   "metadata": {},
   "outputs": [
    {
     "data": {
      "text/plain": [
       "['__add__',\n",
       " '__class__',\n",
       " '__class_getitem__',\n",
       " '__contains__',\n",
       " '__delattr__',\n",
       " '__dir__',\n",
       " '__doc__',\n",
       " '__eq__',\n",
       " '__format__',\n",
       " '__ge__',\n",
       " '__getattribute__',\n",
       " '__getitem__',\n",
       " '__getnewargs__',\n",
       " '__getstate__',\n",
       " '__gt__',\n",
       " '__hash__',\n",
       " '__init__',\n",
       " '__init_subclass__',\n",
       " '__iter__',\n",
       " '__le__',\n",
       " '__len__',\n",
       " '__lt__',\n",
       " '__mul__',\n",
       " '__ne__',\n",
       " '__new__',\n",
       " '__reduce__',\n",
       " '__reduce_ex__',\n",
       " '__repr__',\n",
       " '__rmul__',\n",
       " '__setattr__',\n",
       " '__sizeof__',\n",
       " '__str__',\n",
       " '__subclasshook__',\n",
       " 'count',\n",
       " 'index']"
      ]
     },
     "execution_count": 14,
     "metadata": {},
     "output_type": "execute_result"
    }
   ],
   "source": [
    "dir(tuple)"
   ]
  },
  {
   "cell_type": "code",
   "execution_count": 15,
   "id": "057931f5-0b90-4c11-bc59-4598ce253fd1",
   "metadata": {},
   "outputs": [
    {
     "ename": "AttributeError",
     "evalue": "'tuple' object has no attribute 'Index'",
     "output_type": "error",
     "traceback": [
      "\u001b[1;31m---------------------------------------------------------------------------\u001b[0m",
      "\u001b[1;31mAttributeError\u001b[0m                            Traceback (most recent call last)",
      "Cell \u001b[1;32mIn[15], line 1\u001b[0m\n\u001b[1;32m----> 1\u001b[0m bio\u001b[38;5;241m.\u001b[39mIndex(\u001b[38;5;241m50000\u001b[39m)\n",
      "\u001b[1;31mAttributeError\u001b[0m: 'tuple' object has no attribute 'Index'"
     ]
    }
   ],
   "source": [
    "bio.Index(50000)"
   ]
  },
  {
   "cell_type": "code",
   "execution_count": 16,
   "id": "c1419bb2-14a7-4254-83d4-d5f7e8702e18",
   "metadata": {},
   "outputs": [
    {
     "ename": "AttributeError",
     "evalue": "'tuple' object has no attribute 'append'",
     "output_type": "error",
     "traceback": [
      "\u001b[1;31m---------------------------------------------------------------------------\u001b[0m",
      "\u001b[1;31mAttributeError\u001b[0m                            Traceback (most recent call last)",
      "Cell \u001b[1;32mIn[16], line 1\u001b[0m\n\u001b[1;32m----> 1\u001b[0m bio\u001b[38;5;241m.\u001b[39mappend(\u001b[38;5;241m50000\u001b[39m)\n",
      "\u001b[1;31mAttributeError\u001b[0m: 'tuple' object has no attribute 'append'"
     ]
    }
   ],
   "source": [
    "bio.append(50000)"
   ]
  },
  {
   "cell_type": "code",
   "execution_count": 17,
   "id": "8e5c8957-4da5-4da1-877a-795f5130c9c6",
   "metadata": {},
   "outputs": [
    {
     "data": {
      "text/plain": [
       "2"
      ]
     },
     "execution_count": 17,
     "metadata": {},
     "output_type": "execute_result"
    }
   ],
   "source": [
    "bio.index(50000)"
   ]
  },
  {
   "cell_type": "code",
   "execution_count": 18,
   "id": "65d5498a-65ff-424b-bd4b-b2c57d652531",
   "metadata": {},
   "outputs": [
    {
     "data": {
      "text/plain": [
       "1"
      ]
     },
     "execution_count": 18,
     "metadata": {},
     "output_type": "execute_result"
    }
   ],
   "source": [
    "bio.count(50000)"
   ]
  },
  {
   "cell_type": "code",
   "execution_count": 19,
   "id": "3985af56-1ba3-4a71-aef2-9e200f77a43d",
   "metadata": {},
   "outputs": [
    {
     "data": {
      "text/plain": [
       "('sana', 45, 50000, 'biryani', False, True)"
      ]
     },
     "execution_count": 19,
     "metadata": {},
     "output_type": "execute_result"
    }
   ],
   "source": [
    "bio"
   ]
  },
  {
   "cell_type": "code",
   "execution_count": 20,
   "id": "9a4f7bf9-71bc-447b-96fd-66976e5d7b31",
   "metadata": {},
   "outputs": [
    {
     "data": {
      "text/plain": [
       "['sana', 45, 50000, 'biryani', False, True]"
      ]
     },
     "execution_count": 20,
     "metadata": {},
     "output_type": "execute_result"
    }
   ],
   "source": [
    "bio_list"
   ]
  },
  {
   "cell_type": "code",
   "execution_count": 21,
   "id": "a2970a2e-8d76-44fb-bf58-c3b0a92595ad",
   "metadata": {},
   "outputs": [],
   "source": [
    "nested = (\"Ali\",45,\"pizza\",bio_list,bio)"
   ]
  },
  {
   "cell_type": "code",
   "execution_count": 22,
   "id": "5e8f1b5f-57b1-428c-80e0-293dd764c156",
   "metadata": {},
   "outputs": [
    {
     "data": {
      "text/plain": [
       "('Ali',\n",
       " 45,\n",
       " 'pizza',\n",
       " ['sana', 45, 50000, 'biryani', False, True],\n",
       " ('sana', 45, 50000, 'biryani', False, True))"
      ]
     },
     "execution_count": 22,
     "metadata": {},
     "output_type": "execute_result"
    }
   ],
   "source": [
    "nested"
   ]
  },
  {
   "cell_type": "code",
   "execution_count": 23,
   "id": "8fc7321b-7522-4a35-a148-0f6c08ad5a55",
   "metadata": {},
   "outputs": [
    {
     "data": {
      "text/plain": [
       "['sana', 45, 50000, 'biryani', False, True]"
      ]
     },
     "execution_count": 23,
     "metadata": {},
     "output_type": "execute_result"
    }
   ],
   "source": [
    "nested[3]"
   ]
  },
  {
   "cell_type": "code",
   "execution_count": 24,
   "id": "bcad2c37-e27d-4f26-b71d-1638f50d2b16",
   "metadata": {},
   "outputs": [],
   "source": [
    "nested[3][-3] = \"Pizza\""
   ]
  },
  {
   "cell_type": "code",
   "execution_count": 25,
   "id": "2837037f-365b-43dc-89f2-d9b3da98a5c0",
   "metadata": {},
   "outputs": [
    {
     "data": {
      "text/plain": [
       "('Ali',\n",
       " 45,\n",
       " 'pizza',\n",
       " ['sana', 45, 50000, 'Pizza', False, True],\n",
       " ('sana', 45, 50000, 'biryani', False, True))"
      ]
     },
     "execution_count": 25,
     "metadata": {},
     "output_type": "execute_result"
    }
   ],
   "source": [
    "nested"
   ]
  },
  {
   "cell_type": "code",
   "execution_count": 26,
   "id": "c2356b4b-7943-4349-bfe3-a1e06cd3b392",
   "metadata": {},
   "outputs": [
    {
     "ename": "TypeError",
     "evalue": "'tuple' object does not support item assignment",
     "output_type": "error",
     "traceback": [
      "\u001b[1;31m---------------------------------------------------------------------------\u001b[0m",
      "\u001b[1;31mTypeError\u001b[0m                                 Traceback (most recent call last)",
      "Cell \u001b[1;32mIn[26], line 1\u001b[0m\n\u001b[1;32m----> 1\u001b[0m nested[\u001b[38;5;241m-\u001b[39m\u001b[38;5;241m1\u001b[39m][\u001b[38;5;241m-\u001b[39m\u001b[38;5;241m3\u001b[39m] \u001b[38;5;241m=\u001b[39m \u001b[38;5;124m\"\u001b[39m\u001b[38;5;124mPizza\u001b[39m\u001b[38;5;124m\"\u001b[39m\n",
      "\u001b[1;31mTypeError\u001b[0m: 'tuple' object does not support item assignment"
     ]
    }
   ],
   "source": [
    "nested[-1][-3] = \"Pizza\""
   ]
  },
  {
   "cell_type": "code",
   "execution_count": 27,
   "id": "477871c5-9fcf-4005-9238-0285dd832dd3",
   "metadata": {},
   "outputs": [],
   "source": [
    "# Unpacking"
   ]
  },
  {
   "cell_type": "code",
   "execution_count": 28,
   "id": "f4047992-bca0-46a2-ada3-09e44f22b77b",
   "metadata": {},
   "outputs": [
    {
     "data": {
      "text/plain": [
       "('sana', 45, 50000, 'biryani', False, True)"
      ]
     },
     "execution_count": 28,
     "metadata": {},
     "output_type": "execute_result"
    }
   ],
   "source": [
    "bio"
   ]
  },
  {
   "cell_type": "code",
   "execution_count": 29,
   "id": "a50b46f9-1668-4a35-a217-662051add004",
   "metadata": {},
   "outputs": [
    {
     "data": {
      "text/plain": [
       "6"
      ]
     },
     "execution_count": 29,
     "metadata": {},
     "output_type": "execute_result"
    }
   ],
   "source": [
    "len(bio)"
   ]
  },
  {
   "cell_type": "code",
   "execution_count": 30,
   "id": "3291ec71-6c85-4594-b96c-c66e98456962",
   "metadata": {},
   "outputs": [],
   "source": [
    "name,age,salary,food,x,y = bio"
   ]
  },
  {
   "cell_type": "code",
   "execution_count": 31,
   "id": "12e3358d-7c23-498d-beb0-b81feab0330d",
   "metadata": {},
   "outputs": [
    {
     "data": {
      "text/plain": [
       "'sana'"
      ]
     },
     "execution_count": 31,
     "metadata": {},
     "output_type": "execute_result"
    }
   ],
   "source": [
    "name"
   ]
  },
  {
   "cell_type": "code",
   "execution_count": 32,
   "id": "1d75843d-34a7-44ed-bb9a-6dbf60c6d316",
   "metadata": {},
   "outputs": [
    {
     "data": {
      "text/plain": [
       "45"
      ]
     },
     "execution_count": 32,
     "metadata": {},
     "output_type": "execute_result"
    }
   ],
   "source": [
    "age"
   ]
  },
  {
   "cell_type": "code",
   "execution_count": 33,
   "id": "4fcf5450-3a11-4eda-b467-706121934577",
   "metadata": {},
   "outputs": [
    {
     "data": {
      "text/plain": [
       "'biryani'"
      ]
     },
     "execution_count": 33,
     "metadata": {},
     "output_type": "execute_result"
    }
   ],
   "source": [
    "food"
   ]
  },
  {
   "cell_type": "code",
   "execution_count": 34,
   "id": "ee7994fa-f99c-4eef-b8ac-6f1e1aa63a4b",
   "metadata": {},
   "outputs": [
    {
     "data": {
      "text/plain": [
       "False"
      ]
     },
     "execution_count": 34,
     "metadata": {},
     "output_type": "execute_result"
    }
   ],
   "source": [
    "x"
   ]
  },
  {
   "cell_type": "code",
   "execution_count": 35,
   "id": "185a0bbe-cf71-40be-a026-25703a0a4dab",
   "metadata": {},
   "outputs": [
    {
     "data": {
      "text/plain": [
       "True"
      ]
     },
     "execution_count": 35,
     "metadata": {},
     "output_type": "execute_result"
    }
   ],
   "source": [
    "y"
   ]
  },
  {
   "cell_type": "code",
   "execution_count": 36,
   "id": "a35e3839-88cd-4ffe-9745-7e8516c5c821",
   "metadata": {},
   "outputs": [
    {
     "ename": "ValueError",
     "evalue": "too many values to unpack (expected 5)",
     "output_type": "error",
     "traceback": [
      "\u001b[1;31m---------------------------------------------------------------------------\u001b[0m",
      "\u001b[1;31mValueError\u001b[0m                                Traceback (most recent call last)",
      "Cell \u001b[1;32mIn[36], line 1\u001b[0m\n\u001b[1;32m----> 1\u001b[0m name,age,salary,food,x \u001b[38;5;241m=\u001b[39m bio\n",
      "\u001b[1;31mValueError\u001b[0m: too many values to unpack (expected 5)"
     ]
    }
   ],
   "source": [
    "name,age,salary,food,x = bio"
   ]
  },
  {
   "cell_type": "code",
   "execution_count": 37,
   "id": "0367b690-1b99-4b55-881c-6b1b859814fc",
   "metadata": {},
   "outputs": [
    {
     "data": {
      "text/plain": [
       "('sana', 45, 50000, 'biryani', False, True)"
      ]
     },
     "execution_count": 37,
     "metadata": {},
     "output_type": "execute_result"
    }
   ],
   "source": [
    "bio"
   ]
  },
  {
   "cell_type": "code",
   "execution_count": 38,
   "id": "dd7d8f5e-0fc1-45ad-a3f1-dde289797e8e",
   "metadata": {},
   "outputs": [],
   "source": [
    "name,age,salary,food,*x = bio"
   ]
  },
  {
   "cell_type": "code",
   "execution_count": 39,
   "id": "aa91f026-3b6f-4ad4-9cb3-2f032898277d",
   "metadata": {},
   "outputs": [
    {
     "data": {
      "text/plain": [
       "[False, True]"
      ]
     },
     "execution_count": 39,
     "metadata": {},
     "output_type": "execute_result"
    }
   ],
   "source": [
    "x"
   ]
  },
  {
   "cell_type": "code",
   "execution_count": 40,
   "id": "d9b6dffd-389f-4761-8e06-4cd2cafe3b84",
   "metadata": {},
   "outputs": [],
   "source": [
    "name,age,salary,*food,x = bio"
   ]
  },
  {
   "cell_type": "code",
   "execution_count": 41,
   "id": "c9c0824b-eb21-4043-99da-7588dd572561",
   "metadata": {},
   "outputs": [
    {
     "data": {
      "text/plain": [
       "['biryani', False]"
      ]
     },
     "execution_count": 41,
     "metadata": {},
     "output_type": "execute_result"
    }
   ],
   "source": [
    "food"
   ]
  },
  {
   "cell_type": "code",
   "execution_count": 42,
   "id": "71637013-599b-41ee-93d2-caeb16e4c05d",
   "metadata": {},
   "outputs": [
    {
     "data": {
      "text/plain": [
       "True"
      ]
     },
     "execution_count": 42,
     "metadata": {},
     "output_type": "execute_result"
    }
   ],
   "source": [
    "x"
   ]
  },
  {
   "cell_type": "markdown",
   "id": "0575559b-a435-415a-aa12-d4f613c31554",
   "metadata": {},
   "source": [
    "# ***Dictionary***\n"
   ]
  },
  {
   "cell_type": "code",
   "execution_count": 43,
   "id": "df65a76b-f946-4798-8991-a5e738e7f7c3",
   "metadata": {},
   "outputs": [],
   "source": [
    "my_dict = {\n",
    "    # key:value\n",
    "    \"name\" : \"sana\",\n",
    "    \"age\":35,\n",
    "    \"color\":\"black\"\n",
    "}"
   ]
  },
  {
   "cell_type": "code",
   "execution_count": 44,
   "id": "516e9528-fd51-44d1-8d65-9d093116feb5",
   "metadata": {},
   "outputs": [
    {
     "data": {
      "text/plain": [
       "{'name': 'sana', 'age': 35, 'color': 'black'}"
      ]
     },
     "execution_count": 44,
     "metadata": {},
     "output_type": "execute_result"
    }
   ],
   "source": [
    "my_dict"
   ]
  },
  {
   "cell_type": "code",
   "execution_count": 45,
   "id": "d506f9a8-2eed-4519-91a4-21f9743e0bda",
   "metadata": {},
   "outputs": [
    {
     "ename": "KeyError",
     "evalue": "'Age'",
     "output_type": "error",
     "traceback": [
      "\u001b[1;31m---------------------------------------------------------------------------\u001b[0m",
      "\u001b[1;31mKeyError\u001b[0m                                  Traceback (most recent call last)",
      "Cell \u001b[1;32mIn[45], line 1\u001b[0m\n\u001b[1;32m----> 1\u001b[0m my_dict[\u001b[38;5;124m\"\u001b[39m\u001b[38;5;124mAge\u001b[39m\u001b[38;5;124m\"\u001b[39m]\n",
      "\u001b[1;31mKeyError\u001b[0m: 'Age'"
     ]
    }
   ],
   "source": [
    "my_dict[\"Age\"]"
   ]
  },
  {
   "cell_type": "code",
   "execution_count": 46,
   "id": "4a26b020-1ade-456b-bd69-b78d8792a7be",
   "metadata": {},
   "outputs": [
    {
     "data": {
      "text/plain": [
       "35"
      ]
     },
     "execution_count": 46,
     "metadata": {},
     "output_type": "execute_result"
    }
   ],
   "source": [
    "my_dict[\"age\"]"
   ]
  },
  {
   "cell_type": "code",
   "execution_count": 47,
   "id": "9577db0b-1adc-420e-b7e5-d8491713f5ee",
   "metadata": {},
   "outputs": [
    {
     "data": {
      "text/plain": [
       "'black'"
      ]
     },
     "execution_count": 47,
     "metadata": {},
     "output_type": "execute_result"
    }
   ],
   "source": [
    "my_dict['color']"
   ]
  },
  {
   "cell_type": "code",
   "execution_count": 48,
   "id": "a9a23351-3985-48e7-b86f-7d658397388c",
   "metadata": {},
   "outputs": [
    {
     "data": {
      "text/plain": [
       "['__class__',\n",
       " '__class_getitem__',\n",
       " '__contains__',\n",
       " '__delattr__',\n",
       " '__delitem__',\n",
       " '__dir__',\n",
       " '__doc__',\n",
       " '__eq__',\n",
       " '__format__',\n",
       " '__ge__',\n",
       " '__getattribute__',\n",
       " '__getitem__',\n",
       " '__getstate__',\n",
       " '__gt__',\n",
       " '__hash__',\n",
       " '__init__',\n",
       " '__init_subclass__',\n",
       " '__ior__',\n",
       " '__iter__',\n",
       " '__le__',\n",
       " '__len__',\n",
       " '__lt__',\n",
       " '__ne__',\n",
       " '__new__',\n",
       " '__or__',\n",
       " '__reduce__',\n",
       " '__reduce_ex__',\n",
       " '__repr__',\n",
       " '__reversed__',\n",
       " '__ror__',\n",
       " '__setattr__',\n",
       " '__setitem__',\n",
       " '__sizeof__',\n",
       " '__str__',\n",
       " '__subclasshook__',\n",
       " 'clear',\n",
       " 'copy',\n",
       " 'fromkeys',\n",
       " 'get',\n",
       " 'items',\n",
       " 'keys',\n",
       " 'pop',\n",
       " 'popitem',\n",
       " 'setdefault',\n",
       " 'update',\n",
       " 'values']"
      ]
     },
     "execution_count": 48,
     "metadata": {},
     "output_type": "execute_result"
    }
   ],
   "source": [
    "dir({})"
   ]
  },
  {
   "cell_type": "code",
   "execution_count": 49,
   "id": "456280e0-8ffa-4e4e-84ac-b623a6de6762",
   "metadata": {},
   "outputs": [
    {
     "data": {
      "text/plain": [
       "'sana'"
      ]
     },
     "execution_count": 49,
     "metadata": {},
     "output_type": "execute_result"
    }
   ],
   "source": [
    "my_dict.get(\"name\")"
   ]
  },
  {
   "cell_type": "code",
   "execution_count": 50,
   "id": "64e3f75f-3db6-4f8f-834a-9663503203be",
   "metadata": {},
   "outputs": [],
   "source": [
    "my_dict['age'] = 25"
   ]
  },
  {
   "cell_type": "code",
   "execution_count": 51,
   "id": "5512c223-19cb-4e4d-91a8-3904b36fbcb8",
   "metadata": {},
   "outputs": [
    {
     "data": {
      "text/plain": [
       "{'name': 'sana', 'age': 25, 'color': 'black'}"
      ]
     },
     "execution_count": 51,
     "metadata": {},
     "output_type": "execute_result"
    }
   ],
   "source": [
    "my_dict"
   ]
  },
  {
   "cell_type": "code",
   "execution_count": 52,
   "id": "d9ff07f3-f868-4717-8dd3-d53338b01a36",
   "metadata": {},
   "outputs": [],
   "source": [
    "my_dict.update({\"name\":\"Ali\"})"
   ]
  },
  {
   "cell_type": "code",
   "execution_count": 53,
   "id": "7f7fda5a-3be3-4ac7-8e56-61f9c1d635e6",
   "metadata": {},
   "outputs": [
    {
     "ename": "SyntaxError",
     "evalue": "invalid syntax (3095455203.py, line 1)",
     "output_type": "error",
     "traceback": [
      "\u001b[1;36m  Cell \u001b[1;32mIn[53], line 1\u001b[1;36m\u001b[0m\n\u001b[1;33m    my_dict.update(\"name\":\"Ali\")\u001b[0m\n\u001b[1;37m                         ^\u001b[0m\n\u001b[1;31mSyntaxError\u001b[0m\u001b[1;31m:\u001b[0m invalid syntax\n"
     ]
    }
   ],
   "source": [
    "my_dict.update(\"name\":\"Ali\")"
   ]
  },
  {
   "cell_type": "code",
   "execution_count": 54,
   "id": "14e276d0-1fa4-40af-82e9-cb669eb85158",
   "metadata": {},
   "outputs": [
    {
     "data": {
      "text/plain": [
       "{'name': 'Ali', 'age': 25, 'color': 'black'}"
      ]
     },
     "execution_count": 54,
     "metadata": {},
     "output_type": "execute_result"
    }
   ],
   "source": [
    "my_dict"
   ]
  },
  {
   "cell_type": "code",
   "execution_count": 55,
   "id": "bbea891e-7c9f-400e-afba-ef91c1a065e2",
   "metadata": {},
   "outputs": [
    {
     "data": {
      "text/plain": [
       "dict_keys(['name', 'age', 'color'])"
      ]
     },
     "execution_count": 55,
     "metadata": {},
     "output_type": "execute_result"
    }
   ],
   "source": [
    "my_dict.keys()"
   ]
  },
  {
   "cell_type": "code",
   "execution_count": 56,
   "id": "cc253c5b-e0ba-461d-91b7-25b5f6fba32b",
   "metadata": {},
   "outputs": [
    {
     "data": {
      "text/plain": [
       "dict_values(['Ali', 25, 'black'])"
      ]
     },
     "execution_count": 56,
     "metadata": {},
     "output_type": "execute_result"
    }
   ],
   "source": [
    "my_dict.values()"
   ]
  },
  {
   "cell_type": "code",
   "execution_count": 57,
   "id": "6438af3a-eb9c-4072-8f08-1cfa1c678482",
   "metadata": {},
   "outputs": [
    {
     "data": {
      "text/plain": [
       "'Ali'"
      ]
     },
     "execution_count": 57,
     "metadata": {},
     "output_type": "execute_result"
    }
   ],
   "source": [
    "my_dict.pop(\"name\")"
   ]
  },
  {
   "cell_type": "code",
   "execution_count": 58,
   "id": "25bb7e1c-fe6f-4b85-8fde-84300c2558ae",
   "metadata": {},
   "outputs": [
    {
     "data": {
      "text/plain": [
       "{'age': 25, 'color': 'black'}"
      ]
     },
     "execution_count": 58,
     "metadata": {},
     "output_type": "execute_result"
    }
   ],
   "source": [
    "my_dict"
   ]
  },
  {
   "cell_type": "code",
   "execution_count": 59,
   "id": "204fd60b-2a94-4996-b9da-4169c7e46afd",
   "metadata": {},
   "outputs": [
    {
     "data": {
      "text/plain": [
       "dict_items([('age', 25), ('color', 'black')])"
      ]
     },
     "execution_count": 59,
     "metadata": {},
     "output_type": "execute_result"
    }
   ],
   "source": [
    "my_dict.items()"
   ]
  },
  {
   "cell_type": "code",
   "execution_count": 60,
   "id": "d3d569b0-ef93-457c-be91-e37880dff201",
   "metadata": {},
   "outputs": [
    {
     "data": {
      "text/plain": [
       "['__class__',\n",
       " '__class_getitem__',\n",
       " '__contains__',\n",
       " '__delattr__',\n",
       " '__delitem__',\n",
       " '__dir__',\n",
       " '__doc__',\n",
       " '__eq__',\n",
       " '__format__',\n",
       " '__ge__',\n",
       " '__getattribute__',\n",
       " '__getitem__',\n",
       " '__getstate__',\n",
       " '__gt__',\n",
       " '__hash__',\n",
       " '__init__',\n",
       " '__init_subclass__',\n",
       " '__ior__',\n",
       " '__iter__',\n",
       " '__le__',\n",
       " '__len__',\n",
       " '__lt__',\n",
       " '__ne__',\n",
       " '__new__',\n",
       " '__or__',\n",
       " '__reduce__',\n",
       " '__reduce_ex__',\n",
       " '__repr__',\n",
       " '__reversed__',\n",
       " '__ror__',\n",
       " '__setattr__',\n",
       " '__setitem__',\n",
       " '__sizeof__',\n",
       " '__str__',\n",
       " '__subclasshook__',\n",
       " 'clear',\n",
       " 'copy',\n",
       " 'fromkeys',\n",
       " 'get',\n",
       " 'items',\n",
       " 'keys',\n",
       " 'pop',\n",
       " 'popitem',\n",
       " 'setdefault',\n",
       " 'update',\n",
       " 'values']"
      ]
     },
     "execution_count": 60,
     "metadata": {},
     "output_type": "execute_result"
    }
   ],
   "source": [
    "dir(my_dict)"
   ]
  },
  {
   "cell_type": "code",
   "execution_count": 61,
   "id": "56c7e550-6e48-4813-91b6-5d6be7c9f051",
   "metadata": {},
   "outputs": [],
   "source": [
    "my_dict.clear()"
   ]
  },
  {
   "cell_type": "code",
   "execution_count": 62,
   "id": "9a92710e-eec0-4880-adee-687cd2ca8087",
   "metadata": {},
   "outputs": [
    {
     "data": {
      "text/plain": [
       "{}"
      ]
     },
     "execution_count": 62,
     "metadata": {},
     "output_type": "execute_result"
    }
   ],
   "source": [
    "my_dict"
   ]
  },
  {
   "cell_type": "code",
   "execution_count": 63,
   "id": "ffca2a21-39a4-4c57-9f39-d1b7c976ab8a",
   "metadata": {},
   "outputs": [],
   "source": [
    "my_dict = {\n",
    "    # key:value\n",
    "    \"name\" : \"sana\",\n",
    "    \"age\":35,\n",
    "    \"color\":\"black\"\n",
    "}"
   ]
  },
  {
   "cell_type": "code",
   "execution_count": 64,
   "id": "b899661e-1f14-45ec-ac9d-7a9b8449ad47",
   "metadata": {},
   "outputs": [
    {
     "data": {
      "text/plain": [
       "{'name': 'sana', 'age': 35, 'color': 'black'}"
      ]
     },
     "execution_count": 64,
     "metadata": {},
     "output_type": "execute_result"
    }
   ],
   "source": [
    "my_dict"
   ]
  },
  {
   "cell_type": "code",
   "execution_count": 68,
   "id": "1e578c2c-cf8c-40ee-af66-03a156d133e3",
   "metadata": {},
   "outputs": [
    {
     "data": {
      "text/plain": [
       "{'write': False, 'update': False, 'delete': False}"
      ]
     },
     "execution_count": 68,
     "metadata": {},
     "output_type": "execute_result"
    }
   ],
   "source": [
    "permission = ['write','update','delete']\n",
    "dict.fromkeys(permission,False)"
   ]
  },
  {
   "cell_type": "code",
   "execution_count": 66,
   "id": "2484f007-2150-4684-b39e-7e8fc9967f35",
   "metadata": {},
   "outputs": [
    {
     "name": "stdout",
     "output_type": "stream",
     "text": [
      "write\n",
      "update\n",
      "delete\n"
     ]
    }
   ],
   "source": [
    "for item in permission:\n",
    "    print(item)"
   ]
  },
  {
   "cell_type": "code",
   "execution_count": 71,
   "id": "8ea4673f-9af3-420c-961b-ac5edab34d18",
   "metadata": {},
   "outputs": [
    {
     "data": {
      "text/plain": [
       "{'r': False, 'e': False, 'a': False, 'd': False}"
      ]
     },
     "execution_count": 71,
     "metadata": {},
     "output_type": "execute_result"
    }
   ],
   "source": [
    "permission = ['write','update','delete']\n",
    "dict.fromkeys(,False)"
   ]
  },
  {
   "cell_type": "code",
   "execution_count": 72,
   "id": "58148307-288e-4fee-8995-79eb61ed9a84",
   "metadata": {},
   "outputs": [
    {
     "data": {
      "text/plain": [
       "{'write': False, 'update': False, 'delete': False}"
      ]
     },
     "execution_count": 72,
     "metadata": {},
     "output_type": "execute_result"
    }
   ],
   "source": [
    "permission = ('write','update','delete')\n",
    "dict.fromkeys(permission,False)"
   ]
  },
  {
   "cell_type": "code",
   "execution_count": 75,
   "id": "60c21ece-77ab-4902-82df-2f2dca428f1f",
   "metadata": {},
   "outputs": [
    {
     "name": "stdout",
     "output_type": "stream",
     "text": [
      "{'brand': 'Ford', 'model': 'Mustang', 'year': 2020}\n"
     ]
    }
   ],
   "source": [
    "thisdict = {\n",
    "  \"brand\": \"Ford\",\n",
    "  \"model\": \"Mustang\",\n",
    "  \"year\": 1964,\n",
    "  \"year\": 2020\n",
    "}\n",
    "print(thisdict)"
   ]
  },
  {
   "cell_type": "code",
   "execution_count": 76,
   "id": "e8cf2fc6-630e-43ea-bb3e-05e0187be940",
   "metadata": {},
   "outputs": [
    {
     "name": "stdout",
     "output_type": "stream",
     "text": [
      "{'name': 'John', 'age': 36, 'country': 'Norway'}\n"
     ]
    }
   ],
   "source": [
    "thisdict = dict(name = \"John\", age = 36, country = \"Norway\")\n",
    "print(thisdict)"
   ]
  },
  {
   "cell_type": "code",
   "execution_count": 78,
   "id": "6649141b-a1af-4d48-8282-a1da5d3b1d8f",
   "metadata": {},
   "outputs": [
    {
     "data": {
      "text/plain": [
       "{'name': 'sana'}"
      ]
     },
     "execution_count": 78,
     "metadata": {},
     "output_type": "execute_result"
    }
   ],
   "source": [
    "dict(name=\"sana\")"
   ]
  },
  {
   "cell_type": "code",
   "execution_count": 79,
   "id": "8ce47979-0eb9-47b4-8cb7-473e689a0996",
   "metadata": {},
   "outputs": [],
   "source": [
    "company = {\n",
    "    \"HR\": {\"manager\": \"Fatima\", \"employees\": {\"E1\": \"Ali\", \"E2\": \"Usman\"}},\n",
    "    \"IT\": {\"manager\": \"Khalid\", \"employees\": {\"E3\": \"Sara\", \"E4\": \"Bilal\"}},\n",
    "    \"Finance\": {\"manager\": \"Zara\", \"employees\": {\"E5\": \"Hassan\", \"E6\": \"Nadia\"}}\n",
    "}\n"
   ]
  },
  {
   "cell_type": "code",
   "execution_count": 83,
   "id": "19aa6145-f7a9-4a74-8ab0-6880e74d1483",
   "metadata": {},
   "outputs": [
    {
     "data": {
      "text/plain": [
       "'Sara'"
      ]
     },
     "execution_count": 83,
     "metadata": {},
     "output_type": "execute_result"
    }
   ],
   "source": [
    "company[\"IT\"][\"employees\"][\"E3\"]"
   ]
  },
  {
   "cell_type": "code",
   "execution_count": 84,
   "id": "a00324ec-c10f-4236-bc82-ecff435ffb46",
   "metadata": {},
   "outputs": [],
   "source": [
    "python_Set = {1,2,3,1,5,5,5,5,6,6}"
   ]
  },
  {
   "cell_type": "code",
   "execution_count": 85,
   "id": "2756c27a-812d-41e9-bb08-276c55bb1b80",
   "metadata": {},
   "outputs": [
    {
     "data": {
      "text/plain": [
       "{1, 2, 3, 5, 6}"
      ]
     },
     "execution_count": 85,
     "metadata": {},
     "output_type": "execute_result"
    }
   ],
   "source": [
    "python_Set"
   ]
  },
  {
   "cell_type": "code",
   "execution_count": 86,
   "id": "5ee5ae9b-41dc-4d78-b121-2e62374ce199",
   "metadata": {},
   "outputs": [
    {
     "data": {
      "text/plain": [
       "['__and__',\n",
       " '__class__',\n",
       " '__class_getitem__',\n",
       " '__contains__',\n",
       " '__delattr__',\n",
       " '__dir__',\n",
       " '__doc__',\n",
       " '__eq__',\n",
       " '__format__',\n",
       " '__ge__',\n",
       " '__getattribute__',\n",
       " '__getstate__',\n",
       " '__gt__',\n",
       " '__hash__',\n",
       " '__iand__',\n",
       " '__init__',\n",
       " '__init_subclass__',\n",
       " '__ior__',\n",
       " '__isub__',\n",
       " '__iter__',\n",
       " '__ixor__',\n",
       " '__le__',\n",
       " '__len__',\n",
       " '__lt__',\n",
       " '__ne__',\n",
       " '__new__',\n",
       " '__or__',\n",
       " '__rand__',\n",
       " '__reduce__',\n",
       " '__reduce_ex__',\n",
       " '__repr__',\n",
       " '__ror__',\n",
       " '__rsub__',\n",
       " '__rxor__',\n",
       " '__setattr__',\n",
       " '__sizeof__',\n",
       " '__str__',\n",
       " '__sub__',\n",
       " '__subclasshook__',\n",
       " '__xor__',\n",
       " 'add',\n",
       " 'clear',\n",
       " 'copy',\n",
       " 'difference',\n",
       " 'difference_update',\n",
       " 'discard',\n",
       " 'intersection',\n",
       " 'intersection_update',\n",
       " 'isdisjoint',\n",
       " 'issubset',\n",
       " 'issuperset',\n",
       " 'pop',\n",
       " 'remove',\n",
       " 'symmetric_difference',\n",
       " 'symmetric_difference_update',\n",
       " 'union',\n",
       " 'update']"
      ]
     },
     "execution_count": 86,
     "metadata": {},
     "output_type": "execute_result"
    }
   ],
   "source": [
    "dir(set())"
   ]
  },
  {
   "cell_type": "code",
   "execution_count": 87,
   "id": "643ab3cd-d775-4a90-b7a2-043e1cec68ba",
   "metadata": {},
   "outputs": [
    {
     "data": {
      "text/plain": [
       "{1, 2, 3}"
      ]
     },
     "execution_count": 87,
     "metadata": {},
     "output_type": "execute_result"
    }
   ],
   "source": [
    "# Creating sets\n",
    "a = {1, 2, 3}\n",
    "b = {3, 4, 5}\n",
    "a"
   ]
  },
  {
   "cell_type": "code",
   "execution_count": 88,
   "id": "72319d56-a149-4b19-9414-6efdb64e372e",
   "metadata": {},
   "outputs": [],
   "source": [
    "a.add(10)          # Add single element → {1, 2, 3, 10}\n",
    "# a.update([20, 30]) # Add multiple elements → {1, 2, 3, 10, 20, 30}\n",
    "\n",
    "# a.remove(1)        # Remove element (Error if not found)\n",
    "# a.discard(100)     # Remove element (No error if not found)\n",
    "# a.pop()            # Removes a random element\n",
    "# a.clear()          # Empty the set → set()\n"
   ]
  },
  {
   "cell_type": "code",
   "execution_count": 89,
   "id": "c6836f29-b3e7-499d-aaca-3f4985324f66",
   "metadata": {},
   "outputs": [
    {
     "data": {
      "text/plain": [
       "{1, 2, 3, 10}"
      ]
     },
     "execution_count": 89,
     "metadata": {},
     "output_type": "execute_result"
    }
   ],
   "source": [
    "a"
   ]
  },
  {
   "cell_type": "code",
   "execution_count": 92,
   "id": "ab872967-c3bc-47da-bab7-252ae1d53f54",
   "metadata": {},
   "outputs": [
    {
     "ename": "TypeError",
     "evalue": "'int' object is not iterable",
     "output_type": "error",
     "traceback": [
      "\u001b[1;31m---------------------------------------------------------------------------\u001b[0m",
      "\u001b[1;31mTypeError\u001b[0m                                 Traceback (most recent call last)",
      "Cell \u001b[1;32mIn[92], line 1\u001b[0m\n\u001b[1;32m----> 1\u001b[0m a\u001b[38;5;241m.\u001b[39mupdate(\u001b[38;5;241m20\u001b[39m, \u001b[38;5;241m30\u001b[39m)\n",
      "\u001b[1;31mTypeError\u001b[0m: 'int' object is not iterable"
     ]
    }
   ],
   "source": [
    "a.update(20, 30)"
   ]
  },
  {
   "cell_type": "code",
   "execution_count": 93,
   "id": "56670a4f-1be7-4a32-9824-5e1f50c065f6",
   "metadata": {},
   "outputs": [],
   "source": [
    "a.update([20, 30])"
   ]
  },
  {
   "cell_type": "code",
   "execution_count": 94,
   "id": "9af80a08-824a-44ae-abde-354d628b1548",
   "metadata": {},
   "outputs": [
    {
     "data": {
      "text/plain": [
       "{1, 2, 3, 10, 20, 30}"
      ]
     },
     "execution_count": 94,
     "metadata": {},
     "output_type": "execute_result"
    }
   ],
   "source": [
    "a"
   ]
  },
  {
   "cell_type": "code",
   "execution_count": null,
   "id": "b3474f96-8664-4c1d-ab28-d25a287915a9",
   "metadata": {},
   "outputs": [],
   "source": []
  }
 ],
 "metadata": {
  "kernelspec": {
   "display_name": "Python 3 (ipykernel)",
   "language": "python",
   "name": "python3"
  },
  "language_info": {
   "codemirror_mode": {
    "name": "ipython",
    "version": 3
   },
   "file_extension": ".py",
   "mimetype": "text/x-python",
   "name": "python",
   "nbconvert_exporter": "python",
   "pygments_lexer": "ipython3",
   "version": "3.12.7"
  }
 },
 "nbformat": 4,
 "nbformat_minor": 5
}
