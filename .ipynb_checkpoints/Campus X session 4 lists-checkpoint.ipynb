{
 "cells": [
  {
   "cell_type": "markdown",
   "id": "e2dcbc56-93d0-4846-a246-b0067ee5cab7",
   "metadata": {},
   "source": [
    "# list "
   ]
  },
  {
   "cell_type": "code",
   "execution_count": 1,
   "id": "81790afa-4e8d-4556-8e72-6a2c10e901f6",
   "metadata": {},
   "outputs": [],
   "source": [
    "# store multiple data types in single variable or under 1 name\n",
    "# why? when we have to store different datatypes in single variable\n",
    "# Array vs list = fixed (limitation and have to tell before addition) vs dynamic size( no limitation and can add more items in it)\n",
    "# convenience --> heterogenous\n",
    "# array homogenous only single data types, list heterogenous diff datatypes\n",
    "# speed of execution slow in python drawback\n",
    "# memory more space occupy "
   ]
  },
  {
   "cell_type": "code",
   "execution_count": 2,
   "id": "65c78631-4179-455f-a45a-4fc0a6894363",
   "metadata": {},
   "outputs": [
    {
     "name": "stdout",
     "output_type": "stream",
     "text": [
      "140733837486552\n"
     ]
    }
   ],
   "source": [
    "a = 2\n",
    "print(id(2))"
   ]
  },
  {
   "cell_type": "code",
   "execution_count": 3,
   "id": "83a158cc-b9b0-44c4-a665-da4ff6501388",
   "metadata": {},
   "outputs": [
    {
     "name": "stdout",
     "output_type": "stream",
     "text": [
      "2701487327616\n",
      "140733837486520\n",
      "140733837486584\n",
      "140733837486520\n",
      "140733837486552\n",
      "140733837486584\n"
     ]
    }
   ],
   "source": [
    "L = [1,2,3,4]\n",
    "print(id(L))\n",
    "print(id(L[0]))\n",
    "print(id(L[2]))\n",
    "print(id(1))\n",
    "print(id(2))\n",
    "print(id(3))"
   ]
  },
  {
   "cell_type": "code",
   "execution_count": 4,
   "id": "1c0342d6-0824-4135-b415-c247ef944325",
   "metadata": {},
   "outputs": [
    {
     "data": {
      "text/plain": [
       "True"
      ]
     },
     "execution_count": 4,
     "metadata": {},
     "output_type": "execute_result"
    }
   ],
   "source": [
    "L = [1,2,3]\n",
    "L1 = [1,2,3]\n",
    "\n",
    "L == L1"
   ]
  },
  {
   "cell_type": "code",
   "execution_count": 5,
   "id": "6e58efc9-c52f-4a79-baf3-8c8eb5be0b5b",
   "metadata": {},
   "outputs": [
    {
     "data": {
      "text/plain": [
       "False"
      ]
     },
     "execution_count": 5,
     "metadata": {},
     "output_type": "execute_result"
    }
   ],
   "source": [
    "L = [1,2,34,4]\n",
    "M = [32,5,54,6]\n",
    "L ==M"
   ]
  },
  {
   "cell_type": "code",
   "execution_count": 6,
   "id": "2882299b-19ac-4cfd-8b21-0e509c68cffe",
   "metadata": {},
   "outputs": [
    {
     "name": "stdout",
     "output_type": "stream",
     "text": [
      "[]\n",
      "[1, 2, 3, 4, 5]\n",
      "[1, 2, 3, [2, 4, 6, 8]]\n",
      "[[[1, 2], [3, 4]], [[5, 6], [8, 9]]]\n",
      "[1, 'hello', 3.566, (5+6j), True, 'tajdar abbas']\n",
      "['h', 'e', 'l', 'l', 'o']\n"
     ]
    }
   ],
   "source": [
    "# empty list\n",
    "print([])\n",
    "\n",
    "# 1D list\n",
    "print([1,2,3,4,5]) # homogenous list\n",
    "\n",
    "# 2D list or nested list\n",
    "print([1,2,3,[2,4,6,8]]) # heterogenous list bcz there are 4 items, 3 numbers and 1 list\n",
    "\n",
    "# 3D listlist k andar list k andar list\n",
    "print([[[1,2], [3,4]], [[5,6], [8,9]]]) # same 2D list homogenous list\n",
    "# output k end ma jitna barcket utni dimension\n",
    "\n",
    "# heterogenous list\n",
    "print([1, 'hello', 3.566, (5+6j), True, 'tajdar abbas'])\n",
    "\n",
    "# using type conversion\n",
    "print(list('hello'))"
   ]
  },
  {
   "cell_type": "code",
   "execution_count": 7,
   "id": "3e4449a2-c099-409f-918f-b4bbfd5a1add",
   "metadata": {},
   "outputs": [
    {
     "name": "stdout",
     "output_type": "stream",
     "text": [
      "1\n",
      "5\n",
      "9\n",
      "2\n",
      "[6, 7, 8, 9, 0]\n",
      "8\n",
      "4\n",
      "[[1, 2], [3, 4]]\n",
      "[[5, 6], [8, 9]]\n",
      "[5, 6]\n",
      "5\n",
      "2\n"
     ]
    }
   ],
   "source": [
    "# to fetch items from list; indexing and slicing\n",
    "# Indexing: \n",
    "L = [1,2,3,4,5,6,7,8,9]\n",
    "print(L[0]) # positve indexing\n",
    "print(L[4])\n",
    "print(L[-1])\n",
    "print(L[-8])\n",
    "\n",
    "# in 2D list\n",
    "L = [1,2,3,4,[6,7,8,9,0]]\n",
    "# negative indexing\n",
    "print(L[-1])\n",
    "print(L[-1][-3])\n",
    "# positive indexing\n",
    "print(L[3])\n",
    "# in 3D list\n",
    "L = [[[1,2], [3,4]], [[5,6], [8,9]]]\n",
    "print(L[0])\n",
    "print(L[1])\n",
    "print(L[1][0])\n",
    "print(L[1][0][0])\n",
    "print(L[0][0][1])"
   ]
  },
  {
   "cell_type": "code",
   "execution_count": 8,
   "id": "2e6bd3b4-4707-455a-9ab4-3c46ae078604",
   "metadata": {},
   "outputs": [
    {
     "name": "stdout",
     "output_type": "stream",
     "text": [
      "[9, 8, 7, 6, 5, 4]\n",
      "[5, 4, 3, 2, 1]\n",
      "[9, 8, 7, 6, 5, 4]\n",
      "[9, 7, 5, 3, 1]\n",
      "[9, 6, 3]\n",
      "[8, 6]\n",
      "[1, 2, 3, 4, 5, 6, 7, 8, 9]\n"
     ]
    }
   ],
   "source": [
    "# slicing:\n",
    "L = [9,8,7,6,5,4,3,2,1]\n",
    "print(L[0:6])\n",
    "print(L[-5: ])\n",
    "print(L[ :-3])\n",
    "print(L[0::2])\n",
    "print(L[0::3])\n",
    "print(L[-8:-4: 2])\n",
    "# list reverse\n",
    "print(L[::-1])"
   ]
  },
  {
   "cell_type": "code",
   "execution_count": 9,
   "id": "8a4ba260-e4eb-4fda-b2e4-5cc1c60144c3",
   "metadata": {},
   "outputs": [
    {
     "name": "stdout",
     "output_type": "stream",
     "text": [
      "[78, 34, 56, 42, 15, 98, True]\n",
      "['amna', 56, 'female', 'graduated', 4.0, [23, 34, 45, 56, 78, 89]]\n",
      "[1, 2, 3, 4, 5, 6, True]\n",
      "['amna', 56, 'female', 'graduated', 4.0, 23, 34, 45, 56, 78, 89]\n",
      "[23, 34, 45, 56, 78, 89, 'amna', 56, 'female', 'graduated', 4.0]\n",
      "[23, 34, 45, 56, 78, 89, 'h', 'e', 'l', 'l', 'o']\n",
      "[18, 23, 34, 45, 56, 78, 89]\n",
      "[23, 34, 44, 56, 78, 89]\n"
     ]
    }
   ],
   "source": [
    "# adding items to a list\n",
    "\n",
    "# append\n",
    "L = [78,34,56,42,15,98]\n",
    "L.append(True)\n",
    "print(L)\n",
    "#\n",
    "bio = [ \"amna\", 56, \"female\", \"graduated\", 4.00]\n",
    "L = [23,34,45,56,78,89]\n",
    "bio.append(L)\n",
    "print(bio)\n",
    "\n",
    "\n",
    "# Extend\n",
    "L = [1,2,3,4,5,6]\n",
    "L.extend([True])\n",
    "print(L)\n",
    "# \n",
    "bio = [ \"amna\", 56, \"female\", \"graduated\", 4.00]\n",
    "L = [23,34,45,56,78,89]\n",
    "bio.extend(L)\n",
    "print(bio)\n",
    "#\n",
    "bio = [ \"amna\", 56, \"female\", \"graduated\", 4.00]\n",
    "L = [23,34,45,56,78,89]\n",
    "L.extend(bio)\n",
    "print(L)\n",
    "#\n",
    "L = [23,34,45,56,78,89]\n",
    "L.extend(\"hello\")\n",
    "print(L)\n",
    "\n",
    "# insert in between two items specific position [L.insert(index, object)]\n",
    "L = [23,34,45,56,78,89]\n",
    "L.insert(0,18)\n",
    "print(L)\n",
    "\n",
    "# changing items at specific index number like 44 instead of 44 (editing )\n",
    "L = [23,34,45,56,78,89]\n",
    "L[2]=44\n",
    "print(L)"
   ]
  },
  {
   "cell_type": "code",
   "execution_count": 10,
   "id": "ed9f0214-98fa-4dbe-a3b1-b5c2d7b0a801",
   "metadata": {},
   "outputs": [
    {
     "name": "stdout",
     "output_type": "stream",
     "text": [
      "[23, 34, 45, 56, 67, 89]\n",
      "['Wajeeha', 22, 3.8, 'female', 'masters in biotech', 'lab tachnologist']\n"
     ]
    },
    {
     "data": {
      "text/plain": [
       "[23, 34, 47, 78, 72, 89]"
      ]
     },
     "execution_count": 10,
     "metadata": {},
     "output_type": "execute_result"
    }
   ],
   "source": [
    "# editing items in a list\n",
    "L = [23,34,45,56,78,89]\n",
    "L[4]=67\n",
    "print(L)\n",
    "# editing with indexing\n",
    "bio = [ \"Wajeeha\", 22, 3.8, \"female\", \"masters in biotech\", \"teacher\"]\n",
    "bio[5]= \"lab tachnologist\"\n",
    "print(bio)\n",
    "# editing with slicing\n",
    "L = [23,34,45,56,78,89]\n",
    "L[2:5]=47,78,72\n",
    "L"
   ]
  },
  {
   "cell_type": "code",
   "execution_count": 11,
   "id": "0cc79f1d-9c8e-4709-b4c6-7dbce7dcb6a8",
   "metadata": {},
   "outputs": [
    {
     "name": "stdout",
     "output_type": "stream",
     "text": [
      "[23, 34, 45, 56, 78, 89]\n",
      "[23, 45, 56, 78, 89]\n",
      "[23, 78, 89]\n"
     ]
    }
   ],
   "source": [
    "# deletion\n",
    "# del pora list delete\n",
    "L = [23,34,45,56,78,89]\n",
    "print(L)\n",
    "\n",
    "#indexing\n",
    "L = [23,34,45,56,78,89]\n",
    "del L[-5]\n",
    "print(L)\n",
    "# slicing\n",
    "L = [23,34,45,56,78,89]\n",
    "del L[1:4]\n",
    "print(L)\n",
    "\n",
    "# remove\n",
    "# pop\n",
    "#clear"
   ]
  },
  {
   "cell_type": "code",
   "execution_count": 12,
   "id": "b1c7b2f3-56b9-4336-9df3-9c363190b0b2",
   "metadata": {},
   "outputs": [
    {
     "name": "stdout",
     "output_type": "stream",
     "text": [
      "[23, 34, 45, 78, 89]\n"
     ]
    }
   ],
   "source": [
    "# remove according to value or name\n",
    "\n",
    "L = [23,34,45,56,78,89]\n",
    "L.remove(56)\n",
    "print(L)"
   ]
  },
  {
   "cell_type": "code",
   "execution_count": 13,
   "id": "476db2ba-5568-4873-b6a4-f5f55e8025b8",
   "metadata": {},
   "outputs": [
    {
     "name": "stdout",
     "output_type": "stream",
     "text": [
      "[23, 34, 45, 56, 78]\n"
     ]
    }
   ],
   "source": [
    "# pop particular index wala item ko delete karain gha\n",
    "L = [23,34,45,56,78,89]\n",
    "L.pop(3)\n",
    "\n",
    "# index nhi da gah to last wala delete karain gha\n",
    "L = [23,34,45,56,78,89]\n",
    "L.pop()\n",
    "print(L)\n",
    "\n"
   ]
  },
  {
   "cell_type": "code",
   "execution_count": 14,
   "id": "3147d82d-f13a-48a8-91d9-d9498bcfbfd7",
   "metadata": {},
   "outputs": [
    {
     "name": "stdout",
     "output_type": "stream",
     "text": [
      "[]\n"
     ]
    }
   ],
   "source": [
    "# clear\n",
    "L = [23,34,45,56,78,89]\n",
    "L.clear()\n",
    "print(L)"
   ]
  },
  {
   "cell_type": "code",
   "execution_count": 15,
   "id": "d549446a-5bd2-40d2-af2e-3fee480b22bb",
   "metadata": {},
   "outputs": [
    {
     "data": {
      "text/plain": [
       "[23, 34, 56, 78, 89]"
      ]
     },
     "execution_count": 15,
     "metadata": {},
     "output_type": "execute_result"
    }
   ],
   "source": [
    "L = [23,34,45,56,78,89]\n",
    "del L[2]\n",
    "L"
   ]
  },
  {
   "cell_type": "code",
   "execution_count": 16,
   "id": "69c84783-70f6-4ba8-a73a-6ef410788e97",
   "metadata": {},
   "outputs": [
    {
     "name": "stdout",
     "output_type": "stream",
     "text": [
      "[1, 2, 3, 4, 5, 6, 5, 6, 7, 8, 9, 0]\n",
      "[]\n",
      "True\n",
      "False\n"
     ]
    }
   ],
   "source": [
    "# operation on list\n",
    "\n",
    "# arithmetic(+, *)\n",
    "L1 = [1,2,3,4,5,6]\n",
    "L2 = [5,6,7,8,9,0]\n",
    "print(L1+L2)\n",
    "\n",
    "L1 = [1,2,3,4,5,6]\n",
    "print(L1*0)\n",
    "# membership\n",
    "L1 = [1,2,3,4,5,6]\n",
    "L2 = [6,7,8,[5,6,7]]\n",
    "print(5 in L1)\n",
    "print(5 not in L1)\n",
    "# loop"
   ]
  },
  {
   "cell_type": "code",
   "execution_count": null,
   "id": "db838edd-8398-4a83-9976-34cc597c7797",
   "metadata": {},
   "outputs": [],
   "source": []
  }
 ],
 "metadata": {
  "kernelspec": {
   "display_name": "Python 3 (ipykernel)",
   "language": "python",
   "name": "python3"
  },
  "language_info": {
   "codemirror_mode": {
    "name": "ipython",
    "version": 3
   },
   "file_extension": ".py",
   "mimetype": "text/x-python",
   "name": "python",
   "nbconvert_exporter": "python",
   "pygments_lexer": "ipython3",
   "version": "3.12.7"
  }
 },
 "nbformat": 4,
 "nbformat_minor": 5
}
