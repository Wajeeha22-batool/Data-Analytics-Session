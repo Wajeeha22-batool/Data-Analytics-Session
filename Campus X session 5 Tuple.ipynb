{
 "cells": [
  {
   "cell_type": "code",
   "execution_count": 1,
   "id": "f8c32a15-cfb5-49ab-85b0-b3c7119e397a",
   "metadata": {},
   "outputs": [],
   "source": [
    "# tuple: immutable, ordered, allows duplicate\n",
    "  # plan of attack:\n",
    "# creating a tuple\n",
    "# accessing items\n",
    "# editing items\n",
    "# adding items\n",
    "# deleting items\n",
    "# operation on tuple\n",
    "# tuple function "
   ]
  },
  {
   "cell_type": "markdown",
   "id": "06e1244d-791e-4d45-b89d-492dd95ee106",
   "metadata": {},
   "source": [
    "# creating a table:"
   ]
  },
  {
   "cell_type": "code",
   "execution_count": 25,
   "id": "23830838-7e91-4536-ae3d-39e9977b895d",
   "metadata": {},
   "outputs": [
    {
     "name": "stdout",
     "output_type": "stream",
     "text": [
      "()\n",
      "(1,)\n",
      "(1, 2, 3, 'wajiha', 'apple', 6.7)\n",
      "(1, 2, 3, (3, 4, 5), 7, 8, 9)\n",
      "('h', 'e', 'l', 'l', 'o', ' ', 'w', 'o', 'r', 'l', 'd')\n",
      "(1, 2, 3, [0, 9, 8, 7], 5)\n"
     ]
    }
   ],
   "source": [
    "# empty\n",
    "t1 = ()\n",
    "print (t1)\n",
    "# create tuple with single item\n",
    "t2 = (1,) #not like this (1)\n",
    "print(t2)\n",
    "# creat tuple with hetero datatype\n",
    "t3 = (1,2,3,\"wajiha\", \"apple\", 6.7)\n",
    "print(t3)\n",
    "# tuple within a tuple\n",
    "t4 = (1,2,3,(3,4,5),7,8,9)\n",
    "print(t4)\n",
    "#using type conversion\n",
    "t5 = tuple(\"hello world\")\n",
    "print (t5)\n",
    "# list in tuple\n",
    "t6 = (1,2,3,[0,9,8,7], 5)\n",
    "print(t6)"
   ]
  },
  {
   "cell_type": "markdown",
   "id": "da79e1eb-242a-482b-9902-a161221f2546",
   "metadata": {},
   "source": [
    "# accessing items"
   ]
  },
  {
   "cell_type": "code",
   "execution_count": 26,
   "id": "896d718c-fde1-449c-910e-96b06d39bc98",
   "metadata": {},
   "outputs": [
    {
     "name": "stdout",
     "output_type": "stream",
     "text": [
      "(1, 2, 3, 'wajiha', 'apple', 6.7)\n",
      "1\n",
      "apple\n"
     ]
    }
   ],
   "source": [
    "# indexing\n",
    "print(t3) \n",
    "print(t3[0])\n",
    "print(t3[-2])"
   ]
  },
  {
   "cell_type": "code",
   "execution_count": 27,
   "id": "6f687a44-cad5-43b6-bf2e-1536d9bf2c58",
   "metadata": {},
   "outputs": [
    {
     "name": "stdout",
     "output_type": "stream",
     "text": [
      "(1, 2, 3, 'wajiha', 'apple', 6.7)\n",
      "(1, 2, 3, 'wajiha')\n",
      "(2, 'apple')\n",
      "(2, 3, 'wajiha', 'apple')\n",
      "(6.7, 1)\n",
      "(6.7, 'apple', 'wajiha', 3, 2, 1)\n",
      "(3, 'wajiha')\n",
      "(1, 2, 3, (3, 4, 5), 7, 8, 9)\n",
      "4\n",
      "(1, 2, 3, [0, 9, 8, 7], 5)\n",
      "8\n"
     ]
    }
   ],
   "source": [
    "#slicing\n",
    "print(t3)\n",
    "print(t3[0:4])\n",
    "print(t3[1:6:3]) # last number indicate how many can be skip\n",
    "print(t3[-5:-1])\n",
    "print(t3[-1: :-5]) # start: stop: steps\n",
    "print(t3[::-1]) # reverse from given index\n",
    "print(t3[2:-2])\n",
    "# nested list\n",
    "print(t4)\n",
    "print(t4[3][1])\n",
    "print(t6)\n",
    "print(t6[3][2])"
   ]
  },
  {
   "cell_type": "markdown",
   "id": "0cc5020d-e2bf-4a2d-864a-7d48c1df8929",
   "metadata": {},
   "source": [
    "# editing items"
   ]
  },
  {
   "cell_type": "code",
   "execution_count": 28,
   "id": "5981ddbb-c0f5-4126-afc2-1e2e4600b3b5",
   "metadata": {},
   "outputs": [
    {
     "name": "stdout",
     "output_type": "stream",
     "text": [
      "(1, 2, 3, 'wajiha', 'apple', 6.7)\n"
     ]
    },
    {
     "ename": "TypeError",
     "evalue": "'tuple' object does not support item assignment",
     "output_type": "error",
     "traceback": [
      "\u001b[1;31m---------------------------------------------------------------------------\u001b[0m",
      "\u001b[1;31mTypeError\u001b[0m                                 Traceback (most recent call last)",
      "Cell \u001b[1;32mIn[28], line 2\u001b[0m\n\u001b[0;32m      1\u001b[0m \u001b[38;5;28mprint\u001b[39m(t3)\n\u001b[1;32m----> 2\u001b[0m t3[\u001b[38;5;241m0\u001b[39m]\u001b[38;5;241m=\u001b[39m \u001b[38;5;241m6\u001b[39m\n",
      "\u001b[1;31mTypeError\u001b[0m: 'tuple' object does not support item assignment"
     ]
    }
   ],
   "source": [
    "print(t3)\n",
    "t3[0]= 6 # tuple cannot be added once it is formed(immutable)"
   ]
  },
  {
   "cell_type": "markdown",
   "id": "ccbb0231-b907-4fb9-b419-b8e43d1ba4c6",
   "metadata": {},
   "source": [
    "# adding items"
   ]
  },
  {
   "cell_type": "code",
   "execution_count": 40,
   "id": "0db59a8a-34a6-400c-abc4-44afe4feaee4",
   "metadata": {},
   "outputs": [
    {
     "name": "stdout",
     "output_type": "stream",
     "text": [
      "(1, 2, 3, 'wajiha', 'apple', 6.7)\n",
      "(1, 2, 3, (3, 4, 5), 7, 8, 9, 10)\n",
      "[1, 2, 3, (3, 4, 5), 7, 8, 9, 10]\n",
      "<class 'list'>\n",
      "[1, 2, 3, (3, 4, 5), 7, 8, 9, 10, 10]\n",
      "(1, 2, 3, (3, 4, 5), 7, 8, 9, 10, 10)\n"
     ]
    }
   ],
   "source": [
    "print(t3) # not possible immutable\n",
    "# convert into list then amke changes and again convert into tuple\n",
    "print (t4)\n",
    "t10 = list(t4)\n",
    "print(t10)\n",
    "\n",
    "print(type(t10))\n",
    "t10.append(10)\n",
    "print(t10)\n",
    "\n",
    "t4 = tuple(t10)\n",
    "print(t4)"
   ]
  },
  {
   "cell_type": "markdown",
   "id": "e1897672-46aa-49f3-986b-b753defa5a24",
   "metadata": {},
   "source": [
    "# deleting items"
   ]
  },
  {
   "cell_type": "code",
   "execution_count": null,
   "id": "2b4b8483-deff-4ce6-8117-b92fff2fd1ee",
   "metadata": {},
   "outputs": [],
   "source": [
    "print(t4)\n",
    "del t4\n",
    "print(t4)"
   ]
  },
  {
   "cell_type": "code",
   "execution_count": null,
   "id": "46165672-f534-40f6-918c-8a80fb85a538",
   "metadata": {},
   "outputs": [],
   "source": [
    "print(t5)\n",
    "del t5[-1] # tuple not support specific item deletion"
   ]
  },
  {
   "cell_type": "markdown",
   "id": "adaeae1e-491f-4999-ba92-183f922d8f12",
   "metadata": {},
   "source": [
    "# operation in tuple"
   ]
  },
  {
   "cell_type": "code",
   "execution_count": null,
   "id": "e2e37d47-e830-4014-b0d1-246ba64422f0",
   "metadata": {},
   "outputs": [],
   "source": [
    "# + and *\n",
    "t1 = (1,2,3,4)\n",
    "t2 = (5,6,7,8)\n",
    "print(t1+t2)\n",
    "\n",
    "print(t1*3) # times the given number\n",
    "\n",
    "# membership (in)\n",
    "print(1 in t1)\n",
    "print(3 not in t2)\n",
    "\n",
    "# iteration\n",
    "for i in t2:\n",
    "    print(i)\n"
   ]
  },
  {
   "cell_type": "markdown",
   "id": "f0b0a15c-9e9a-494e-92e4-e09f3d17aa26",
   "metadata": {},
   "source": [
    "# tuple function"
   ]
  },
  {
   "cell_type": "code",
   "execution_count": 41,
   "id": "8fdfb63d-3ac6-43f1-891f-0d9071682d6b",
   "metadata": {},
   "outputs": [
    {
     "name": "stdout",
     "output_type": "stream",
     "text": [
      "10\n",
      "0\n",
      "9\n",
      "[0, 1, 2, 3, 4, 5, 6, 7, 8, 9]\n",
      "[9, 8, 7, 6, 5, 4, 3, 2, 1, 0]\n"
     ]
    }
   ],
   "source": [
    "# len/min/max/sum/sorted\n",
    "t = (1,2,3,4,5,6,7,8,9,0)\n",
    "print(len(t))\n",
    "print(min(t))\n",
    "print(max(t))\n",
    "print(sorted(t))\n",
    "print(sorted(t,reverse=True))"
   ]
  },
  {
   "cell_type": "code",
   "execution_count": 42,
   "id": "51ec0173-053b-47a8-9d92-f048a5f088a6",
   "metadata": {},
   "outputs": [
    {
     "name": "stdout",
     "output_type": "stream",
     "text": [
      "(1, 2, 3, 4, 5, 6, 7, 8, 9, 0)\n"
     ]
    },
    {
     "data": {
      "text/plain": [
       "1"
      ]
     },
     "execution_count": 42,
     "metadata": {},
     "output_type": "execute_result"
    }
   ],
   "source": [
    "# count\n",
    "print(t)\n",
    "t.count(4) # how many times the nmber present in tuple"
   ]
  },
  {
   "cell_type": "code",
   "execution_count": 45,
   "id": "bb3debd2-0563-4461-ac46-973802ce9bb0",
   "metadata": {},
   "outputs": [
    {
     "data": {
      "text/plain": [
       "2"
      ]
     },
     "execution_count": 45,
     "metadata": {},
     "output_type": "execute_result"
    }
   ],
   "source": [
    "# index (show index number of particular item)\n",
    "t.index(3)\n",
    "# t.index(40)"
   ]
  },
  {
   "cell_type": "code",
   "execution_count": 46,
   "id": "a11829f5-66a9-4876-a6f2-370635f317ff",
   "metadata": {},
   "outputs": [],
   "source": [
    "# tuples are faster than list \n",
    "# immutable are faster than mutable\n",
    "# list consume more memory than tuple\n",
    "# few biultin function in tuple than list\n"
   ]
  },
  {
   "cell_type": "code",
   "execution_count": 47,
   "id": "3c89caa7-58df-4749-8af6-fbf74aa4a1d7",
   "metadata": {},
   "outputs": [
    {
     "name": "stdout",
     "output_type": "stream",
     "text": [
      "List time 0.00099945068359375\n",
      "Tuple time 0.0009982585906982422\n"
     ]
    }
   ],
   "source": [
    "import time\n",
    "L = list(range(10000))\n",
    "T = tuple(range(10000))\n",
    "\n",
    "start = time.time()\n",
    "for i in L:\n",
    "    i*5\n",
    "print(\"List time\", time.time()-start)\n",
    "\n",
    "start = time.time()\n",
    "for i in T:\n",
    "    i*5\n",
    "print(\"Tuple time\", time.time()-start)"
   ]
  },
  {
   "cell_type": "code",
   "execution_count": 48,
   "id": "d9fa5075-04cc-46a8-9f5f-10ecff0b1cbf",
   "metadata": {},
   "outputs": [
    {
     "name": "stdout",
     "output_type": "stream",
     "text": [
      "List size 80056\n",
      "tuple size 80040\n"
     ]
    }
   ],
   "source": [
    "import sys # function in sys called getsizeof to check how many space in memory it take\n",
    "L = list(range(10000))\n",
    "T = tuple(range(10000))\n",
    "\n",
    "print('List size', sys.getsizeof(L))\n",
    "print('tuple size', sys.getsizeof(T))"
   ]
  },
  {
   "cell_type": "code",
   "execution_count": 49,
   "id": "ad67246c-2536-4527-a2c9-1fb2c5bc1f9b",
   "metadata": {},
   "outputs": [
    {
     "name": "stdout",
     "output_type": "stream",
     "text": [
      "[1, 2, 3, 4]\n",
      "[1, 2, 3, 4]\n"
     ]
    }
   ],
   "source": [
    "# in list error prone\n",
    "a = [1,2,3]\n",
    "b = a\n",
    "a.append(4)\n",
    "print(a)\n",
    "print(b)"
   ]
  },
  {
   "cell_type": "code",
   "execution_count": 5,
   "id": "2dd682b6-efca-4f89-8582-ee9901b280a1",
   "metadata": {},
   "outputs": [
    {
     "name": "stdout",
     "output_type": "stream",
     "text": [
      "(1, 2, 3, 4)\n",
      "(1, 2, 3)\n"
     ]
    }
   ],
   "source": [
    "# in tuple easy debugging\n",
    "a = (1,2,3)\n",
    "b = a\n",
    "\n",
    "a = a + (4,)\n",
    "print(a)\n",
    "print(b)"
   ]
  },
  {
   "cell_type": "markdown",
   "id": "64b50b86-91a6-4313-8a25-604d40a51565",
   "metadata": {},
   "source": [
    "# why use tuple?"
   ]
  },
  {
   "cell_type": "code",
   "execution_count": 6,
   "id": "b87d1293-05c5-4bc4-b647-f2c51a0552fe",
   "metadata": {},
   "outputs": [],
   "source": [
    "# usability\n",
    "# application where user can only read, can't mutate we use tuple\n",
    "# in list user can make changes like to do list"
   ]
  },
  {
   "cell_type": "markdown",
   "id": "717e6d4e-74d4-44f4-a5f1-370af2965acc",
   "metadata": {},
   "source": [
    "# unpacking"
   ]
  },
  {
   "cell_type": "code",
   "execution_count": 8,
   "id": "d504b3f7-e44c-48d7-92da-77124ce011c9",
   "metadata": {},
   "outputs": [
    {
     "name": "stdout",
     "output_type": "stream",
     "text": [
      "1 2 3\n"
     ]
    }
   ],
   "source": [
    "# to stote items in variable\n",
    "a,b,c = (1,2,3)\n",
    "print(a,b,c)"
   ]
  },
  {
   "cell_type": "code",
   "execution_count": 10,
   "id": "579f4775-a732-4248-b7c2-b8484e19ec5f",
   "metadata": {},
   "outputs": [
    {
     "name": "stdout",
     "output_type": "stream",
     "text": [
      "2 1\n"
     ]
    }
   ],
   "source": [
    "# swap the variableor value\n",
    "a = 1\n",
    "b = 2\n",
    "a,b = b,a\n",
    "print(a,b)"
   ]
  },
  {
   "cell_type": "code",
   "execution_count": 13,
   "id": "0f4de0d8-3609-436f-8596-615a7ae012b7",
   "metadata": {},
   "outputs": [
    {
     "name": "stdout",
     "output_type": "stream",
     "text": [
      "1 2\n",
      "[3, 4, 5, 6]\n"
     ]
    }
   ],
   "source": [
    "a,b,*others = (1,2,3,4,5,6)\n",
    "print(a,b)\n",
    "print(others)"
   ]
  },
  {
   "cell_type": "markdown",
   "id": "4a25c596-35af-4800-9ce9-50b2fc8c72e9",
   "metadata": {},
   "source": [
    "# zipping tuple"
   ]
  },
  {
   "cell_type": "raw",
   "id": "d20f3cd4-8627-45c9-86b3-4c221afe2836",
   "metadata": {},
   "source": [
    "The zip() function combines elements from two or more iterables (like lists, tuples, strings, or ranges) into pairs (or n-tuples), element by element."
   ]
  },
  {
   "cell_type": "code",
   "execution_count": 20,
   "id": "1f5cb136-8fe1-4bc1-8ad1-d71cfe6f44b3",
   "metadata": {},
   "outputs": [
    {
     "name": "stdout",
     "output_type": "stream",
     "text": [
      "<zip object at 0x0000028F5C77FE40>\n",
      "[(1, 6), (2, 7), (3, 8), (4, 9), (5, 0)]\n",
      "((1, 6), (2, 7), (3, 8), (4, 9), (5, 0))\n"
     ]
    }
   ],
   "source": [
    "a = (1,2,3,4,5)\n",
    "b = (6,7,8,9,0)\n",
    "\n",
    "print(zip(a,b))\n",
    "z = zip(a,b)\n",
    "print(list(z)) #convert zip into list\n",
    "print(tuple(zip(a,b))) # convert into tuple"
   ]
  },
  {
   "cell_type": "markdown",
   "id": "db2903a1-9916-4f2f-95e8-637f34f60353",
   "metadata": {},
   "source": [
    "# Tuple comprehension"
   ]
  },
  {
   "cell_type": "code",
   "execution_count": null,
   "id": "ae97b08b-bb8a-4f31-9789-afde2fc8f927",
   "metadata": {},
   "outputs": [],
   "source": []
  }
 ],
 "metadata": {
  "kernelspec": {
   "display_name": "Python 3 (ipykernel)",
   "language": "python",
   "name": "python3"
  },
  "language_info": {
   "codemirror_mode": {
    "name": "ipython",
    "version": 3
   },
   "file_extension": ".py",
   "mimetype": "text/x-python",
   "name": "python",
   "nbconvert_exporter": "python",
   "pygments_lexer": "ipython3",
   "version": "3.12.7"
  }
 },
 "nbformat": 4,
 "nbformat_minor": 5
}
