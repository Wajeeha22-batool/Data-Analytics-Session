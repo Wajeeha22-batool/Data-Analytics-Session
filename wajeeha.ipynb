{
 "cells": [
  {
   "cell_type": "markdown",
   "id": "26dadb09-c3e8-49c6-9158-aeb54e0932aa",
   "metadata": {},
   "source": [
    "# arthmetic operation"
   ]
  },
  {
   "cell_type": "code",
   "execution_count": 1,
   "id": "92ce7a40-6865-4592-a011-260ce32704eb",
   "metadata": {
    "vscode": {
     "languageId": "python"
    }
   },
   "outputs": [
    {
     "data": {
      "text/plain": [
       "117"
      ]
     },
     "execution_count": 1,
     "metadata": {},
     "output_type": "execute_result"
    }
   ],
   "source": [
    "60+57"
   ]
  },
  {
   "cell_type": "code",
   "execution_count": 2,
   "id": "f8e3017a-f257-47ab-817c-19d81a995853",
   "metadata": {
    "vscode": {
     "languageId": "python"
    }
   },
   "outputs": [
    {
     "data": {
      "text/plain": [
       "19.0"
      ]
     },
     "execution_count": 2,
     "metadata": {},
     "output_type": "execute_result"
    }
   ],
   "source": [
    "114/6"
   ]
  },
  {
   "cell_type": "code",
   "execution_count": 3,
   "id": "cbd73719-f7c5-42d0-9298-b7e8d50521df",
   "metadata": {},
   "outputs": [
    {
     "data": {
      "text/plain": [
       "19"
      ]
     },
     "execution_count": 3,
     "metadata": {},
     "output_type": "execute_result"
    }
   ],
   "source": [
    "114//6"
   ]
  },
  {
   "cell_type": "code",
   "execution_count": 4,
   "id": "068a078f-5aac-45c8-8766-6a960c9d8dd6",
   "metadata": {},
   "outputs": [
    {
     "data": {
      "text/plain": [
       "0"
      ]
     },
     "execution_count": 4,
     "metadata": {},
     "output_type": "execute_result"
    }
   ],
   "source": [
    "114%6"
   ]
  },
  {
   "cell_type": "code",
   "execution_count": 5,
   "id": "2a8ddaa7-ded9-4144-b8fa-f67086e3d5e3",
   "metadata": {},
   "outputs": [
    {
     "data": {
      "text/plain": [
       "125.0"
      ]
     },
     "execution_count": 5,
     "metadata": {},
     "output_type": "execute_result"
    }
   ],
   "source": [
    "500 * (.2 * 1.25)"
   ]
  },
  {
   "cell_type": "code",
   "execution_count": 6,
   "id": "65b54da5-33c1-4cac-ac3b-7a9140b9732e",
   "metadata": {},
   "outputs": [],
   "source": [
    "cost_of_ice_bags = 1.25"
   ]
  },
  {
   "cell_type": "code",
   "execution_count": 7,
   "id": "7880e551-7c54-4231-a3bd-acb68726ad46",
   "metadata": {},
   "outputs": [],
   "source": [
    "profit_margin = .2"
   ]
  },
  {
   "cell_type": "code",
   "execution_count": 8,
   "id": "e0ee25f2-dc96-45eb-8ae6-3357a4fc6cb3",
   "metadata": {},
   "outputs": [],
   "source": [
    "number_of_bags = 500"
   ]
  },
  {
   "cell_type": "code",
   "execution_count": 9,
   "id": "66c80345-ee35-4248-b5fe-35918dc4f08d",
   "metadata": {},
   "outputs": [
    {
     "data": {
      "text/plain": [
       "0.2"
      ]
     },
     "execution_count": 9,
     "metadata": {},
     "output_type": "execute_result"
    }
   ],
   "source": [
    "profit_margin"
   ]
  },
  {
   "cell_type": "code",
   "execution_count": 10,
   "id": "32081c67-f3ce-4cd0-8f77-417588d66cba",
   "metadata": {},
   "outputs": [
    {
     "data": {
      "text/plain": [
       "0.25"
      ]
     },
     "execution_count": 10,
     "metadata": {},
     "output_type": "execute_result"
    }
   ],
   "source": [
    "profit_per_bag = cost_of_ice_bags * profit_margin\n",
    "profit_per_bag"
   ]
  },
  {
   "cell_type": "code",
   "execution_count": 11,
   "id": "6d316117-17d3-47ca-b8e7-eeb5968990ab",
   "metadata": {},
   "outputs": [
    {
     "data": {
      "text/plain": [
       "125.0"
      ]
     },
     "execution_count": 11,
     "metadata": {},
     "output_type": "execute_result"
    }
   ],
   "source": [
    "total_profit = number_of_bags * profit_per_bag\n",
    "total_profit"
   ]
  },
  {
   "cell_type": "raw",
   "id": "02450b2f-2f67-4733-a49a-2c418c5d6ca3",
   "metadata": {},
   "source": []
  },
  {
   "cell_type": "code",
   "execution_count": 12,
   "id": "fc94e3af-3807-4f37-83df-a1d139440860",
   "metadata": {},
   "outputs": [
    {
     "name": "stdout",
     "output_type": "stream",
     "text": [
      " The grocery store makes profit of $ 125.0\n"
     ]
    }
   ],
   "source": [
    "print(\" The grocery store makes profit of $\" , total_profit)"
   ]
  },
  {
   "cell_type": "code",
   "execution_count": 13,
   "id": "581343d6-28b7-401d-91ed-67b8e96dbf31",
   "metadata": {},
   "outputs": [
    {
     "name": "stdout",
     "output_type": "stream",
     "text": [
      " The grocery store makes profit of $ , total_profit\n"
     ]
    }
   ],
   "source": [
    "print(\" The grocery store makes profit of $ , total_profit\")"
   ]
  },
  {
   "cell_type": "code",
   "execution_count": 14,
   "id": "1fa9b2c5-a3e3-4018-afba-585e4704491a",
   "metadata": {},
   "outputs": [
    {
     "data": {
      "text/plain": [
       "('The grocery store makes profit of $', 125.0)"
      ]
     },
     "execution_count": 14,
     "metadata": {},
     "output_type": "execute_result"
    }
   ],
   "source": [
    "\"The grocery store makes profit of $\" , total_profit"
   ]
  },
  {
   "cell_type": "code",
   "execution_count": 15,
   "id": "02e3930a-784b-465e-819e-4c5b08c28ba3",
   "metadata": {},
   "outputs": [
    {
     "data": {
      "text/plain": [
       "'wajrretfhtyjjuiffcgf,vfth'"
      ]
     },
     "execution_count": 15,
     "metadata": {},
     "output_type": "execute_result"
    }
   ],
   "source": [
    "\"wajrretfhtyjjuiffcgf,vfth\""
   ]
  },
  {
   "cell_type": "code",
   "execution_count": 16,
   "id": "dfbb6f30-6c9e-49c1-9231-adbcb49b57d3",
   "metadata": {},
   "outputs": [
    {
     "data": {
      "text/plain": [
       "('The grocery store makes profit of $', 125.0)"
      ]
     },
     "execution_count": 16,
     "metadata": {},
     "output_type": "execute_result"
    }
   ],
   "source": [
    "\"The grocery store makes profit of $\", total_profit"
   ]
  },
  {
   "cell_type": "code",
   "execution_count": 17,
   "id": "8b16b912-459d-4213-b2e5-8a13f7af3acc",
   "metadata": {},
   "outputs": [
    {
     "data": {
      "text/plain": [
       "' The grocery store makes profit of $ , total_profit'"
      ]
     },
     "execution_count": 17,
     "metadata": {},
     "output_type": "execute_result"
    }
   ],
   "source": [
    "\" The grocery store makes profit of $ , total_profit\""
   ]
  },
  {
   "cell_type": "code",
   "execution_count": 18,
   "id": "abda5372-e77e-4c83-af93-0c343ab54a82",
   "metadata": {},
   "outputs": [
    {
     "name": "stdout",
     "output_type": "stream",
     "text": [
      "The grocery store makes profit of $ 125.0\n"
     ]
    }
   ],
   "source": [
    "# store input data in variable\n",
    "cost_of_bags = 1.25\n",
    "profit_margin = 0.2\n",
    "number_of_bags = 500\n",
    "# required calculation\n",
    "profit_per_bag = cost_of_bags * profit_margin\n",
    "total_profit = profit_per_bag * number_of_bags\n",
    "# Display results\n",
    "print(\"The grocery store makes profit of $\", total_profit)"
   ]
  },
  {
   "cell_type": "code",
   "execution_count": 19,
   "id": "a408c37e-fe0a-4cfc-851b-67bf1ccafb35",
   "metadata": {},
   "outputs": [],
   "source": [
    "# variables\n",
    "my_favourite_number = 2\n",
    "my_least_favourite_number = 7\n",
    "neutral_number = 5"
   ]
  },
  {
   "cell_type": "code",
   "execution_count": 20,
   "id": "6cee0632-0a43-42fe-95b3-4d8b4676627d",
   "metadata": {},
   "outputs": [
    {
     "data": {
      "text/plain": [
       "False"
      ]
     },
     "execution_count": 20,
     "metadata": {},
     "output_type": "execute_result"
    }
   ],
   "source": [
    "#equality check\n",
    "my_favourite_number==my_least_favourite_number"
   ]
  },
  {
   "cell_type": "code",
   "execution_count": 21,
   "id": "742fab07-f5e8-470c-83a2-9313095e77ad",
   "metadata": {},
   "outputs": [
    {
     "data": {
      "text/plain": [
       "True"
      ]
     },
     "execution_count": 21,
     "metadata": {},
     "output_type": "execute_result"
    }
   ],
   "source": [
    "#wrong equality check\n",
    "my_favourite_number!=my_least_favourite_number"
   ]
  },
  {
   "cell_type": "code",
   "execution_count": 22,
   "id": "17d0f215-5709-496b-b1ca-4f94de6bfda4",
   "metadata": {},
   "outputs": [
    {
     "data": {
      "text/plain": [
       "True"
      ]
     },
     "execution_count": 22,
     "metadata": {},
     "output_type": "execute_result"
    }
   ],
   "source": [
    "my_favourite_number < my_least_favourite_number"
   ]
  },
  {
   "cell_type": "code",
   "execution_count": 23,
   "id": "48e1409c-94af-443a-a309-69da1e489a93",
   "metadata": {},
   "outputs": [
    {
     "data": {
      "text/plain": [
       "True"
      ]
     },
     "execution_count": 23,
     "metadata": {},
     "output_type": "execute_result"
    }
   ],
   "source": [
    "my_favourite_number<=my_least_favourite_number"
   ]
  },
  {
   "cell_type": "code",
   "execution_count": 24,
   "id": "33dad114-cbf5-449c-a22f-d8693bf0c06d",
   "metadata": {},
   "outputs": [
    {
     "data": {
      "text/plain": [
       "False"
      ]
     },
     "execution_count": 24,
     "metadata": {},
     "output_type": "execute_result"
    }
   ],
   "source": [
    "my_favourite_number>neutral_number"
   ]
  },
  {
   "cell_type": "code",
   "execution_count": 25,
   "id": "1bc5e1bc-76ae-4906-9be5-a57f38409bfc",
   "metadata": {},
   "outputs": [
    {
     "data": {
      "text/plain": [
       "True"
      ]
     },
     "execution_count": 25,
     "metadata": {},
     "output_type": "execute_result"
    }
   ],
   "source": [
    "my_favourite_number<=neutral_number"
   ]
  },
  {
   "cell_type": "code",
   "execution_count": 26,
   "id": "04e07048-5b51-41a8-b31a-d2ad29aded80",
   "metadata": {},
   "outputs": [
    {
     "name": "stdout",
     "output_type": "stream",
     "text": [
      "37.5\n"
     ]
    }
   ],
   "source": [
    "product_cost = 12.50\n",
    "bought = 3\n",
    "total_cost = product_cost*bought\n",
    "print(total_cost)"
   ]
  },
  {
   "cell_type": "code",
   "execution_count": 27,
   "id": "21495a79-1d71-4f96-9ac5-4d32a02e3df3",
   "metadata": {},
   "outputs": [
    {
     "name": "stdout",
     "output_type": "stream",
     "text": [
      "120\n",
      "46\n"
     ]
    }
   ],
   "source": [
    "length = 15\n",
    "width = 8\n",
    "area = length*width\n",
    "perimeter = 2 * (length+width)\n",
    "print(area)\n",
    "print(perimeter)"
   ]
  },
  {
   "cell_type": "code",
   "execution_count": 28,
   "id": "64e5a0a5-7b75-4ac9-8ab4-71263c124b96",
   "metadata": {},
   "outputs": [
    {
     "name": "stdout",
     "output_type": "stream",
     "text": [
      "120 46\n"
     ]
    }
   ],
   "source": [
    "length = 15\n",
    "width = 8\n",
    "area = length*width\n",
    "perimeter = 2 * (length+width)\n",
    "print(area , perimeter)"
   ]
  },
  {
   "cell_type": "code",
   "execution_count": 29,
   "id": "5e3c7f3f-f9a0-45da-93db-f1e86beb2cd3",
   "metadata": {},
   "outputs": [
    {
     "name": "stdout",
     "output_type": "stream",
     "text": [
      "10 5\n",
      "each friend gets 10\n",
      "leftover candies 5\n"
     ]
    }
   ],
   "source": [
    "total_candies = 75\n",
    "friends = 7\n",
    "candies_recieved = total_candies//friends\n",
    "candies_left =total_candies%friends \n",
    "print(candies_recieved, candies_left)\n",
    "print(\"each friend gets\", candies_recieved)  \n",
    "print(\"leftover candies\", candies_left)"
   ]
  },
  {
   "cell_type": "code",
   "execution_count": 30,
   "id": "453ae795-bbbc-47f4-ba8b-fc8a78877ae6",
   "metadata": {},
   "outputs": [
    {
     "name": "stdout",
     "output_type": "stream",
     "text": [
      "you are approximately 264 months or 7920 days years old\n"
     ]
    }
   ],
   "source": [
    "#age in months or days\n",
    "age = int(22)\n",
    "months = age*12\n",
    "days  = months*30\n",
    "print(f\"you are approximately {months} months or {days} days years old\")"
   ]
  },
  {
   "cell_type": "code",
   "execution_count": 31,
   "id": "f2634085-b35b-4661-9496-ac399f036fe0",
   "metadata": {},
   "outputs": [
    {
     "data": {
      "text/plain": [
       "8"
      ]
     },
     "execution_count": 31,
     "metadata": {},
     "output_type": "execute_result"
    }
   ],
   "source": [
    "length = 3\n",
    "length\n",
    "length = length+5\n",
    "length"
   ]
  },
  {
   "cell_type": "code",
   "execution_count": 32,
   "id": "03253a46-0c5b-48be-81dd-8bb82aac7b72",
   "metadata": {},
   "outputs": [
    {
     "data": {
      "text/plain": [
       "6"
      ]
     },
     "execution_count": 32,
     "metadata": {},
     "output_type": "execute_result"
    }
   ],
   "source": [
    "y = 6\n",
    "y\n"
   ]
  },
  {
   "cell_type": "code",
   "execution_count": 33,
   "id": "8b7e0557-1dfd-4515-aafd-cea518b870de",
   "metadata": {},
   "outputs": [
    {
     "data": {
      "text/plain": [
       "16"
      ]
     },
     "execution_count": 33,
     "metadata": {},
     "output_type": "execute_result"
    }
   ],
   "source": [
    "x = y+10\n",
    "x"
   ]
  },
  {
   "cell_type": "code",
   "execution_count": 34,
   "id": "e22ab8d6-2e52-4752-a36f-d2174e4eeaf7",
   "metadata": {},
   "outputs": [
    {
     "name": "stdout",
     "output_type": "stream",
     "text": [
      "Is ice expensive?\n"
     ]
    },
    {
     "data": {
      "text/plain": [
       "(None, True)"
      ]
     },
     "execution_count": 34,
     "metadata": {},
     "output_type": "execute_result"
    }
   ],
   "source": [
    "cost_of_ice = 3\n",
    "is_ice_expensive = cost_of_ice <= 10\n",
    "print(\"Is ice expensive?\"),is_ice_expensive"
   ]
  },
  {
   "cell_type": "code",
   "execution_count": 35,
   "id": "c3df61f8-bb1e-4608-9809-f0dd46a4cb89",
   "metadata": {},
   "outputs": [
    {
     "data": {
      "text/plain": [
       "2"
      ]
     },
     "execution_count": 35,
     "metadata": {},
     "output_type": "execute_result"
    }
   ],
   "source": [
    "my_favourite_number"
   ]
  },
  {
   "cell_type": "markdown",
   "id": "17439437-a555-43ed-a79d-c1f7f6123acd",
   "metadata": {},
   "source": [
    "# conditional operators"
   ]
  },
  {
   "cell_type": "code",
   "execution_count": 36,
   "id": "b7255bd6-b928-4931-8436-20cc51964d52",
   "metadata": {},
   "outputs": [
    {
     "data": {
      "text/plain": [
       "True"
      ]
     },
     "execution_count": 36,
     "metadata": {},
     "output_type": "execute_result"
    }
   ],
   "source": [
    "my_favourite_number > 0 and my_favourite_number <=3"
   ]
  },
  {
   "cell_type": "code",
   "execution_count": 37,
   "id": "d7d136b5-c9a8-48ba-b53d-83cf4d25a38e",
   "metadata": {},
   "outputs": [
    {
     "data": {
      "text/plain": [
       "False"
      ]
     },
     "execution_count": 37,
     "metadata": {},
     "output_type": "execute_result"
    }
   ],
   "source": [
    "my_favourite_number < 0 and my_favourite_number <=3"
   ]
  },
  {
   "cell_type": "code",
   "execution_count": 38,
   "id": "44fdd5f9-2256-41b4-8add-f9459850bb4e",
   "metadata": {},
   "outputs": [
    {
     "data": {
      "text/plain": [
       "False"
      ]
     },
     "execution_count": 38,
     "metadata": {},
     "output_type": "execute_result"
    }
   ],
   "source": [
    "my_favourite_number > 0 and my_favourite_number >=3"
   ]
  },
  {
   "cell_type": "code",
   "execution_count": 39,
   "id": "eeea668b-ba52-4b75-95ee-56bc36f07d6f",
   "metadata": {},
   "outputs": [
    {
     "data": {
      "text/plain": [
       "False"
      ]
     },
     "execution_count": 39,
     "metadata": {},
     "output_type": "execute_result"
    }
   ],
   "source": [
    "my_favourite_number < 0 and my_favourite_number >=3"
   ]
  },
  {
   "cell_type": "code",
   "execution_count": 40,
   "id": "95d8fdd2-34b8-4e45-a99c-1ec7def7b035",
   "metadata": {},
   "outputs": [
    {
     "data": {
      "text/plain": [
       "True"
      ]
     },
     "execution_count": 40,
     "metadata": {},
     "output_type": "execute_result"
    }
   ],
   "source": [
    "my_favourite_number > 0 or my_favourite_number >=3"
   ]
  },
  {
   "cell_type": "code",
   "execution_count": 41,
   "id": "b5311adb-9f10-4ee2-9317-2f4df40231e9",
   "metadata": {},
   "outputs": [
    {
     "data": {
      "text/plain": [
       "True"
      ]
     },
     "execution_count": 41,
     "metadata": {},
     "output_type": "execute_result"
    }
   ],
   "source": [
    "my_favourite_number > 0 or my_favourite_number <=3"
   ]
  },
  {
   "cell_type": "code",
   "execution_count": 42,
   "id": "701a615e-442d-4fa2-9b29-0a5d7811ddbb",
   "metadata": {},
   "outputs": [
    {
     "data": {
      "text/plain": [
       "True"
      ]
     },
     "execution_count": 42,
     "metadata": {},
     "output_type": "execute_result"
    }
   ],
   "source": [
    "my_favourite_number < 0 or my_favourite_number <=3"
   ]
  },
  {
   "cell_type": "code",
   "execution_count": 43,
   "id": "d859efea-4845-4576-9acb-b18294e662e4",
   "metadata": {},
   "outputs": [
    {
     "data": {
      "text/plain": [
       "False"
      ]
     },
     "execution_count": 43,
     "metadata": {},
     "output_type": "execute_result"
    }
   ],
   "source": [
    "neutral_number ==3 or my_favourite_number <0"
   ]
  },
  {
   "cell_type": "code",
   "execution_count": 44,
   "id": "0aa165a6-ee49-42ed-87e7-80916a5be4b9",
   "metadata": {},
   "outputs": [
    {
     "data": {
      "text/plain": [
       "5"
      ]
     },
     "execution_count": 44,
     "metadata": {},
     "output_type": "execute_result"
    }
   ],
   "source": [
    "neutral_number"
   ]
  },
  {
   "cell_type": "code",
   "execution_count": 45,
   "id": "fd6b288b-caaf-495c-a0b7-118e4303d883",
   "metadata": {},
   "outputs": [
    {
     "data": {
      "text/plain": [
       "False"
      ]
     },
     "execution_count": 45,
     "metadata": {},
     "output_type": "execute_result"
    }
   ],
   "source": [
    "neutral_number !=3 and my_favourite_number < 0"
   ]
  },
  {
   "cell_type": "code",
   "execution_count": 46,
   "id": "4315af85-2f73-408f-9de3-15f22829173b",
   "metadata": {},
   "outputs": [
    {
     "data": {
      "text/plain": [
       "True"
      ]
     },
     "execution_count": 46,
     "metadata": {},
     "output_type": "execute_result"
    }
   ],
   "source": [
    "my_favourite_number < 0 or True"
   ]
  },
  {
   "cell_type": "code",
   "execution_count": 47,
   "id": "adcafd4d-5f40-4223-ab34-b46161065860",
   "metadata": {},
   "outputs": [
    {
     "data": {
      "text/plain": [
       "False"
      ]
     },
     "execution_count": 47,
     "metadata": {},
     "output_type": "execute_result"
    }
   ],
   "source": [
    "my_favourite_number < 0 or False"
   ]
  },
  {
   "cell_type": "code",
   "execution_count": 48,
   "id": "8776ccc5-2242-40d9-872c-6ede452d4b18",
   "metadata": {},
   "outputs": [
    {
     "data": {
      "text/plain": [
       "False"
      ]
     },
     "execution_count": 48,
     "metadata": {},
     "output_type": "execute_result"
    }
   ],
   "source": [
    "False or False"
   ]
  },
  {
   "cell_type": "code",
   "execution_count": 49,
   "id": "3645df18-c3ac-444b-b52a-d7c88d2238c2",
   "metadata": {},
   "outputs": [
    {
     "data": {
      "text/plain": [
       "True"
      ]
     },
     "execution_count": 49,
     "metadata": {},
     "output_type": "execute_result"
    }
   ],
   "source": [
    "True or True"
   ]
  },
  {
   "cell_type": "code",
   "execution_count": 50,
   "id": "6786b6c8-e919-49d4-b418-7d4853307435",
   "metadata": {},
   "outputs": [
    {
     "data": {
      "text/plain": [
       "False"
      ]
     },
     "execution_count": 50,
     "metadata": {},
     "output_type": "execute_result"
    }
   ],
   "source": [
    "True and False"
   ]
  },
  {
   "cell_type": "code",
   "execution_count": 51,
   "id": "9d5c51a1-cdb2-427b-8ff5-3edd451f0679",
   "metadata": {},
   "outputs": [
    {
     "data": {
      "text/plain": [
       "True"
      ]
     },
     "execution_count": 51,
     "metadata": {},
     "output_type": "execute_result"
    }
   ],
   "source": [
    "not False"
   ]
  },
  {
   "cell_type": "code",
   "execution_count": 52,
   "id": "f4214862-f8be-4ac4-8f6b-938c58b4b894",
   "metadata": {},
   "outputs": [
    {
     "data": {
      "text/plain": [
       "False"
      ]
     },
     "execution_count": 52,
     "metadata": {},
     "output_type": "execute_result"
    }
   ],
   "source": [
    "not True"
   ]
  },
  {
   "cell_type": "code",
   "execution_count": 53,
   "id": "7498d793-6012-489d-8855-fb35aa607f0e",
   "metadata": {},
   "outputs": [
    {
     "data": {
      "text/plain": [
       "False"
      ]
     },
     "execution_count": 53,
     "metadata": {},
     "output_type": "execute_result"
    }
   ],
   "source": [
    "not neutral_number ==5"
   ]
  },
  {
   "cell_type": "code",
   "execution_count": 54,
   "id": "a372eb66-a6a1-4da7-91be-f26101428060",
   "metadata": {},
   "outputs": [
    {
     "data": {
      "text/plain": [
       "True"
      ]
     },
     "execution_count": 54,
     "metadata": {},
     "output_type": "execute_result"
    }
   ],
   "source": [
    "not neutral_number ==98"
   ]
  },
  {
   "cell_type": "code",
   "execution_count": 55,
   "id": "1fd7c657-e097-4b72-8075-c7d846bbef36",
   "metadata": {},
   "outputs": [
    {
     "data": {
      "text/plain": [
       "False"
      ]
     },
     "execution_count": 55,
     "metadata": {},
     "output_type": "execute_result"
    }
   ],
   "source": [
    "not my_favourite_number > 1"
   ]
  },
  {
   "cell_type": "code",
   "execution_count": 56,
   "id": "14a980f2-e90d-4753-81fe-d3ee2516f54f",
   "metadata": {},
   "outputs": [
    {
     "data": {
      "text/plain": [
       "True"
      ]
     },
     "execution_count": 56,
     "metadata": {},
     "output_type": "execute_result"
    }
   ],
   "source": [
    "not my_favourite_number > 3"
   ]
  },
  {
   "cell_type": "code",
   "execution_count": 57,
   "id": "0eb0a9a0-0373-4fc8-9bf2-3aea0f6e94f4",
   "metadata": {},
   "outputs": [
    {
     "data": {
      "text/plain": [
       "False"
      ]
     },
     "execution_count": 57,
     "metadata": {},
     "output_type": "execute_result"
    }
   ],
   "source": [
    "(2>3 and 4<=5) or not (my_favourite_number > 0 and True)"
   ]
  },
  {
   "cell_type": "code",
   "execution_count": 58,
   "id": "79555359-c0c2-44fc-8995-a06edae39b0d",
   "metadata": {},
   "outputs": [
    {
     "data": {
      "text/plain": [
       "False"
      ]
     },
     "execution_count": 58,
     "metadata": {},
     "output_type": "execute_result"
    }
   ],
   "source": [
    "not (True and 0 < 1) or (False and True)"
   ]
  },
  {
   "cell_type": "markdown",
   "id": "babe5b8d-0a00-4e39-86ad-728c6c86cee0",
   "metadata": {},
   "source": [
    "## Assignment No 1:"
   ]
  },
  {
   "cell_type": "markdown",
   "id": "f2c64950-87c4-4db4-8900-9b2e9c21f1eb",
   "metadata": {},
   "source": [
    "# header no 1"
   ]
  },
  {
   "cell_type": "markdown",
   "id": "cada0181-2f6c-45c0-be52-17ef769e95d6",
   "metadata": {},
   "source": [
    "## header no 2:"
   ]
  },
  {
   "cell_type": "markdown",
   "id": "910b2ba9-ed81-4855-9865-4b248d1412ca",
   "metadata": {},
   "source": [
    "### Header no 3:"
   ]
  },
  {
   "cell_type": "markdown",
   "id": "caecbaf5-4a87-4ecb-a4ca-db5e840000e6",
   "metadata": {},
   "source": [
    "#### Header no 4"
   ]
  },
  {
   "cell_type": "markdown",
   "id": "e6447097-c5e2-4235-b1a5-d2cb08784958",
   "metadata": {},
   "source": [
    "# bulleted list:\n",
    "* Item 1\n",
    "* Item 2\n",
    "* Item 3\n",
    "* Item 4"
   ]
  },
  {
   "cell_type": "markdown",
   "id": "d186f7a9-a000-4172-a66b-6b83f46d9845",
   "metadata": {},
   "source": [
    "# list of items:\n",
    "1. Apple\n",
    "2. Mango\n",
    "3. Banana\n",
    "4. Orange"
   ]
  },
  {
   "cell_type": "markdown",
   "id": "dd143c04-ddb5-4fd7-a857-4bab42601417",
   "metadata": {},
   "source": [
    "**This is an apple**"
   ]
  },
  {
   "cell_type": "markdown",
   "id": "fc59177a-f574-4770-9332-2e99307f8295",
   "metadata": {},
   "source": [
    "**this is some bold text**"
   ]
  },
  {
   "cell_type": "markdown",
   "id": "51473194-8b43-4f57-8a3d-ea7977e25786",
   "metadata": {},
   "source": [
    "*This is an apple*"
   ]
  },
  {
   "cell_type": "markdown",
   "id": "a3e20972-02ac-4999-a1ec-01347b1cd644",
   "metadata": {},
   "source": [
    "[This is a link] (http://localhost:8888/notebooks/wajeeha.ipynb#ASSIGNMENT-NO-1:)"
   ]
  },
  {
   "cell_type": "markdown",
   "id": "f22ca011-a8c1-469e-bded-912a4a68edc0",
   "metadata": {},
   "source": [
    "[This is a link] (http://localhost:8888/notebooks/wajeeha.ipynb#ASSIGNMENT-NO-1:)"
   ]
  },
  {
   "cell_type": "markdown",
   "id": "93797892-f301-4898-bc34-47889ca6b3fc",
   "metadata": {},
   "source": [
    "***sadiq ali***"
   ]
  },
  {
   "cell_type": "code",
   "execution_count": 59,
   "id": "981ac532-2e96-46b9-a561-8b05751de143",
   "metadata": {},
   "outputs": [
    {
     "data": {
      "text/plain": [
       "213"
      ]
     },
     "execution_count": 59,
     "metadata": {},
     "output_type": "execute_result"
    }
   ],
   "source": [
    "int(213.123)"
   ]
  },
  {
   "cell_type": "code",
   "execution_count": 60,
   "id": "12287c08-607d-4282-84fc-c2c244871318",
   "metadata": {},
   "outputs": [
    {
     "data": {
      "text/plain": [
       "2341376.0"
      ]
     },
     "execution_count": 60,
     "metadata": {},
     "output_type": "execute_result"
    }
   ],
   "source": [
    "float(2341376)"
   ]
  },
  {
   "cell_type": "code",
   "execution_count": 61,
   "id": "db8b536c-00eb-483f-b415-f3109a841d79",
   "metadata": {},
   "outputs": [
    {
     "data": {
      "text/plain": [
       "'22542'"
      ]
     },
     "execution_count": 61,
     "metadata": {},
     "output_type": "execute_result"
    }
   ],
   "source": [
    "str(22542)"
   ]
  },
  {
   "cell_type": "code",
   "execution_count": 62,
   "id": "43bb8aa0-a06a-407e-badc-a78d2a20d142",
   "metadata": {},
   "outputs": [
    {
     "data": {
      "text/plain": [
       "int"
      ]
     },
     "execution_count": 62,
     "metadata": {},
     "output_type": "execute_result"
    }
   ],
   "source": [
    "type(324)"
   ]
  },
  {
   "cell_type": "code",
   "execution_count": 63,
   "id": "eea4a32f-595a-4dc6-a2bc-beb243270d52",
   "metadata": {},
   "outputs": [
    {
     "data": {
      "text/plain": [
       "'10,000'"
      ]
     },
     "execution_count": 63,
     "metadata": {},
     "output_type": "execute_result"
    }
   ],
   "source": [
    "employee_salary = \"10,000\"\n",
    "employee_salary"
   ]
  },
  {
   "cell_type": "code",
   "execution_count": 64,
   "id": "772fa5ff-826d-4b20-9b97-9408725b4a12",
   "metadata": {},
   "outputs": [],
   "source": [
    "employee_salary = 100\n",
    "boss_salary = 500\n",
    "manager_salary = 300"
   ]
  },
  {
   "cell_type": "code",
   "execution_count": 65,
   "id": "39c47068-a1d0-48b5-9d5b-69c625f84976",
   "metadata": {},
   "outputs": [
    {
     "data": {
      "text/plain": [
       "0"
      ]
     },
     "execution_count": 65,
     "metadata": {},
     "output_type": "execute_result"
    }
   ],
   "source": [
    "x = 10\n",
    "x%=2\n",
    "x"
   ]
  },
  {
   "cell_type": "code",
   "execution_count": 66,
   "id": "6c5731a6-1d07-4709-af8f-626a7eb586fb",
   "metadata": {},
   "outputs": [
    {
     "data": {
      "text/plain": [
       "'rohullah'"
      ]
     },
     "execution_count": 66,
     "metadata": {},
     "output_type": "execute_result"
    }
   ],
   "source": [
    "student_name = \"rohullah\"\n",
    "student_name"
   ]
  },
  {
   "cell_type": "code",
   "execution_count": 67,
   "id": "a5819621-f6b7-4200-96cc-416135fab8d8",
   "metadata": {},
   "outputs": [
    {
     "data": {
      "text/plain": [
       "'ali'"
      ]
     },
     "execution_count": 67,
     "metadata": {},
     "output_type": "execute_result"
    }
   ],
   "source": [
    "manager1 = 'ali'\n",
    "manager1"
   ]
  },
  {
   "cell_type": "code",
   "execution_count": 68,
   "id": "60f69dfa-0ce0-429b-9c6f-4bdecdd72d74",
   "metadata": {},
   "outputs": [
    {
     "data": {
      "text/plain": [
       "4000"
      ]
     },
     "execution_count": 68,
     "metadata": {},
     "output_type": "execute_result"
    }
   ],
   "source": [
    "rohullah_fees = 2000\n",
    "rohullah_fees *= 2\n",
    "rohullah_fees"
   ]
  },
  {
   "cell_type": "code",
   "execution_count": 69,
   "id": "f7994ad8-2729-4b83-8601-14751e8e533a",
   "metadata": {},
   "outputs": [
    {
     "data": {
      "text/plain": [
       "'wajeeha'"
      ]
     },
     "execution_count": 69,
     "metadata": {},
     "output_type": "execute_result"
    }
   ],
   "source": [
    "student1 = \"wajeeha\"\n",
    "student1"
   ]
  },
  {
   "cell_type": "code",
   "execution_count": 70,
   "id": "9310263b-479a-49a5-8c0e-818c3e950aeb",
   "metadata": {},
   "outputs": [
    {
     "data": {
      "text/plain": [
       "int"
      ]
     },
     "execution_count": 70,
     "metadata": {},
     "output_type": "execute_result"
    }
   ],
   "source": [
    "type(9786)"
   ]
  },
  {
   "cell_type": "markdown",
   "id": "8fd3c1c7-e1fb-46ed-9a4b-4e2a58003ddc",
   "metadata": {},
   "source": [
    "# paragraph"
   ]
  },
  {
   "cell_type": "code",
   "execution_count": 71,
   "id": "361d63f9-c1de-4dbb-b9e1-b6a2ddd167de",
   "metadata": {},
   "outputs": [],
   "source": [
    "x = \"\"\"\n",
    "My Name is  Abdullah\n",
    "I am 18 years old\n",
    "I study in class 10\n",
    "My favourite place is karahi\n",
    "\"\"\""
   ]
  },
  {
   "cell_type": "code",
   "execution_count": 72,
   "id": "aa3f3599-ba9e-419e-a709-b55f99914748",
   "metadata": {},
   "outputs": [
    {
     "name": "stdout",
     "output_type": "stream",
     "text": [
      "\n",
      "My Name is  Abdullah\n",
      "I am 18 years old\n",
      "I study in class 10\n",
      "My favourite place is karahi\n",
      "\n"
     ]
    }
   ],
   "source": [
    "print(x)"
   ]
  },
  {
   "cell_type": "code",
   "execution_count": 73,
   "id": "caa5a48b-d9c7-4419-bd5a-a58e9dbf4f9e",
   "metadata": {},
   "outputs": [
    {
     "data": {
      "text/plain": [
       "' I am learning python from 1 august\\nI have learned built in function\\ndatatypes\\nmathematical operators\\nconditional operators\\n'"
      ]
     },
     "execution_count": 73,
     "metadata": {},
     "output_type": "execute_result"
    }
   ],
   "source": [
    "\"\"\" I am learning python from 1 august\n",
    "I have learned built in function\n",
    "datatypes\n",
    "mathematical operators\n",
    "conditional operators\n",
    "\"\"\""
   ]
  },
  {
   "cell_type": "code",
   "execution_count": 74,
   "id": "42382e69-9fb1-4074-bcc8-781254f5e0cd",
   "metadata": {},
   "outputs": [
    {
     "name": "stdout",
     "output_type": "stream",
     "text": [
      "\n",
      "My Name is  Abdullah\n",
      "I am 18 years old\n",
      "I study in class 10\n",
      "My favourite place is karahi\n",
      "\n"
     ]
    }
   ],
   "source": [
    "print(x)"
   ]
  },
  {
   "cell_type": "markdown",
   "id": "efa31ca2-66cd-4455-9699-56f57c1679ce",
   "metadata": {},
   "source": [
    "# sepertors "
   ]
  },
  {
   "cell_type": "code",
   "execution_count": 75,
   "id": "10a3e139-1c7c-4a31-80ff-91a3d0bbb61d",
   "metadata": {},
   "outputs": [
    {
     "name": "stdout",
     "output_type": "stream",
     "text": [
      "Hello 1 4.5 True\n"
     ]
    }
   ],
   "source": [
    "print('Hello',1,4.5,True)"
   ]
  },
  {
   "cell_type": "code",
   "execution_count": 76,
   "id": "3b2ecc2e-5a23-4bee-8fd8-523942de94eb",
   "metadata": {},
   "outputs": [
    {
     "name": "stdout",
     "output_type": "stream",
     "text": [
      "Hello/1/4.5/True\n"
     ]
    }
   ],
   "source": [
    "print('Hello',1,4.5,True, sep= '/')"
   ]
  },
  {
   "cell_type": "code",
   "execution_count": 77,
   "id": "f1883a11-1072-4812-a811-e5cc571d3ca1",
   "metadata": {},
   "outputs": [
    {
     "name": "stdout",
     "output_type": "stream",
     "text": [
      "Hello?1?4.5?True\n"
     ]
    }
   ],
   "source": [
    "print('Hello',1,4.5,True, sep= '?')"
   ]
  },
  {
   "cell_type": "code",
   "execution_count": 78,
   "id": "cd79ff4e-8092-4a71-8384-8bf5dc075af8",
   "metadata": {},
   "outputs": [
    {
     "name": "stdout",
     "output_type": "stream",
     "text": [
      "I am learning python from 1 august\n",
      "I have learned built in function\n",
      "datatypes\n",
      "mathematical operators\n",
      "conditional operators\n",
      "\n"
     ]
    }
   ],
   "source": [
    "print('I am learning python from 1 august\\nI have learned built in function\\ndatatypes\\nmathematical operators\\nconditional operators\\n')"
   ]
  },
  {
   "cell_type": "code",
   "execution_count": 79,
   "id": "067cc46c-2c33-4153-affd-12f6a21196fc",
   "metadata": {},
   "outputs": [
    {
     "name": "stdout",
     "output_type": "stream",
     "text": [
      "hello-world\n"
     ]
    }
   ],
   "source": [
    "print('hello', end='-')\n",
    "print('world')"
   ]
  },
  {
   "cell_type": "raw",
   "id": "656dd10e-0bfe-4cc8-b908-a2e17339d6da",
   "metadata": {},
   "source": [
    "print(\"wajeeha\")"
   ]
  },
  {
   "cell_type": "code",
   "execution_count": 80,
   "id": "53d96405-27a0-4c8c-8bd4-9f4dca4690ae",
   "metadata": {},
   "outputs": [
    {
     "name": "stdout",
     "output_type": "stream",
     "text": [
      "1e+308\n"
     ]
    }
   ],
   "source": [
    "print(1e308)"
   ]
  },
  {
   "cell_type": "code",
   "execution_count": 81,
   "id": "5243ab3e-630b-4827-ace4-2ec1c9556ddc",
   "metadata": {},
   "outputs": [
    {
     "name": "stdout",
     "output_type": "stream",
     "text": [
      "inf\n"
     ]
    }
   ],
   "source": [
    "print(1e309)"
   ]
  },
  {
   "cell_type": "code",
   "execution_count": 82,
   "id": "e14700bd-689d-483f-9177-ec0e32d460aa",
   "metadata": {},
   "outputs": [
    {
     "name": "stdout",
     "output_type": "stream",
     "text": [
      "inf\n",
      "7.7e+305\n"
     ]
    }
   ],
   "source": [
    "print(7.7e309)\n",
    "print(7.7e305)"
   ]
  },
  {
   "cell_type": "code",
   "execution_count": 83,
   "id": "348410e3-2516-4662-a5d9-45359fab9243",
   "metadata": {},
   "outputs": [
    {
     "name": "stdout",
     "output_type": "stream",
     "text": [
      "True\n",
      "False\n"
     ]
    }
   ],
   "source": [
    " print(True)\n",
    "print(False)"
   ]
  },
  {
   "cell_type": "code",
   "execution_count": 84,
   "id": "a3ca9edf-6572-44fa-8a7e-deb91bbbe85f",
   "metadata": {},
   "outputs": [
    {
     "name": "stdout",
     "output_type": "stream",
     "text": [
      "(5+6j)\n"
     ]
    }
   ],
   "source": [
    "print(5+6j)"
   ]
  },
  {
   "cell_type": "code",
   "execution_count": 85,
   "id": "a7d41fea-488f-4943-a353-b8c325aa0339",
   "metadata": {},
   "outputs": [
    {
     "name": "stdout",
     "output_type": "stream",
     "text": [
      "[1, 2, 3, 4, 5]\n"
     ]
    }
   ],
   "source": [
    "#list\n",
    "print([1,2,3,4,5])"
   ]
  },
  {
   "cell_type": "code",
   "execution_count": 86,
   "id": "53023e79-96c0-47f1-8d72-d027d1df117f",
   "metadata": {},
   "outputs": [
    {
     "name": "stdout",
     "output_type": "stream",
     "text": [
      "(1, 2, 2, 4, 5)\n"
     ]
    }
   ],
   "source": [
    "#tupules\n",
    "print((1,2,2,4,5))"
   ]
  },
  {
   "cell_type": "code",
   "execution_count": 87,
   "id": "5764bde2-7b1a-45e7-8ba8-f8a9520a61ef",
   "metadata": {},
   "outputs": [
    {
     "name": "stdout",
     "output_type": "stream",
     "text": [
      "{1, 2, 3, 4, 5, 6}\n"
     ]
    }
   ],
   "source": [
    "# sets\n",
    "print({1,2,3,4,5,6})"
   ]
  },
  {
   "cell_type": "code",
   "execution_count": 88,
   "id": "13b60a0d-8469-4017-8b6a-51a7faea7b71",
   "metadata": {},
   "outputs": [
    {
     "name": "stdout",
     "output_type": "stream",
     "text": [
      "{'Name': 'wajiha', 'gender': 'female', 'age': '20 years', 'weight': '50 kg'}\n"
     ]
    }
   ],
   "source": [
    "print({'Name': 'wajiha', 'gender': 'female', 'age': '20 years', 'weight': '50 kg'})"
   ]
  },
  {
   "cell_type": "code",
   "execution_count": 89,
   "id": "7f34f25c-eea4-422b-b9a1-226a07063f3a",
   "metadata": {},
   "outputs": [
    {
     "data": {
      "text/plain": [
       "set"
      ]
     },
     "execution_count": 89,
     "metadata": {},
     "output_type": "execute_result"
    }
   ],
   "source": [
    "type({1,23,3,7,8})"
   ]
  },
  {
   "cell_type": "code",
   "execution_count": 90,
   "id": "1a451329-0681-441b-be1f-ca318d2e4cd7",
   "metadata": {},
   "outputs": [
    {
     "data": {
      "text/plain": [
       "list"
      ]
     },
     "execution_count": 90,
     "metadata": {},
     "output_type": "execute_result"
    }
   ],
   "source": [
    "type([13415])"
   ]
  },
  {
   "cell_type": "code",
   "execution_count": 91,
   "id": "7c0e2486-9d64-4a1a-863d-a175b407562a",
   "metadata": {},
   "outputs": [
    {
     "data": {
      "text/plain": [
       "tuple"
      ]
     },
     "execution_count": 91,
     "metadata": {},
     "output_type": "execute_result"
    }
   ],
   "source": [
    "type((2,14,32,5))"
   ]
  },
  {
   "cell_type": "code",
   "execution_count": 92,
   "id": "0fd71f55-d5c9-4af9-ae48-d12b0cd5a20b",
   "metadata": {},
   "outputs": [
    {
     "data": {
      "text/plain": [
       "float"
      ]
     },
     "execution_count": 92,
     "metadata": {},
     "output_type": "execute_result"
    }
   ],
   "source": [
    "type(32.426)"
   ]
  },
  {
   "cell_type": "code",
   "execution_count": 93,
   "id": "fa6e29f3-f7b5-4c5c-b418-6b06b22566ed",
   "metadata": {},
   "outputs": [
    {
     "data": {
      "text/plain": [
       "int"
      ]
     },
     "execution_count": 93,
     "metadata": {},
     "output_type": "execute_result"
    }
   ],
   "source": [
    "type(34*2)"
   ]
  },
  {
   "cell_type": "code",
   "execution_count": 94,
   "id": "98881ad1-a418-4b3d-83e8-7f9d283c310b",
   "metadata": {},
   "outputs": [
    {
     "name": "stdout",
     "output_type": "stream",
     "text": [
      "6\n",
      "wajiha\n"
     ]
    }
   ],
   "source": [
    "a=6\n",
    "print(a)\n",
    "a = 'wajiha'\n",
    "print(a)"
   ]
  },
  {
   "cell_type": "code",
   "execution_count": 95,
   "id": "567f1749-27b9-40f3-9def-f8dca25a7b1e",
   "metadata": {},
   "outputs": [
    {
     "name": "stdout",
     "output_type": "stream",
     "text": [
      "wajiha\n"
     ]
    }
   ],
   "source": [
    "print(a)"
   ]
  },
  {
   "cell_type": "markdown",
   "id": "1025359a-774c-45f0-9612-ef10704625fb",
   "metadata": {},
   "source": [
    "# ***stylish declaration technique***:"
   ]
  },
  {
   "cell_type": "code",
   "execution_count": 96,
   "id": "8f062891-d25c-4ce1-be5a-046e7c3aab7b",
   "metadata": {},
   "outputs": [
    {
     "name": "stdout",
     "output_type": "stream",
     "text": [
      "1 2 3\n"
     ]
    }
   ],
   "source": [
    "a,b,c = 1,2,3\n",
    "print(a,b,c)"
   ]
  },
  {
   "cell_type": "code",
   "execution_count": 97,
   "id": "c25bdb97-e8db-421a-b20b-297d63a258d5",
   "metadata": {},
   "outputs": [
    {
     "name": "stdout",
     "output_type": "stream",
     "text": [
      "1 2 3\n"
     ]
    }
   ],
   "source": [
    "a = 1\n",
    "b = 2\n",
    "c = 3\n",
    "print(a,b,c)"
   ]
  },
  {
   "cell_type": "code",
   "execution_count": 98,
   "id": "b7da3e66-5975-4e8c-a75d-f903633ae11d",
   "metadata": {},
   "outputs": [
    {
     "name": "stdout",
     "output_type": "stream",
     "text": [
      "6 6 6\n"
     ]
    }
   ],
   "source": [
    "a=b=c = 6\n",
    "print(a,b,c)"
   ]
  },
  {
   "cell_type": "code",
   "execution_count": 99,
   "id": "f1c55c8c-d3b2-4991-8d9a-812db289a97d",
   "metadata": {},
   "outputs": [
    {
     "name": "stdout",
     "output_type": "stream",
     "text": [
      "(8, 5) 8 5\n"
     ]
    }
   ],
   "source": [
    "# ?\n",
    "a=b, c = 8, 5\n",
    "print(a,b,c)"
   ]
  },
  {
   "cell_type": "code",
   "execution_count": 100,
   "id": "8a968d64-81f7-4ffb-8119-46e90a325db4",
   "metadata": {},
   "outputs": [
    {
     "name": "stdout",
     "output_type": "stream",
     "text": [
      "3 3 9\n"
     ]
    }
   ],
   "source": [
    "a=b=3 \n",
    "c= 9\n",
    "print(a,b,c)"
   ]
  },
  {
   "cell_type": "markdown",
   "id": "91341d70-3825-40e5-af89-56d9257c705c",
   "metadata": {},
   "source": [
    "# comments"
   ]
  },
  {
   "cell_type": "code",
   "execution_count": 101,
   "id": "97256b78-2a2e-492a-9c6e-ff39c1013e31",
   "metadata": {},
   "outputs": [
    {
     "name": "stdout",
     "output_type": "stream",
     "text": [
      "7\n"
     ]
    }
   ],
   "source": [
    "# this is a comment\n",
    "a = 3 # first one\n",
    "b = 4 #like this\n",
    "#output\n",
    "print(a+b)"
   ]
  },
  {
   "cell_type": "markdown",
   "id": "039f220e-0d89-44f8-b8ec-a6787154f8c3",
   "metadata": {},
   "source": [
    "# keywors and identifiers"
   ]
  },
  {
   "cell_type": "code",
   "execution_count": 102,
   "id": "cde0632b-2a1e-430d-819e-0495c9146558",
   "metadata": {},
   "outputs": [],
   "source": [
    "# keywords"
   ]
  },
  {
   "cell_type": "code",
   "execution_count": 103,
   "id": "23be8c5f-e880-4a40-a597-e315b2194858",
   "metadata": {},
   "outputs": [
    {
     "name": "stdout",
     "output_type": "stream",
     "text": [
      "nitish\n",
      "nitish\n"
     ]
    }
   ],
   "source": [
    "# identifiers= name create kar raha, like: variable, function, class in oop\n",
    "# Rules to write identifiers\n",
    "# 1. you can  not start with digit\n",
    "name1 = 'nitish'\n",
    "print(name1)\n",
    "# you can use upper case and lower case and digits and in special charactr only -> _\n",
    "_ = \"nitish\"\n",
    "print(_)\n",
    "# identifiers cannot be keywords\n"
   ]
  },
  {
   "cell_type": "markdown",
   "id": "03e830da-dfdd-4003-a8fc-305c4c01be49",
   "metadata": {},
   "source": [
    "# user input"
   ]
  },
  {
   "cell_type": "code",
   "execution_count": 104,
   "id": "ff27c640-08c7-459d-9574-abeead1691ba",
   "metadata": {},
   "outputs": [],
   "source": [
    "# static software\n",
    "#no input given only results or user is not asking or talking or interact but taking information eg: calendar or clock, blog\n",
    "# dynamic software\n",
    "# input can be give and results, like youtube in which we can search and output or results are out\n",
    "# actually talking to the software like youtube, indrive"
   ]
  },
  {
   "cell_type": "code",
   "execution_count": 105,
   "id": "2a754fcc-99c0-4101-a58b-20e85b05457a",
   "metadata": {},
   "outputs": [
    {
     "name": "stdin",
     "output_type": "stream",
     "text": [
      " apna pan naam batao wajeeha batool\n"
     ]
    },
    {
     "data": {
      "text/plain": [
       "'wajeeha batool'"
      ]
     },
     "execution_count": 105,
     "metadata": {},
     "output_type": "execute_result"
    }
   ],
   "source": [
    "input(\" apna pan naam batao\")"
   ]
  },
  {
   "cell_type": "code",
   "execution_count": 106,
   "id": "3cbb5e83-af0f-442c-8232-a544aa00576e",
   "metadata": {},
   "outputs": [
    {
     "name": "stdin",
     "output_type": "stream",
     "text": [
      "enter email batoolwajiha31@gmail.com\n"
     ]
    },
    {
     "data": {
      "text/plain": [
       "'batoolwajiha31@gmail.com'"
      ]
     },
     "execution_count": 106,
     "metadata": {},
     "output_type": "execute_result"
    }
   ],
   "source": [
    "input('enter email')"
   ]
  },
  {
   "cell_type": "code",
   "execution_count": 109,
   "id": "40429624-4f3d-4e6f-9143-3fbdf7e08807",
   "metadata": {},
   "outputs": [
    {
     "name": "stdin",
     "output_type": "stream",
     "text": [
      "enter first number 45\n",
      "enter second number 56\n"
     ]
    },
    {
     "name": "stdout",
     "output_type": "stream",
     "text": [
      "45 56\n",
      "4556\n"
     ]
    }
   ],
   "source": [
    "# take input from user and store them in a variable\n",
    "fnum = input('enter first number')\n",
    "snum = input('enter second number')\n",
    "print(fnum,snum)\n",
    "# add two variable \n",
    "result = fnum + snum\n",
    "# print the variable\n",
    "print(result)"
   ]
  },
  {
   "cell_type": "code",
   "execution_count": null,
   "id": "48bb503a-abca-4084-9c21-da297d4b6e63",
   "metadata": {},
   "outputs": [],
   "source": []
  }
 ],
 "metadata": {
  "kernelspec": {
   "display_name": "Python 3 (ipykernel)",
   "language": "python",
   "name": "python3"
  },
  "language_info": {
   "codemirror_mode": {
    "name": "ipython",
    "version": 3
   },
   "file_extension": ".py",
   "mimetype": "text/x-python",
   "name": "python",
   "nbconvert_exporter": "python",
   "pygments_lexer": "ipython3",
   "version": "3.12.7"
  }
 },
 "nbformat": 4,
 "nbformat_minor": 5
}
