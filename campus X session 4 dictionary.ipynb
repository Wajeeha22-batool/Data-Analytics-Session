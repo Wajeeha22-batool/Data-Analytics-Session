{
 "cells": [
  {
   "cell_type": "markdown",
   "id": "17423f1e-ea00-46a9-9c1f-815d13112540",
   "metadata": {},
   "source": [
    "# Dictionary "
   ]
  },
  {
   "cell_type": "raw",
   "id": "7c18b757-b72c-4178-9aa6-06d6d8bb0358",
   "metadata": {},
   "source": [
    "A dictionary is a built-in data type in Python used to store key-value pairs.\n",
    "It is like a real dictionary where you look up a word (key) and find its meaning (value).\n",
    "\n",
    "Keys → must be unique & immutable (like strings, numbers, tuples).\n",
    "\n",
    "Values → can be of any data type and can be duplicated."
   ]
  },
  {
   "cell_type": "markdown",
   "id": "c6ca4c76-9159-4e6d-b534-87e9cd3a7bfe",
   "metadata": {},
   "source": [
    "create dictionary"
   ]
  },
  {
   "cell_type": "code",
   "execution_count": 14,
   "id": "ba2ba7c3-0c94-49c3-b8eb-9876836c331b",
   "metadata": {},
   "outputs": [
    {
     "name": "stdout",
     "output_type": "stream",
     "text": [
      "{'name': 'wajeeha', 'gender': 'female', 'age': 22}\n"
     ]
    },
    {
     "data": {
      "text/plain": [
       "{'name': 'wajeeha', 123: 6}"
      ]
     },
     "execution_count": 14,
     "metadata": {},
     "output_type": "execute_result"
    }
   ],
   "source": [
    "# empty dictionary\n",
    "d1 = {}\n",
    "d1\n",
    "# 1D dictionary\n",
    "d2 = {\"name\": 'wajeeha', \"gender\": \"female\", \"age\": 22}\n",
    "print(d2)\n",
    "type(d2)\n",
    "# with mixed keys\n",
    "d3 = {\"numbers\": 46789000, \"hello\":\"world\"}\n",
    "d3\n",
    "# 2D dictionary\n",
    "my_dict = {\n",
    "    'name': 'wajeeha batool',\n",
    "    'college':'uok',\n",
    "     \"sem\" : \"graduated\",\n",
    "    \"subject\" : {\n",
    "        \"biotech\":76,\n",
    "        \"enzymo\": 80\n",
    "    }\n",
    "}\n",
    "my_dict\n",
    "# using sequence and dict function\n",
    "d4 = dict([(1,2),('name','wajeeha')])\n",
    "d4\n",
    "# duplicate keys (print only last key)\n",
    "d5 = {'name': 'tajdar', 'name': 'ali'}\n",
    "d5\n",
    "# can't add mutable items as keys\n",
    "d6 = {'name':'wajeeha', (123): 6} # list is not allowed as keys\n",
    "d6"
   ]
  },
  {
   "cell_type": "code",
   "execution_count": 18,
   "id": "fbf591d5-ddb2-49ef-adda-99445c64150e",
   "metadata": {},
   "outputs": [
    {
     "data": {
      "text/plain": [
       "'tajdar'"
      ]
     },
     "execution_count": 18,
     "metadata": {},
     "output_type": "execute_result"
    }
   ],
   "source": [
    "# to get any item\n",
    "my_dict = {'name': 'tajdar', 'age': 22}\n",
    "my_dict ['age']\n",
    "my_dict.get('name')"
   ]
  },
  {
   "cell_type": "code",
   "execution_count": 21,
   "id": "b5b72243-f421-4a7d-bc63-72236d7a6de8",
   "metadata": {},
   "outputs": [
    {
     "data": {
      "text/plain": [
       "{'name': 'abdullah', 'age': 22, 'gender': 'male'}"
      ]
     },
     "execution_count": 21,
     "metadata": {},
     "output_type": "execute_result"
    }
   ],
   "source": [
    "# to add any new item in dict\n",
    "my_dict['name']='abdullah'\n",
    "my_dict\n",
    "my_dict ['gender'] = 'male'\n",
    "my_dict"
   ]
  },
  {
   "cell_type": "markdown",
   "id": "10c7aac9-5abc-497a-91e7-dea2453aee63",
   "metadata": {},
   "source": [
    " remove key-value pair"
   ]
  },
  {
   "cell_type": "code",
   "execution_count": 31,
   "id": "161a8a30-dc42-4504-885c-d6f9997af527",
   "metadata": {},
   "outputs": [
    {
     "data": {
      "text/plain": [
       "{}"
      ]
     },
     "execution_count": 31,
     "metadata": {},
     "output_type": "execute_result"
    }
   ],
   "source": [
    "# pop\n",
    "# dict1 = {'name': 'arifa', 'age':17, \"college\": 'bahria'}\n",
    "# dict1.pop(\"college\") # remove by key\n",
    "# dict1\n",
    "# pop item\n",
    "dict2 = {'name': 'arifa', 'age':17, \"college\": 'bahria', 'gender': 'female'}\n",
    "# dict2.popitem() # del last key value pair\n",
    "# dict2\n",
    "# del\n",
    "# del dict2['name'] # like pop and also delete whole dict\n",
    "# dict2\n",
    "# clear\n",
    "dict2.clear()\n",
    "dict2"
   ]
  },
  {
   "cell_type": "code",
   "execution_count": 41,
   "id": "db094741-7a07-4f94-8d7a-2ed7e01eaa28",
   "metadata": {},
   "outputs": [
    {
     "data": {
      "text/plain": [
       "{'name': 'wajeeha batool',\n",
       " 'college': 'uok',\n",
       " 'sem': 'graduated',\n",
       " 'subject': {'biotech': 76, 'micro': 79}}"
      ]
     },
     "execution_count": 41,
     "metadata": {},
     "output_type": "execute_result"
    }
   ],
   "source": [
    "my_dict = {\n",
    "    'name': 'wajeeha batool',\n",
    "    'college':'uok',\n",
    "     \"sem\" : \"graduated\",\n",
    "    \"subject\" : {\n",
    "        \"biotech\":76,\n",
    "        \"enzymo\": 80\n",
    "    }\n",
    "}\n",
    "my_dict['subject']['micro'] = 79\n",
    "my_dict\n",
    "del my_dict['subject']['enzymo']\n",
    "my_dict"
   ]
  },
  {
   "cell_type": "markdown",
   "id": "92dc1035-2ecc-452a-9609-31ac7dc074b3",
   "metadata": {},
   "source": [
    "Editing key value pair"
   ]
  },
  {
   "cell_type": "code",
   "execution_count": 43,
   "id": "a4330cfc-78c7-4bfe-8069-ca40ca74f208",
   "metadata": {},
   "outputs": [
    {
     "data": {
      "text/plain": [
       "{'name': 'wajeeha batool',\n",
       " 'college': 'uok',\n",
       " 'sem': 8,\n",
       " 'subject': {'biotech': 76, 'micro': 79}}"
      ]
     },
     "execution_count": 43,
     "metadata": {},
     "output_type": "execute_result"
    }
   ],
   "source": [
    "my_dict['sem'] = 8\n",
    "my_dict"
   ]
  },
  {
   "cell_type": "markdown",
   "id": "fa92b7fc-cbff-4b16-8935-4a57a79b655a",
   "metadata": {},
   "source": [
    "Dictionary operation\n",
    "1. membership\n",
    "2. iteration"
   ]
  },
  {
   "cell_type": "code",
   "execution_count": 44,
   "id": "fbe920a7-68b4-46ff-bff1-2455d7b04849",
   "metadata": {},
   "outputs": [
    {
     "data": {
      "text/plain": [
       "True"
      ]
     },
     "execution_count": 44,
     "metadata": {},
     "output_type": "execute_result"
    }
   ],
   "source": [
    "# In dict fetch items by key\n",
    "'name' in my_dict"
   ]
  },
  {
   "cell_type": "code",
   "execution_count": 45,
   "id": "846f44b8-f371-4909-89fc-5cb2ffa3db4d",
   "metadata": {},
   "outputs": [
    {
     "data": {
      "text/plain": [
       "False"
      ]
     },
     "execution_count": 45,
     "metadata": {},
     "output_type": "execute_result"
    }
   ],
   "source": [
    "'name' not in my_dict"
   ]
  },
  {
   "cell_type": "code",
   "execution_count": 46,
   "id": "5fa158c5-c373-4248-a455-a50498ea3b35",
   "metadata": {},
   "outputs": [
    {
     "data": {
      "text/plain": [
       "{'name': 'wajeeha batool',\n",
       " 'college': 'uok',\n",
       " 'sem': 8,\n",
       " 'subject': {'biotech': 76, 'micro': 79}}"
      ]
     },
     "execution_count": 46,
     "metadata": {},
     "output_type": "execute_result"
    }
   ],
   "source": [
    "my_dict"
   ]
  },
  {
   "cell_type": "code",
   "execution_count": 49,
   "id": "07f2ae65-58e1-4831-82e4-a1562941f445",
   "metadata": {},
   "outputs": [
    {
     "name": "stdout",
     "output_type": "stream",
     "text": [
      "name wajeeha batool\n",
      "college uok\n",
      "sem 8\n",
      "subject {'biotech': 76, 'micro': 79}\n"
     ]
    }
   ],
   "source": [
    "for i in my_dict:\n",
    "    print(i,my_dict[i])"
   ]
  },
  {
   "cell_type": "code",
   "execution_count": 50,
   "id": "1eed8711-2850-42ca-b4dc-4dbf821c6527",
   "metadata": {},
   "outputs": [
    {
     "name": "stdout",
     "output_type": "stream",
     "text": [
      "name\n",
      "college\n",
      "sem\n",
      "subject\n"
     ]
    }
   ],
   "source": [
    "for i in my_dict:\n",
    "    print(i)"
   ]
  },
  {
   "cell_type": "markdown",
   "id": "96ed6d39-ebc1-4200-a44b-3a6046d434df",
   "metadata": {},
   "source": [
    "Dictionary fuction"
   ]
  },
  {
   "cell_type": "code",
   "execution_count": 60,
   "id": "1768e315-894d-4b74-a319-a7fbcc9b9f4b",
   "metadata": {},
   "outputs": [
    {
     "name": "stdout",
     "output_type": "stream",
     "text": [
      "4\n",
      "['college', 'name', 'sem', 'subject']\n",
      "subject\n"
     ]
    }
   ],
   "source": [
    "# len/sorted\n",
    "print(len(my_dict))\n",
    "print(sorted(my_dict))\n",
    "sorted(my_dict,reverse=True)\n",
    "print(max(my_dict)) # min and max on the basis of ascii"
   ]
  },
  {
   "cell_type": "code",
   "execution_count": 62,
   "id": "3252a9d3-37d7-4d0d-be75-150c5b597430",
   "metadata": {},
   "outputs": [
    {
     "name": "stdout",
     "output_type": "stream",
     "text": [
      "{'name': 'wajeeha batool', 'college': 'uok', 'sem': 8, 'subject': {'biotech': 76, 'micro': 79}}\n",
      "dict_items([('name', 'wajeeha batool'), ('college', 'uok'), ('sem', 8), ('subject', {'biotech': 76, 'micro': 79})])\n"
     ]
    }
   ],
   "source": [
    "# items/keys/value\n",
    "print(my_dict)\n",
    "\n",
    "print(my_dict.items())"
   ]
  },
  {
   "cell_type": "code",
   "execution_count": 63,
   "id": "01ad20a3-ab62-46d7-8ff6-37dc03962752",
   "metadata": {},
   "outputs": [
    {
     "name": "stdout",
     "output_type": "stream",
     "text": [
      "dict_keys(['name', 'college', 'sem', 'subject'])\n"
     ]
    }
   ],
   "source": [
    "print(my_dict.keys())"
   ]
  },
  {
   "cell_type": "code",
   "execution_count": 65,
   "id": "f7e69aeb-85da-4d3a-92be-0aa38871a21d",
   "metadata": {},
   "outputs": [
    {
     "name": "stdout",
     "output_type": "stream",
     "text": [
      "dict_values(['wajeeha batool', 'uok', 8, {'biotech': 76, 'micro': 79}])\n"
     ]
    }
   ],
   "source": [
    "print(my_dict.values())"
   ]
  },
  {
   "cell_type": "code",
   "execution_count": 66,
   "id": "312b25f5-e8a5-4c03-8485-99f8bd1d8216",
   "metadata": {},
   "outputs": [
    {
     "name": "stdout",
     "output_type": "stream",
     "text": [
      "{1: 2, 3: 4, 4: 7, 6: 8}\n"
     ]
    }
   ],
   "source": [
    "# update(given dict ko new dict sa update karna)\n",
    "d1 = {1:2,3:4,4:5}\n",
    "d2 = {4:7,6:8}\n",
    "d1.update(d2)\n",
    "print(d1)"
   ]
  },
  {
   "cell_type": "markdown",
   "id": "10dcd3bb-4e1d-4424-85a4-8447df70bada",
   "metadata": {},
   "source": [
    "# Comprehension"
   ]
  },
  {
   "cell_type": "code",
   "execution_count": 68,
   "id": "851acf9e-c3c9-4d16-988e-fad701b42870",
   "metadata": {},
   "outputs": [
    {
     "data": {
      "text/plain": [
       "{1: 1, 2: 4, 3: 9, 4: 16, 5: 25, 6: 36, 7: 49, 8: 64, 9: 81, 10: 100}"
      ]
     },
     "execution_count": 68,
     "metadata": {},
     "output_type": "execute_result"
    }
   ],
   "source": [
    " # print 1st 10 number and their squares\n",
    "{i:i**2 for i in range (1,11)}"
   ]
  },
  {
   "cell_type": "code",
   "execution_count": 73,
   "id": "0c39d853-2ac8-40d1-ab8e-9308ff9bce87",
   "metadata": {},
   "outputs": [
    {
     "name": "stdout",
     "output_type": "stream",
     "text": [
      "dict_items([('delhi', 1000), ('bombay', 2000), ('banglore', 3000)])\n"
     ]
    },
    {
     "data": {
      "text/plain": [
       "{'delhi': 500, 'bombay': 1000, 'banglore': 1500}"
      ]
     },
     "execution_count": 73,
     "metadata": {},
     "output_type": "execute_result"
    }
   ],
   "source": [
    "# using existing dict\n",
    "distance = {'delhi': 1000 , 'bombay': 2000 , 'banglore': 3000}\n",
    "print(distance.items())\n",
    "{key:value//2 for (key,value) in distance.items()}"
   ]
  },
  {
   "cell_type": "code",
   "execution_count": 75,
   "id": "f8b1e12f-60a3-4422-82a2-9e73d0060900",
   "metadata": {},
   "outputs": [
    {
     "data": {
      "text/plain": [
       "{'sunday': 30.4,\n",
       " 'monday': 40,\n",
       " 'tuesday': 23,\n",
       " 'wednesday': 35,\n",
       " 'thursday': 30.8,\n",
       " 'friday': 40.1,\n",
       " 'saturday': 29.9}"
      ]
     },
     "execution_count": 75,
     "metadata": {},
     "output_type": "execute_result"
    }
   ],
   "source": [
    "# using zip\n",
    "days = ['sunday', 'monday','tuesday', 'wednesday','thursday','friday','saturday']\n",
    "temp_C = [30.4,40,23,35,30.8,40.1,29.9]\n",
    "{i:j for (i,j) in zip (days,temp_C)}"
   ]
  },
  {
   "cell_type": "code",
   "execution_count": 76,
   "id": "21b8674b-f57e-4c4e-8383-7f3f8fbdcf2e",
   "metadata": {},
   "outputs": [
    {
     "data": {
      "text/plain": [
       "{'phone': 10, 'charger': 32}"
      ]
     },
     "execution_count": 76,
     "metadata": {},
     "output_type": "execute_result"
    }
   ],
   "source": [
    "# using if condition\n",
    "products = {'phone': 10, 'laptop': 0 , 'charger': 32, 'tablet': 0}\n",
    "{key:value for (key,value) in products.items() if value>0} "
   ]
  },
  {
   "cell_type": "code",
   "execution_count": 77,
   "id": "607a610c-93d7-4ceb-9d83-7cdf0f3a73b6",
   "metadata": {},
   "outputs": [
    {
     "data": {
      "text/plain": [
       "{1: {1: 1, 2: 2, 3: 3, 4: 4, 5: 5, 6: 6, 7: 7, 8: 8, 9: 9, 10: 10},\n",
       " 2: {1: 2, 2: 4, 3: 6, 4: 8, 5: 10, 6: 12, 7: 14, 8: 16, 9: 18, 10: 20},\n",
       " 3: {1: 3, 2: 6, 3: 9, 4: 12, 5: 15, 6: 18, 7: 21, 8: 24, 9: 27, 10: 30},\n",
       " 4: {1: 4, 2: 8, 3: 12, 4: 16, 5: 20, 6: 24, 7: 28, 8: 32, 9: 36, 10: 40},\n",
       " 5: {1: 5, 2: 10, 3: 15, 4: 20, 5: 25, 6: 30, 7: 35, 8: 40, 9: 45, 10: 50}}"
      ]
     },
     "execution_count": 77,
     "metadata": {},
     "output_type": "execute_result"
    }
   ],
   "source": [
    "# nested comprehension\n",
    "{i:{j:i*j for j in range (1,11)} for i in range(1,6)}"
   ]
  },
  {
   "cell_type": "code",
   "execution_count": null,
   "id": "b7cb9f6d-f236-4e8d-a09e-00bb560e9b8e",
   "metadata": {},
   "outputs": [],
   "source": []
  }
 ],
 "metadata": {
  "kernelspec": {
   "display_name": "Python 3 (ipykernel)",
   "language": "python",
   "name": "python3"
  },
  "language_info": {
   "codemirror_mode": {
    "name": "ipython",
    "version": 3
   },
   "file_extension": ".py",
   "mimetype": "text/x-python",
   "name": "python",
   "nbconvert_exporter": "python",
   "pygments_lexer": "ipython3",
   "version": "3.12.7"
  }
 },
 "nbformat": 4,
 "nbformat_minor": 5
}
