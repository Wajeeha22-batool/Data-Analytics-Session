{
 "cells": [
  {
   "cell_type": "markdown",
   "id": "ce356cae-e808-4e2b-9e2d-1a2fdedcaabd",
   "metadata": {},
   "source": [
    "# practice question"
   ]
  },
  {
   "cell_type": "code",
   "execution_count": 1,
   "id": "b05fa4f4-afd6-4f5e-b087-2eb43e8423a3",
   "metadata": {},
   "outputs": [
    {
     "name": "stdout",
     "output_type": "stream",
     "text": [
      "[23, 45, 7, 8, 0, 'hello', '70']\n"
     ]
    }
   ],
   "source": [
    "# create a list\n",
    "K = [23,45,7,8,0,\"hello\",\"70\"]\n",
    "print(K)"
   ]
  },
  {
   "cell_type": "code",
   "execution_count": 2,
   "id": "dbc31356-3bb4-4a75-b0f3-ad1326012ca2",
   "metadata": {},
   "outputs": [
    {
     "name": "stdout",
     "output_type": "stream",
     "text": [
      "8\n"
     ]
    }
   ],
   "source": [
    "# Access the element\n",
    "K = [23,45,7,8,0,\"hello\",\"70\"]\n",
    "print(K[3])"
   ]
  },
  {
   "cell_type": "code",
   "execution_count": 3,
   "id": "24a901f8-e5ff-4161-a95a-3c6405a0133f",
   "metadata": {},
   "outputs": [
    {
     "name": "stdout",
     "output_type": "stream",
     "text": [
      "7\n"
     ]
    }
   ],
   "source": [
    "# length of list\n",
    "K = [23,45,7,8,0,\"hello\",\"70\"]\n",
    "print(len(K))\n"
   ]
  },
  {
   "cell_type": "code",
   "execution_count": 4,
   "id": "8674fd74-28bd-493a-9e5e-5507d7d5a559",
   "metadata": {},
   "outputs": [
    {
     "name": "stdout",
     "output_type": "stream",
     "text": [
      "[23, 45, 7, 8, 0, 'hello', '70']\n"
     ]
    }
   ],
   "source": [
    "#mixed datatype\n",
    "K = [23,45,7,8,0,\"hello\",\"70\"]\n",
    "print(K)"
   ]
  },
  {
   "cell_type": "code",
   "execution_count": 5,
   "id": "1ae0af1f-b165-4af7-9ff1-729f282bc49d",
   "metadata": {},
   "outputs": [
    {
     "name": "stdout",
     "output_type": "stream",
     "text": [
      "hello\n",
      "[23, 45, 7, 8, 0, 'hello']\n",
      "[8, 0, 'hello', '70']\n"
     ]
    }
   ],
   "source": [
    "# negative indexing\n",
    "K = [23,45,7,8,0,\"hello\",\"70\"]\n",
    "print(K[-2])\n",
    "print(K[0:6])\n",
    "print(K[-4:])"
   ]
  },
  {
   "cell_type": "code",
   "execution_count": null,
   "id": "08e08714-15ed-4990-a452-655aa56ccb38",
   "metadata": {},
   "outputs": [],
   "source": []
  },
  {
   "cell_type": "code",
   "execution_count": 6,
   "id": "a4de80fc-1327-4841-ae7b-fa901c52c3bb",
   "metadata": {},
   "outputs": [
    {
     "name": "stdout",
     "output_type": "stream",
     "text": [
      "[23, 45, 7, 8, 3, 'hello', '70']\n"
     ]
    }
   ],
   "source": [
    "#change an element\n",
    "K = [23,45,7,8,0,\"hello\",\"70\"]\n",
    "K[4]=3\n",
    "print(K)"
   ]
  },
  {
   "cell_type": "code",
   "execution_count": 7,
   "id": "77f0a7e3-9f32-42a4-8e5a-3edb69a83bb1",
   "metadata": {},
   "outputs": [
    {
     "name": "stdout",
     "output_type": "stream",
     "text": [
      "[23, 45, 7, 8, 0, 'hello', '70', 'world']\n"
     ]
    }
   ],
   "source": [
    "# end an element\n",
    "K = [23,45,7,8,0,\"hello\",\"70\"]\n",
    "K.append(\"world\")\n",
    "print(K)"
   ]
  },
  {
   "cell_type": "code",
   "execution_count": 8,
   "id": "98433be6-13cc-4b9e-ae30-5c05fef8b646",
   "metadata": {},
   "outputs": [
    {
     "name": "stdout",
     "output_type": "stream",
     "text": [
      "[23, 45, 7, 8, 'hello', '70']\n"
     ]
    }
   ],
   "source": [
    "# remove element by index\n",
    "K = [23,45,7,8,0,\"hello\",\"70\"]\n",
    "K.remove(0) # item name\n",
    "print(K)"
   ]
  },
  {
   "cell_type": "code",
   "execution_count": 9,
   "id": "aed866d0-5bd6-4581-90b4-48803bbb3fd7",
   "metadata": {},
   "outputs": [
    {
     "data": {
      "text/plain": [
       "['c', 'd', 'e']"
      ]
     },
     "execution_count": 9,
     "metadata": {},
     "output_type": "execute_result"
    }
   ],
   "source": [
    "# basic slicing\n",
    "list_alphabet = [\"a\",'b','c','d','e','f']\n",
    "list_alphabet\n",
    "#\n",
    "middle_alphabet = list_alphabet[2:5]\n",
    "middle_alphabet"
   ]
  },
  {
   "cell_type": "code",
   "execution_count": 10,
   "id": "dec50c20-0c17-4875-a02b-f0d5a7fc2f7a",
   "metadata": {},
   "outputs": [
    {
     "name": "stdout",
     "output_type": "stream",
     "text": [
      "[23, 45, 7, 8, 'hello', '70']\n"
     ]
    }
   ],
   "source": [
    "# remove an element by indeing using pop\n",
    "K = [23,45,7,8,0,\"hello\",\"70\"]\n",
    "K.pop(4)\n",
    "print(K)"
   ]
  },
  {
   "cell_type": "code",
   "execution_count": 11,
   "id": "8eb56cf6-ff1d-4c71-9fe3-a0f1bbed9192",
   "metadata": {},
   "outputs": [
    {
     "name": "stdout",
     "output_type": "stream",
     "text": [
      "['a', 'b', 'd', 'e', 'f']\n"
     ]
    }
   ],
   "source": [
    "# remove element by value\n",
    "alphabet = [\"a\",'b','c','d','e','f']\n",
    "alphabet.remove('c')\n",
    "print(alphabet)"
   ]
  },
  {
   "cell_type": "markdown",
   "id": "dc4d40c1-805c-40f0-a611-d3e45b848553",
   "metadata": {},
   "source": [
    "# class work"
   ]
  },
  {
   "cell_type": "code",
   "execution_count": 12,
   "id": "78a4b3ee-be5e-4d60-ad68-c32f5965b2b4",
   "metadata": {},
   "outputs": [
    {
     "data": {
      "text/plain": [
       "'30k'"
      ]
     },
     "execution_count": 12,
     "metadata": {},
     "output_type": "execute_result"
    }
   ],
   "source": [
    "str(30) + 'k'"
   ]
  },
  {
   "cell_type": "code",
   "execution_count": 14,
   "id": "77b3d0a9-7613-4895-aa82-5fbd0fadb1e4",
   "metadata": {},
   "outputs": [
    {
     "data": {
      "text/plain": [
       "int"
      ]
     },
     "execution_count": 14,
     "metadata": {},
     "output_type": "execute_result"
    }
   ],
   "source": [
    "int(45.987) + 89\n",
    "# \n",
    "type(int(45.89) + 89)"
   ]
  },
  {
   "cell_type": "code",
   "execution_count": null,
   "id": "93d977e3-4591-4173-adac-631e191ee5ca",
   "metadata": {},
   "outputs": [],
   "source": [
    "type(134)"
   ]
  },
  {
   "cell_type": "code",
   "execution_count": null,
   "id": "deab47d9-28ad-4217-b99e-aae896e6de47",
   "metadata": {},
   "outputs": [],
   "source": [
    "\"67-78\""
   ]
  },
  {
   "cell_type": "code",
   "execution_count": null,
   "id": "93f2ad46-25d5-4263-b780-a1e925e9c50e",
   "metadata": {},
   "outputs": [],
   "source": [
    "students_name = ['wajiha','ali','fatima', 'muhammad','rohullah', 'tajdar', 'mustafa']\n",
    "students_name"
   ]
  },
  {
   "cell_type": "code",
   "execution_count": null,
   "id": "64de14f6-a2fd-44e8-8798-c1d0f760e1d9",
   "metadata": {},
   "outputs": [],
   "source": [
    "len(students_name)"
   ]
  },
  {
   "cell_type": "code",
   "execution_count": null,
   "id": "62e1f038-ca8c-415e-bda3-f206cc58c440",
   "metadata": {},
   "outputs": [],
   "source": [
    "max(students_name)"
   ]
  },
  {
   "cell_type": "code",
   "execution_count": null,
   "id": "e30011fb-44ea-4966-9739-a2cf845e1932",
   "metadata": {},
   "outputs": [],
   "source": [
    "min(students_name)"
   ]
  },
  {
   "cell_type": "code",
   "execution_count": null,
   "id": "83af72ab-76c8-4263-83c8-e06f22ddcfa5",
   "metadata": {},
   "outputs": [],
   "source": [
    "type(students_name)"
   ]
  },
  {
   "cell_type": "code",
   "execution_count": 18,
   "id": "5107d1ee-3c9b-407d-a479-87cd9f8f98e8",
   "metadata": {},
   "outputs": [
    {
     "data": {
      "text/plain": [
       "'mustafa'"
      ]
     },
     "execution_count": 18,
     "metadata": {},
     "output_type": "execute_result"
    }
   ],
   "source": [
    "#indexing \n",
    "students_name = ['wajiha','ali','fatima', 'muhammad','rohullah', 'tajdar', 'mustafa']\n",
    "students_name[2]\n",
    "#\n",
    "students_name[-3]\n",
    "#\n",
    "students_name[-1]"
   ]
  },
  {
   "cell_type": "code",
   "execution_count": 19,
   "id": "be645b85-40c1-443f-ab36-99a86a2aee00",
   "metadata": {},
   "outputs": [
    {
     "data": {
      "text/plain": [
       "['ali', 'fatima', 'muhammad', 'rohullah', 'tajdar']"
      ]
     },
     "execution_count": 19,
     "metadata": {},
     "output_type": "execute_result"
    }
   ],
   "source": [
    "# slicing\n",
    "students_name = ['wajiha','ali','fatima', 'muhammad','rohullah', 'tajdar', 'mustafa']\n",
    "students_name[1:6]"
   ]
  },
  {
   "cell_type": "code",
   "execution_count": 22,
   "id": "9a9c5e9f-245c-4790-8615-254c357fb6b4",
   "metadata": {},
   "outputs": [
    {
     "data": {
      "text/plain": [
       "['ali', 'fatima', 'muhammad', 'rohullah', 'tajdar', 'mustafa']"
      ]
     },
     "execution_count": 22,
     "metadata": {},
     "output_type": "execute_result"
    }
   ],
   "source": [
    "students_name = ['wajiha','ali','fatima', 'muhammad','rohullah', 'tajdar', 'mustafa']\n",
    "students_name[ :-3]\n",
    "students_name [-6: ]"
   ]
  },
  {
   "cell_type": "code",
   "execution_count": 25,
   "id": "98121b45-a24f-4ee5-8824-4ac795538d4d",
   "metadata": {},
   "outputs": [
    {
     "name": "stdout",
     "output_type": "stream",
     "text": [
      "['wajiha', 'rohullah']\n"
     ]
    }
   ],
   "source": [
    "students_name = ['wajiha','ali','fatima', 'muhammad','rohullah', 'tajdar', 'mustafa']\n",
    "print(students_name[0::4])"
   ]
  },
  {
   "cell_type": "code",
   "execution_count": 27,
   "id": "6559d1d1-190d-4307-81b2-23c85f06204b",
   "metadata": {},
   "outputs": [
    {
     "data": {
      "text/plain": [
       "['wajiha',\n",
       " 'ali',\n",
       " 'fatima',\n",
       " 'muhammad',\n",
       " 'rohullah',\n",
       " 'tajdar',\n",
       " 'mustafa',\n",
       " 'abbbas']"
      ]
     },
     "execution_count": 27,
     "metadata": {},
     "output_type": "execute_result"
    }
   ],
   "source": [
    "students_name = ['wajiha','ali','fatima', 'muhammad','rohullah', 'tajdar', 'mustafa']\n",
    "students_name.append(\"abbbas\")\n",
    "students_name"
   ]
  },
  {
   "cell_type": "code",
   "execution_count": 28,
   "id": "6543bf90-64f3-435d-9dac-22770caf3e14",
   "metadata": {},
   "outputs": [
    {
     "data": {
      "text/plain": [
       "['wajiha',\n",
       " 'ali',\n",
       " 'fatima',\n",
       " 'muhammad',\n",
       " 'rohullah',\n",
       " 'tajdar',\n",
       " 'mustafa',\n",
       " 'saira',\n",
       " 27,\n",
       " 'female']"
      ]
     },
     "execution_count": 28,
     "metadata": {},
     "output_type": "execute_result"
    }
   ],
   "source": [
    "students_name = ['wajiha','ali','fatima', 'muhammad','rohullah', 'tajdar', 'mustafa']\n",
    "students_name.extend([\"saira\", 27, 'female'])\n",
    "students_name"
   ]
  },
  {
   "cell_type": "code",
   "execution_count": 29,
   "id": "7c09183e-895c-4be5-8d03-991e301737cb",
   "metadata": {},
   "outputs": [
    {
     "data": {
      "text/plain": [
       "['wajiha',\n",
       " 'ali',\n",
       " 'fatima',\n",
       " 'muhammad',\n",
       " 'rohullah',\n",
       " 'tajdar',\n",
       " 'mustafa',\n",
       " 'saira',\n",
       " 27,\n",
       " 'female']"
      ]
     },
     "execution_count": 29,
     "metadata": {},
     "output_type": "execute_result"
    }
   ],
   "source": [
    "students_name"
   ]
  },
  {
   "cell_type": "code",
   "execution_count": 32,
   "id": "2dafea0f-32e4-4ff1-936b-9f09b5e79fbd",
   "metadata": {},
   "outputs": [
    {
     "data": {
      "text/plain": [
       "['wajiha',\n",
       " 'ali',\n",
       " 'fatima',\n",
       " 'muhammad',\n",
       " 'rohullah',\n",
       " 'tajdar',\n",
       " 'abbas',\n",
       " 'mustafa']"
      ]
     },
     "execution_count": 32,
     "metadata": {},
     "output_type": "execute_result"
    }
   ],
   "source": [
    "students_name = ['wajiha','ali','fatima', 'muhammad','rohullah', 'tajdar', 'mustafa']\n",
    "students_name.insert(-1,'abbas')\n",
    "students_name"
   ]
  },
  {
   "cell_type": "code",
   "execution_count": 33,
   "id": "2d7bdced-5acc-4dda-b390-df18376f0f82",
   "metadata": {},
   "outputs": [
    {
     "data": {
      "text/plain": [
       "['wajiha', 'ali', 'fatima', 'muhammad', 'rohullah', 'tajdar', 'abbas']"
      ]
     },
     "execution_count": 33,
     "metadata": {},
     "output_type": "execute_result"
    }
   ],
   "source": [
    "students_name = ['wajiha','ali','fatima', 'muhammad','rohullah', 'tajdar', 'mustafa']\n",
    "students_name[-1]='abbas'\n",
    "students_name"
   ]
  },
  {
   "cell_type": "code",
   "execution_count": 34,
   "id": "4b077742-1401-4f63-9c54-5e237247b199",
   "metadata": {},
   "outputs": [
    {
     "data": {
      "text/plain": [
       "['wajiha',\n",
       " 'ali',\n",
       " 'fatima',\n",
       " 'muhammad',\n",
       " 'rohullah',\n",
       " 'tajdar',\n",
       " 'arifa',\n",
       " 'batool',\n",
       " 'mustafa']"
      ]
     },
     "execution_count": 34,
     "metadata": {},
     "output_type": "execute_result"
    }
   ],
   "source": [
    "students_name = ['wajiha','ali','fatima', 'muhammad','rohullah', 'tajdar', 'mustafa']\n",
    "students_name[-1:-3]= \"arifa\", 'batool'\n",
    "students_name"
   ]
  },
  {
   "cell_type": "code",
   "execution_count": 41,
   "id": "104c99b5-7c86-4225-a8a4-a5ca917293e7",
   "metadata": {},
   "outputs": [
    {
     "data": {
      "text/plain": [
       "['wajiha', 'fatima', 'muhammad', 'rohullah', 'tajdar', 'mustafa']"
      ]
     },
     "execution_count": 41,
     "metadata": {},
     "output_type": "execute_result"
    }
   ],
   "source": [
    "students_name = ['wajiha','ali','fatima', 'muhammad','rohullah', 'tajdar', 'mustafa']\n",
    "del students_name[1]\n",
    "students_name"
   ]
  },
  {
   "cell_type": "code",
   "execution_count": 42,
   "id": "90758323-3fec-4437-9a06-48f0da7b4737",
   "metadata": {},
   "outputs": [],
   "source": [
    "students_name = ['wajiha','ali','fatima', 'muhammad','rohullah', 'tajdar', 'mustafa']\n",
    "del students_name[1:3]"
   ]
  },
  {
   "cell_type": "code",
   "execution_count": 43,
   "id": "f40b7f07-40df-4606-8475-604f345b90fd",
   "metadata": {},
   "outputs": [
    {
     "data": {
      "text/plain": [
       "['wajiha', 'muhammad', 'rohullah', 'tajdar', 'mustafa']"
      ]
     },
     "execution_count": 43,
     "metadata": {},
     "output_type": "execute_result"
    }
   ],
   "source": [
    "students_name"
   ]
  },
  {
   "cell_type": "code",
   "execution_count": 44,
   "id": "a502fc11-ed02-4be2-aa12-493343416daf",
   "metadata": {},
   "outputs": [
    {
     "data": {
      "text/plain": [
       "['wajiha', 'ali', 'muhammad', 'rohullah', 'tajdar', 'mustafa']"
      ]
     },
     "execution_count": 44,
     "metadata": {},
     "output_type": "execute_result"
    }
   ],
   "source": [
    "students_name = ['wajiha','ali','fatima', 'muhammad','rohullah', 'tajdar', 'mustafa']\n",
    "students_name.remove('fatima')\n",
    "students_name"
   ]
  },
  {
   "cell_type": "code",
   "execution_count": 45,
   "id": "f7751940-2e55-4dbe-bd58-3fc527999e50",
   "metadata": {},
   "outputs": [
    {
     "data": {
      "text/plain": [
       "['wajiha', 'ali', 'muhammad', 'rohullah', 'tajdar', 'mustafa']"
      ]
     },
     "execution_count": 45,
     "metadata": {},
     "output_type": "execute_result"
    }
   ],
   "source": [
    "students_name"
   ]
  },
  {
   "cell_type": "code",
   "execution_count": 46,
   "id": "2be134c1-dd25-4625-8af5-b2523e9a52e1",
   "metadata": {},
   "outputs": [
    {
     "data": {
      "text/plain": [
       "['wajiha', 'fatima', 'muhammad', 'rohullah', 'tajdar', 'mustafa']"
      ]
     },
     "execution_count": 46,
     "metadata": {},
     "output_type": "execute_result"
    }
   ],
   "source": [
    "students_name = ['wajiha','ali','fatima', 'muhammad','rohullah', 'tajdar', 'mustafa']\n",
    "students_name.pop(1)\n",
    "students_name"
   ]
  },
  {
   "cell_type": "code",
   "execution_count": 47,
   "id": "06580a4c-85d7-478b-b50c-598ae57aec01",
   "metadata": {},
   "outputs": [
    {
     "data": {
      "text/plain": [
       "[]"
      ]
     },
     "execution_count": 47,
     "metadata": {},
     "output_type": "execute_result"
    }
   ],
   "source": [
    "students_name = ['wajiha','ali','fatima', 'muhammad','rohullah', 'tajdar', 'mustafa']\n",
    "students_name.clear()\n",
    "students_name"
   ]
  },
  {
   "cell_type": "code",
   "execution_count": 48,
   "id": "c09be9e3-8a78-4f14-b28c-0d493a799d8b",
   "metadata": {},
   "outputs": [
    {
     "name": "stdout",
     "output_type": "stream",
     "text": [
      "['wajiha', 'ali', 'fatima', 'muhammad', 'rohullah', 'tajdar', 'mustafa', 'wajiha', 'ali', 'fatima', 'muhammad', 'rohullah', 'tajdar', 'mustafa']\n"
     ]
    }
   ],
   "source": [
    "students_name = ['wajiha','ali','fatima', 'muhammad','rohullah', 'tajdar', 'mustafa']\n",
    "print(students_name*2)"
   ]
  },
  {
   "cell_type": "code",
   "execution_count": null,
   "id": "3db0ca41-3603-4032-a219-1ed0d98ddb6e",
   "metadata": {},
   "outputs": [],
   "source": []
  }
 ],
 "metadata": {
  "kernelspec": {
   "display_name": "Python 3 (ipykernel)",
   "language": "python",
   "name": "python3"
  },
  "language_info": {
   "codemirror_mode": {
    "name": "ipython",
    "version": 3
   },
   "file_extension": ".py",
   "mimetype": "text/x-python",
   "name": "python",
   "nbconvert_exporter": "python",
   "pygments_lexer": "ipython3",
   "version": "3.12.7"
  }
 },
 "nbformat": 4,
 "nbformat_minor": 5
}
